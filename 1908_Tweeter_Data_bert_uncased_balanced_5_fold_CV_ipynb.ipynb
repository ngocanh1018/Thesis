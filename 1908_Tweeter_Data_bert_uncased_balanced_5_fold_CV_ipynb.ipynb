{
  "nbformat": 4,
  "nbformat_minor": 0,
  "metadata": {
    "colab": {
      "name": "1908 Tweeter Data bert uncased- balanced-5-fold CV. ipynb",
      "provenance": [],
      "collapsed_sections": [],
      "authorship_tag": "ABX9TyPMrVr6CYBxTCS2llowzsOp",
      "include_colab_link": true
    },
    "kernelspec": {
      "name": "python3",
      "display_name": "Python 3"
    },
    "widgets": {
      "application/vnd.jupyter.widget-state+json": {
        "85f492545fe5453dab43e651b4c64b92": {
          "model_module": "@jupyter-widgets/controls",
          "model_name": "HBoxModel",
          "state": {
            "_view_name": "HBoxView",
            "_dom_classes": [],
            "_model_name": "HBoxModel",
            "_view_module": "@jupyter-widgets/controls",
            "_model_module_version": "1.5.0",
            "_view_count": null,
            "_view_module_version": "1.5.0",
            "box_style": "",
            "layout": "IPY_MODEL_55d884f1242043dc8d1567d5cc2a41fe",
            "_model_module": "@jupyter-widgets/controls",
            "children": [
              "IPY_MODEL_8ef99517eaa24896b086bfd8e7beaff7",
              "IPY_MODEL_b636bd8b7bc6474d95179b7223395e80"
            ]
          }
        },
        "55d884f1242043dc8d1567d5cc2a41fe": {
          "model_module": "@jupyter-widgets/base",
          "model_name": "LayoutModel",
          "state": {
            "_view_name": "LayoutView",
            "grid_template_rows": null,
            "right": null,
            "justify_content": null,
            "_view_module": "@jupyter-widgets/base",
            "overflow": null,
            "_model_module_version": "1.2.0",
            "_view_count": null,
            "flex_flow": null,
            "width": null,
            "min_width": null,
            "border": null,
            "align_items": null,
            "bottom": null,
            "_model_module": "@jupyter-widgets/base",
            "top": null,
            "grid_column": null,
            "overflow_y": null,
            "overflow_x": null,
            "grid_auto_flow": null,
            "grid_area": null,
            "grid_template_columns": null,
            "flex": null,
            "_model_name": "LayoutModel",
            "justify_items": null,
            "grid_row": null,
            "max_height": null,
            "align_content": null,
            "visibility": null,
            "align_self": null,
            "height": null,
            "min_height": null,
            "padding": null,
            "grid_auto_rows": null,
            "grid_gap": null,
            "max_width": null,
            "order": null,
            "_view_module_version": "1.2.0",
            "grid_template_areas": null,
            "object_position": null,
            "object_fit": null,
            "grid_auto_columns": null,
            "margin": null,
            "display": null,
            "left": null
          }
        },
        "8ef99517eaa24896b086bfd8e7beaff7": {
          "model_module": "@jupyter-widgets/controls",
          "model_name": "FloatProgressModel",
          "state": {
            "_view_name": "ProgressView",
            "style": "IPY_MODEL_4990b2dc60f2493bade50b65e86a8742",
            "_dom_classes": [],
            "description": "Downloading: 100%",
            "_model_name": "FloatProgressModel",
            "bar_style": "success",
            "max": 231508,
            "_view_module": "@jupyter-widgets/controls",
            "_model_module_version": "1.5.0",
            "value": 231508,
            "_view_count": null,
            "_view_module_version": "1.5.0",
            "orientation": "horizontal",
            "min": 0,
            "description_tooltip": null,
            "_model_module": "@jupyter-widgets/controls",
            "layout": "IPY_MODEL_a30c664e683646fea8bbada61e8c02d0"
          }
        },
        "b636bd8b7bc6474d95179b7223395e80": {
          "model_module": "@jupyter-widgets/controls",
          "model_name": "HTMLModel",
          "state": {
            "_view_name": "HTMLView",
            "style": "IPY_MODEL_47fffa9a553e4791996c34a72ad9e8db",
            "_dom_classes": [],
            "description": "",
            "_model_name": "HTMLModel",
            "placeholder": "​",
            "_view_module": "@jupyter-widgets/controls",
            "_model_module_version": "1.5.0",
            "value": " 232k/232k [00:00&lt;00:00, 1.44MB/s]",
            "_view_count": null,
            "_view_module_version": "1.5.0",
            "description_tooltip": null,
            "_model_module": "@jupyter-widgets/controls",
            "layout": "IPY_MODEL_afa27120d9c947e1aa41d451478a8bc1"
          }
        },
        "4990b2dc60f2493bade50b65e86a8742": {
          "model_module": "@jupyter-widgets/controls",
          "model_name": "ProgressStyleModel",
          "state": {
            "_view_name": "StyleView",
            "_model_name": "ProgressStyleModel",
            "description_width": "initial",
            "_view_module": "@jupyter-widgets/base",
            "_model_module_version": "1.5.0",
            "_view_count": null,
            "_view_module_version": "1.2.0",
            "bar_color": null,
            "_model_module": "@jupyter-widgets/controls"
          }
        },
        "a30c664e683646fea8bbada61e8c02d0": {
          "model_module": "@jupyter-widgets/base",
          "model_name": "LayoutModel",
          "state": {
            "_view_name": "LayoutView",
            "grid_template_rows": null,
            "right": null,
            "justify_content": null,
            "_view_module": "@jupyter-widgets/base",
            "overflow": null,
            "_model_module_version": "1.2.0",
            "_view_count": null,
            "flex_flow": null,
            "width": null,
            "min_width": null,
            "border": null,
            "align_items": null,
            "bottom": null,
            "_model_module": "@jupyter-widgets/base",
            "top": null,
            "grid_column": null,
            "overflow_y": null,
            "overflow_x": null,
            "grid_auto_flow": null,
            "grid_area": null,
            "grid_template_columns": null,
            "flex": null,
            "_model_name": "LayoutModel",
            "justify_items": null,
            "grid_row": null,
            "max_height": null,
            "align_content": null,
            "visibility": null,
            "align_self": null,
            "height": null,
            "min_height": null,
            "padding": null,
            "grid_auto_rows": null,
            "grid_gap": null,
            "max_width": null,
            "order": null,
            "_view_module_version": "1.2.0",
            "grid_template_areas": null,
            "object_position": null,
            "object_fit": null,
            "grid_auto_columns": null,
            "margin": null,
            "display": null,
            "left": null
          }
        },
        "47fffa9a553e4791996c34a72ad9e8db": {
          "model_module": "@jupyter-widgets/controls",
          "model_name": "DescriptionStyleModel",
          "state": {
            "_view_name": "StyleView",
            "_model_name": "DescriptionStyleModel",
            "description_width": "",
            "_view_module": "@jupyter-widgets/base",
            "_model_module_version": "1.5.0",
            "_view_count": null,
            "_view_module_version": "1.2.0",
            "_model_module": "@jupyter-widgets/controls"
          }
        },
        "afa27120d9c947e1aa41d451478a8bc1": {
          "model_module": "@jupyter-widgets/base",
          "model_name": "LayoutModel",
          "state": {
            "_view_name": "LayoutView",
            "grid_template_rows": null,
            "right": null,
            "justify_content": null,
            "_view_module": "@jupyter-widgets/base",
            "overflow": null,
            "_model_module_version": "1.2.0",
            "_view_count": null,
            "flex_flow": null,
            "width": null,
            "min_width": null,
            "border": null,
            "align_items": null,
            "bottom": null,
            "_model_module": "@jupyter-widgets/base",
            "top": null,
            "grid_column": null,
            "overflow_y": null,
            "overflow_x": null,
            "grid_auto_flow": null,
            "grid_area": null,
            "grid_template_columns": null,
            "flex": null,
            "_model_name": "LayoutModel",
            "justify_items": null,
            "grid_row": null,
            "max_height": null,
            "align_content": null,
            "visibility": null,
            "align_self": null,
            "height": null,
            "min_height": null,
            "padding": null,
            "grid_auto_rows": null,
            "grid_gap": null,
            "max_width": null,
            "order": null,
            "_view_module_version": "1.2.0",
            "grid_template_areas": null,
            "object_position": null,
            "object_fit": null,
            "grid_auto_columns": null,
            "margin": null,
            "display": null,
            "left": null
          }
        },
        "b14a39ff5ab7441fb38a0d4f501efc66": {
          "model_module": "@jupyter-widgets/controls",
          "model_name": "HBoxModel",
          "state": {
            "_view_name": "HBoxView",
            "_dom_classes": [],
            "_model_name": "HBoxModel",
            "_view_module": "@jupyter-widgets/controls",
            "_model_module_version": "1.5.0",
            "_view_count": null,
            "_view_module_version": "1.5.0",
            "box_style": "",
            "layout": "IPY_MODEL_e3ceee28efc6487a8293245a2836d10b",
            "_model_module": "@jupyter-widgets/controls",
            "children": [
              "IPY_MODEL_f40783b868a740f8a1220e258266aa96",
              "IPY_MODEL_17bf90de7fcf42df9081e9e2deb04de2"
            ]
          }
        },
        "e3ceee28efc6487a8293245a2836d10b": {
          "model_module": "@jupyter-widgets/base",
          "model_name": "LayoutModel",
          "state": {
            "_view_name": "LayoutView",
            "grid_template_rows": null,
            "right": null,
            "justify_content": null,
            "_view_module": "@jupyter-widgets/base",
            "overflow": null,
            "_model_module_version": "1.2.0",
            "_view_count": null,
            "flex_flow": null,
            "width": null,
            "min_width": null,
            "border": null,
            "align_items": null,
            "bottom": null,
            "_model_module": "@jupyter-widgets/base",
            "top": null,
            "grid_column": null,
            "overflow_y": null,
            "overflow_x": null,
            "grid_auto_flow": null,
            "grid_area": null,
            "grid_template_columns": null,
            "flex": null,
            "_model_name": "LayoutModel",
            "justify_items": null,
            "grid_row": null,
            "max_height": null,
            "align_content": null,
            "visibility": null,
            "align_self": null,
            "height": null,
            "min_height": null,
            "padding": null,
            "grid_auto_rows": null,
            "grid_gap": null,
            "max_width": null,
            "order": null,
            "_view_module_version": "1.2.0",
            "grid_template_areas": null,
            "object_position": null,
            "object_fit": null,
            "grid_auto_columns": null,
            "margin": null,
            "display": null,
            "left": null
          }
        },
        "f40783b868a740f8a1220e258266aa96": {
          "model_module": "@jupyter-widgets/controls",
          "model_name": "FloatProgressModel",
          "state": {
            "_view_name": "ProgressView",
            "style": "IPY_MODEL_7687895f7c6f4568891c5982a6364a6d",
            "_dom_classes": [],
            "description": "Downloading: 100%",
            "_model_name": "FloatProgressModel",
            "bar_style": "success",
            "max": 433,
            "_view_module": "@jupyter-widgets/controls",
            "_model_module_version": "1.5.0",
            "value": 433,
            "_view_count": null,
            "_view_module_version": "1.5.0",
            "orientation": "horizontal",
            "min": 0,
            "description_tooltip": null,
            "_model_module": "@jupyter-widgets/controls",
            "layout": "IPY_MODEL_c4f63607e7d743aeab41375af2eb9f97"
          }
        },
        "17bf90de7fcf42df9081e9e2deb04de2": {
          "model_module": "@jupyter-widgets/controls",
          "model_name": "HTMLModel",
          "state": {
            "_view_name": "HTMLView",
            "style": "IPY_MODEL_83199038d13c4117a79375cbeafefd4d",
            "_dom_classes": [],
            "description": "",
            "_model_name": "HTMLModel",
            "placeholder": "​",
            "_view_module": "@jupyter-widgets/controls",
            "_model_module_version": "1.5.0",
            "value": " 433/433 [00:07&lt;00:00, 57.4B/s]",
            "_view_count": null,
            "_view_module_version": "1.5.0",
            "description_tooltip": null,
            "_model_module": "@jupyter-widgets/controls",
            "layout": "IPY_MODEL_e5bf2ef36a2d488e93226302ce91ec67"
          }
        },
        "7687895f7c6f4568891c5982a6364a6d": {
          "model_module": "@jupyter-widgets/controls",
          "model_name": "ProgressStyleModel",
          "state": {
            "_view_name": "StyleView",
            "_model_name": "ProgressStyleModel",
            "description_width": "initial",
            "_view_module": "@jupyter-widgets/base",
            "_model_module_version": "1.5.0",
            "_view_count": null,
            "_view_module_version": "1.2.0",
            "bar_color": null,
            "_model_module": "@jupyter-widgets/controls"
          }
        },
        "c4f63607e7d743aeab41375af2eb9f97": {
          "model_module": "@jupyter-widgets/base",
          "model_name": "LayoutModel",
          "state": {
            "_view_name": "LayoutView",
            "grid_template_rows": null,
            "right": null,
            "justify_content": null,
            "_view_module": "@jupyter-widgets/base",
            "overflow": null,
            "_model_module_version": "1.2.0",
            "_view_count": null,
            "flex_flow": null,
            "width": null,
            "min_width": null,
            "border": null,
            "align_items": null,
            "bottom": null,
            "_model_module": "@jupyter-widgets/base",
            "top": null,
            "grid_column": null,
            "overflow_y": null,
            "overflow_x": null,
            "grid_auto_flow": null,
            "grid_area": null,
            "grid_template_columns": null,
            "flex": null,
            "_model_name": "LayoutModel",
            "justify_items": null,
            "grid_row": null,
            "max_height": null,
            "align_content": null,
            "visibility": null,
            "align_self": null,
            "height": null,
            "min_height": null,
            "padding": null,
            "grid_auto_rows": null,
            "grid_gap": null,
            "max_width": null,
            "order": null,
            "_view_module_version": "1.2.0",
            "grid_template_areas": null,
            "object_position": null,
            "object_fit": null,
            "grid_auto_columns": null,
            "margin": null,
            "display": null,
            "left": null
          }
        },
        "83199038d13c4117a79375cbeafefd4d": {
          "model_module": "@jupyter-widgets/controls",
          "model_name": "DescriptionStyleModel",
          "state": {
            "_view_name": "StyleView",
            "_model_name": "DescriptionStyleModel",
            "description_width": "",
            "_view_module": "@jupyter-widgets/base",
            "_model_module_version": "1.5.0",
            "_view_count": null,
            "_view_module_version": "1.2.0",
            "_model_module": "@jupyter-widgets/controls"
          }
        },
        "e5bf2ef36a2d488e93226302ce91ec67": {
          "model_module": "@jupyter-widgets/base",
          "model_name": "LayoutModel",
          "state": {
            "_view_name": "LayoutView",
            "grid_template_rows": null,
            "right": null,
            "justify_content": null,
            "_view_module": "@jupyter-widgets/base",
            "overflow": null,
            "_model_module_version": "1.2.0",
            "_view_count": null,
            "flex_flow": null,
            "width": null,
            "min_width": null,
            "border": null,
            "align_items": null,
            "bottom": null,
            "_model_module": "@jupyter-widgets/base",
            "top": null,
            "grid_column": null,
            "overflow_y": null,
            "overflow_x": null,
            "grid_auto_flow": null,
            "grid_area": null,
            "grid_template_columns": null,
            "flex": null,
            "_model_name": "LayoutModel",
            "justify_items": null,
            "grid_row": null,
            "max_height": null,
            "align_content": null,
            "visibility": null,
            "align_self": null,
            "height": null,
            "min_height": null,
            "padding": null,
            "grid_auto_rows": null,
            "grid_gap": null,
            "max_width": null,
            "order": null,
            "_view_module_version": "1.2.0",
            "grid_template_areas": null,
            "object_position": null,
            "object_fit": null,
            "grid_auto_columns": null,
            "margin": null,
            "display": null,
            "left": null
          }
        },
        "bb9f945c5e814b88ab05d8681bf33f7e": {
          "model_module": "@jupyter-widgets/controls",
          "model_name": "HBoxModel",
          "state": {
            "_view_name": "HBoxView",
            "_dom_classes": [],
            "_model_name": "HBoxModel",
            "_view_module": "@jupyter-widgets/controls",
            "_model_module_version": "1.5.0",
            "_view_count": null,
            "_view_module_version": "1.5.0",
            "box_style": "",
            "layout": "IPY_MODEL_797d321e3fff48f988a307f2c61aa9ca",
            "_model_module": "@jupyter-widgets/controls",
            "children": [
              "IPY_MODEL_fee0f28845994cc197a48a53acd2df94",
              "IPY_MODEL_9bbefb898b4346aeb0164f4a35294d7f"
            ]
          }
        },
        "797d321e3fff48f988a307f2c61aa9ca": {
          "model_module": "@jupyter-widgets/base",
          "model_name": "LayoutModel",
          "state": {
            "_view_name": "LayoutView",
            "grid_template_rows": null,
            "right": null,
            "justify_content": null,
            "_view_module": "@jupyter-widgets/base",
            "overflow": null,
            "_model_module_version": "1.2.0",
            "_view_count": null,
            "flex_flow": null,
            "width": null,
            "min_width": null,
            "border": null,
            "align_items": null,
            "bottom": null,
            "_model_module": "@jupyter-widgets/base",
            "top": null,
            "grid_column": null,
            "overflow_y": null,
            "overflow_x": null,
            "grid_auto_flow": null,
            "grid_area": null,
            "grid_template_columns": null,
            "flex": null,
            "_model_name": "LayoutModel",
            "justify_items": null,
            "grid_row": null,
            "max_height": null,
            "align_content": null,
            "visibility": null,
            "align_self": null,
            "height": null,
            "min_height": null,
            "padding": null,
            "grid_auto_rows": null,
            "grid_gap": null,
            "max_width": null,
            "order": null,
            "_view_module_version": "1.2.0",
            "grid_template_areas": null,
            "object_position": null,
            "object_fit": null,
            "grid_auto_columns": null,
            "margin": null,
            "display": null,
            "left": null
          }
        },
        "fee0f28845994cc197a48a53acd2df94": {
          "model_module": "@jupyter-widgets/controls",
          "model_name": "FloatProgressModel",
          "state": {
            "_view_name": "ProgressView",
            "style": "IPY_MODEL_91b23500779845d99df979064e973469",
            "_dom_classes": [],
            "description": "Downloading: 100%",
            "_model_name": "FloatProgressModel",
            "bar_style": "success",
            "max": 440473133,
            "_view_module": "@jupyter-widgets/controls",
            "_model_module_version": "1.5.0",
            "value": 440473133,
            "_view_count": null,
            "_view_module_version": "1.5.0",
            "orientation": "horizontal",
            "min": 0,
            "description_tooltip": null,
            "_model_module": "@jupyter-widgets/controls",
            "layout": "IPY_MODEL_5c78b98926de4d729e6496732fdf5bdc"
          }
        },
        "9bbefb898b4346aeb0164f4a35294d7f": {
          "model_module": "@jupyter-widgets/controls",
          "model_name": "HTMLModel",
          "state": {
            "_view_name": "HTMLView",
            "style": "IPY_MODEL_b672e36aaf314604a4489942098baa94",
            "_dom_classes": [],
            "description": "",
            "_model_name": "HTMLModel",
            "placeholder": "​",
            "_view_module": "@jupyter-widgets/controls",
            "_model_module_version": "1.5.0",
            "value": " 440M/440M [00:07&lt;00:00, 61.3MB/s]",
            "_view_count": null,
            "_view_module_version": "1.5.0",
            "description_tooltip": null,
            "_model_module": "@jupyter-widgets/controls",
            "layout": "IPY_MODEL_3bc6edb38e7b4234b4ebee4b3cbf1eb3"
          }
        },
        "91b23500779845d99df979064e973469": {
          "model_module": "@jupyter-widgets/controls",
          "model_name": "ProgressStyleModel",
          "state": {
            "_view_name": "StyleView",
            "_model_name": "ProgressStyleModel",
            "description_width": "initial",
            "_view_module": "@jupyter-widgets/base",
            "_model_module_version": "1.5.0",
            "_view_count": null,
            "_view_module_version": "1.2.0",
            "bar_color": null,
            "_model_module": "@jupyter-widgets/controls"
          }
        },
        "5c78b98926de4d729e6496732fdf5bdc": {
          "model_module": "@jupyter-widgets/base",
          "model_name": "LayoutModel",
          "state": {
            "_view_name": "LayoutView",
            "grid_template_rows": null,
            "right": null,
            "justify_content": null,
            "_view_module": "@jupyter-widgets/base",
            "overflow": null,
            "_model_module_version": "1.2.0",
            "_view_count": null,
            "flex_flow": null,
            "width": null,
            "min_width": null,
            "border": null,
            "align_items": null,
            "bottom": null,
            "_model_module": "@jupyter-widgets/base",
            "top": null,
            "grid_column": null,
            "overflow_y": null,
            "overflow_x": null,
            "grid_auto_flow": null,
            "grid_area": null,
            "grid_template_columns": null,
            "flex": null,
            "_model_name": "LayoutModel",
            "justify_items": null,
            "grid_row": null,
            "max_height": null,
            "align_content": null,
            "visibility": null,
            "align_self": null,
            "height": null,
            "min_height": null,
            "padding": null,
            "grid_auto_rows": null,
            "grid_gap": null,
            "max_width": null,
            "order": null,
            "_view_module_version": "1.2.0",
            "grid_template_areas": null,
            "object_position": null,
            "object_fit": null,
            "grid_auto_columns": null,
            "margin": null,
            "display": null,
            "left": null
          }
        },
        "b672e36aaf314604a4489942098baa94": {
          "model_module": "@jupyter-widgets/controls",
          "model_name": "DescriptionStyleModel",
          "state": {
            "_view_name": "StyleView",
            "_model_name": "DescriptionStyleModel",
            "description_width": "",
            "_view_module": "@jupyter-widgets/base",
            "_model_module_version": "1.5.0",
            "_view_count": null,
            "_view_module_version": "1.2.0",
            "_model_module": "@jupyter-widgets/controls"
          }
        },
        "3bc6edb38e7b4234b4ebee4b3cbf1eb3": {
          "model_module": "@jupyter-widgets/base",
          "model_name": "LayoutModel",
          "state": {
            "_view_name": "LayoutView",
            "grid_template_rows": null,
            "right": null,
            "justify_content": null,
            "_view_module": "@jupyter-widgets/base",
            "overflow": null,
            "_model_module_version": "1.2.0",
            "_view_count": null,
            "flex_flow": null,
            "width": null,
            "min_width": null,
            "border": null,
            "align_items": null,
            "bottom": null,
            "_model_module": "@jupyter-widgets/base",
            "top": null,
            "grid_column": null,
            "overflow_y": null,
            "overflow_x": null,
            "grid_auto_flow": null,
            "grid_area": null,
            "grid_template_columns": null,
            "flex": null,
            "_model_name": "LayoutModel",
            "justify_items": null,
            "grid_row": null,
            "max_height": null,
            "align_content": null,
            "visibility": null,
            "align_self": null,
            "height": null,
            "min_height": null,
            "padding": null,
            "grid_auto_rows": null,
            "grid_gap": null,
            "max_width": null,
            "order": null,
            "_view_module_version": "1.2.0",
            "grid_template_areas": null,
            "object_position": null,
            "object_fit": null,
            "grid_auto_columns": null,
            "margin": null,
            "display": null,
            "left": null
          }
        }
      }
    }
  },
  "cells": [
    {
      "cell_type": "markdown",
      "metadata": {
        "id": "view-in-github",
        "colab_type": "text"
      },
      "source": [
        "<a href=\"https://colab.research.google.com/github/ngocanh1018/Thesis/blob/master/1908_Tweeter_Data_bert_uncased_balanced_5_fold_CV_ipynb.ipynb\" target=\"_parent\"><img src=\"https://colab.research.google.com/assets/colab-badge.svg\" alt=\"Open In Colab\"/></a>"
      ]
    },
    {
      "cell_type": "markdown",
      "metadata": {
        "id": "A6JkMn1nSvoZ",
        "colab_type": "text"
      },
      "source": [
        ""
      ]
    },
    {
      "cell_type": "markdown",
      "metadata": {
        "id": "tm3FwxCQUHDu",
        "colab_type": "text"
      },
      "source": [
        "# Tweeter Data"
      ]
    },
    {
      "cell_type": "code",
      "metadata": {
        "id": "V88T_STk3nxP",
        "colab_type": "code",
        "colab": {
          "base_uri": "https://localhost:8080/",
          "height": 195
        },
        "outputId": "88314d84-7667-4bcc-8d7e-c01dc55dd165"
      },
      "source": [
        "!pip install GetOldTweets3\n"
      ],
      "execution_count": null,
      "outputs": [
        {
          "output_type": "stream",
          "text": [
            "Collecting GetOldTweets3\n",
            "  Downloading https://files.pythonhosted.org/packages/ed/f4/a00c2a7c90801abc875325bb5416ce9090ac86d06a00cc887131bd73ba45/GetOldTweets3-0.0.11-py3-none-any.whl\n",
            "Collecting pyquery>=1.2.10\n",
            "  Downloading https://files.pythonhosted.org/packages/78/43/95d42e386c61cb639d1a0b94f0c0b9f0b7d6b981ad3c043a836c8b5bc68b/pyquery-1.4.1-py2.py3-none-any.whl\n",
            "Requirement already satisfied: lxml>=3.5.0 in /usr/local/lib/python3.6/dist-packages (from GetOldTweets3) (4.2.6)\n",
            "Collecting cssselect>0.7.9\n",
            "  Downloading https://files.pythonhosted.org/packages/3b/d4/3b5c17f00cce85b9a1e6f91096e1cc8e8ede2e1be8e96b87ce1ed09e92c5/cssselect-1.1.0-py2.py3-none-any.whl\n",
            "Installing collected packages: cssselect, pyquery, GetOldTweets3\n",
            "Successfully installed GetOldTweets3-0.0.11 cssselect-1.1.0 pyquery-1.4.1\n"
          ],
          "name": "stdout"
        }
      ]
    },
    {
      "cell_type": "code",
      "metadata": {
        "id": "xRs4zpez5cmP",
        "colab_type": "code",
        "colab": {}
      },
      "source": [
        "import GetOldTweets3 as got\n"
      ],
      "execution_count": null,
      "outputs": []
    },
    {
      "cell_type": "code",
      "metadata": {
        "id": "9tvz557M7qJL",
        "colab_type": "code",
        "colab": {}
      },
      "source": [
        "def get_tweets(query, start_date, end_date):\n",
        "   \n",
        "    # specifying tweet search criteria \n",
        "    tweetCriteria = got.manager.TweetCriteria()\\\n",
        "                          .setQuerySearch(query)\\\n",
        "                          .setSince(start_date)\\\n",
        "                          .setUntil(end_date)\\\n",
        "                              \n",
        "    # scraping tweets based on criteria\n",
        "    tweet = got.manager.TweetManager.getTweets(tweetCriteria)\n",
        "    \n",
        "    # creating list of tweets with the tweet attributes \n",
        "    # specified in the list comprehension\n",
        "    text_tweets = [[tw.text,\n",
        "                tw.date,\n",
        "                tw.retweets,\n",
        "                tw.favorites,\n",
        "                tw.mentions,\n",
        "                tw.hashtags] for tw in tweet]\n",
        "    \n",
        "    # creating dataframe, assigning column names to list of\n",
        "    # tweets corresponding to tweet attributes\n",
        "    news_df = pd.DataFrame(text_tweets, \n",
        "                            columns = ['Text','Date','Favorites', 'Retweets', 'Mentions', 'HashTags'])\n",
        "    \n",
        "    return news_df"
      ],
      "execution_count": null,
      "outputs": []
    },
    {
      "cell_type": "markdown",
      "metadata": {
        "id": "QappmpsYTInd",
        "colab_type": "text"
      },
      "source": [
        "Downloadn tweets that contains 3 words \"DJI\",\"stock\" and \"market\" from 01-03-2020 to 31-05-2020"
      ]
    },
    {
      "cell_type": "code",
      "metadata": {
        "id": "P8S-_9baBcSB",
        "colab_type": "code",
        "colab": {}
      },
      "source": [
        "df= get_tweets('DJI stock market', '2020-03-01', '2020-06-01')"
      ],
      "execution_count": null,
      "outputs": []
    },
    {
      "cell_type": "markdown",
      "metadata": {
        "id": "CLZTuSAET4Bs",
        "colab_type": "text"
      },
      "source": [
        "Save the collected data to a csv file"
      ]
    },
    {
      "cell_type": "code",
      "metadata": {
        "id": "dAAjQmJWCdpz",
        "colab_type": "code",
        "colab": {}
      },
      "source": [
        "df.to_csv('tweet_data.csv')"
      ],
      "execution_count": null,
      "outputs": []
    },
    {
      "cell_type": "markdown",
      "metadata": {
        "id": "HB4PJW3nUXGJ",
        "colab_type": "text"
      },
      "source": [
        "# Stock Data"
      ]
    },
    {
      "cell_type": "code",
      "metadata": {
        "id": "ueLRt5uxUmLW",
        "colab_type": "code",
        "colab": {}
      },
      "source": [
        "import pandas as pd\n",
        "from pandas_datareader import data\n",
        "\n",
        "start_date = '2020-02-28'\n",
        "end_date = '2020-06-01'\n",
        "\n",
        "ticker = '^DJI'\n",
        "\n",
        "#download data of Down Jones Industrial Index from 28-02-2020 to 31-05.2020\n",
        "data = data.get_data_yahoo(ticker, start_date, end_date)\n",
        "\n",
        "#save the output to an csv file\n",
        "data.to_csv('DJI_data.csv')"
      ],
      "execution_count": null,
      "outputs": []
    },
    {
      "cell_type": "markdown",
      "metadata": {
        "id": "aQIR7WTWVU4h",
        "colab_type": "text"
      },
      "source": [
        "# Environment Setup"
      ]
    },
    {
      "cell_type": "code",
      "metadata": {
        "id": "lpCLT-OHD5Ae",
        "colab_type": "code",
        "colab": {
          "base_uri": "https://localhost:8080/",
          "height": 670
        },
        "outputId": "14eb07e7-e4e0-4c13-a9c5-c80188c32b44"
      },
      "source": [
        "pip install transformers[torch]"
      ],
      "execution_count": 8,
      "outputs": [
        {
          "output_type": "stream",
          "text": [
            "Collecting transformers[torch]\n",
            "\u001b[?25l  Downloading https://files.pythonhosted.org/packages/27/3c/91ed8f5c4e7ef3227b4119200fc0ed4b4fd965b1f0172021c25701087825/transformers-3.0.2-py3-none-any.whl (769kB)\n",
            "\r\u001b[K     |▍                               | 10kB 13.1MB/s eta 0:00:01\r\u001b[K     |▉                               | 20kB 2.2MB/s eta 0:00:01\r\u001b[K     |█▎                              | 30kB 2.4MB/s eta 0:00:01\r\u001b[K     |█▊                              | 40kB 2.8MB/s eta 0:00:01\r\u001b[K     |██▏                             | 51kB 2.5MB/s eta 0:00:01\r\u001b[K     |██▋                             | 61kB 2.8MB/s eta 0:00:01\r\u001b[K     |███                             | 71kB 3.1MB/s eta 0:00:01\r\u001b[K     |███▍                            | 81kB 3.2MB/s eta 0:00:01\r\u001b[K     |███▉                            | 92kB 3.1MB/s eta 0:00:01\r\u001b[K     |████▎                           | 102kB 3.3MB/s eta 0:00:01\r\u001b[K     |████▊                           | 112kB 3.3MB/s eta 0:00:01\r\u001b[K     |█████▏                          | 122kB 3.3MB/s eta 0:00:01\r\u001b[K     |█████▌                          | 133kB 3.3MB/s eta 0:00:01\r\u001b[K     |██████                          | 143kB 3.3MB/s eta 0:00:01\r\u001b[K     |██████▍                         | 153kB 3.3MB/s eta 0:00:01\r\u001b[K     |██████▉                         | 163kB 3.3MB/s eta 0:00:01\r\u001b[K     |███████▎                        | 174kB 3.3MB/s eta 0:00:01\r\u001b[K     |███████▊                        | 184kB 3.3MB/s eta 0:00:01\r\u001b[K     |████████                        | 194kB 3.3MB/s eta 0:00:01\r\u001b[K     |████████▌                       | 204kB 3.3MB/s eta 0:00:01\r\u001b[K     |█████████                       | 215kB 3.3MB/s eta 0:00:01\r\u001b[K     |█████████▍                      | 225kB 3.3MB/s eta 0:00:01\r\u001b[K     |█████████▉                      | 235kB 3.3MB/s eta 0:00:01\r\u001b[K     |██████████▎                     | 245kB 3.3MB/s eta 0:00:01\r\u001b[K     |██████████▋                     | 256kB 3.3MB/s eta 0:00:01\r\u001b[K     |███████████                     | 266kB 3.3MB/s eta 0:00:01\r\u001b[K     |███████████▌                    | 276kB 3.3MB/s eta 0:00:01\r\u001b[K     |████████████                    | 286kB 3.3MB/s eta 0:00:01\r\u001b[K     |████████████▍                   | 296kB 3.3MB/s eta 0:00:01\r\u001b[K     |████████████▉                   | 307kB 3.3MB/s eta 0:00:01\r\u001b[K     |█████████████▏                  | 317kB 3.3MB/s eta 0:00:01\r\u001b[K     |█████████████▋                  | 327kB 3.3MB/s eta 0:00:01\r\u001b[K     |██████████████                  | 337kB 3.3MB/s eta 0:00:01\r\u001b[K     |██████████████▌                 | 348kB 3.3MB/s eta 0:00:01\r\u001b[K     |███████████████                 | 358kB 3.3MB/s eta 0:00:01\r\u001b[K     |███████████████▍                | 368kB 3.3MB/s eta 0:00:01\r\u001b[K     |███████████████▊                | 378kB 3.3MB/s eta 0:00:01\r\u001b[K     |████████████████▏               | 389kB 3.3MB/s eta 0:00:01\r\u001b[K     |████████████████▋               | 399kB 3.3MB/s eta 0:00:01\r\u001b[K     |█████████████████               | 409kB 3.3MB/s eta 0:00:01\r\u001b[K     |█████████████████▌              | 419kB 3.3MB/s eta 0:00:01\r\u001b[K     |██████████████████              | 430kB 3.3MB/s eta 0:00:01\r\u001b[K     |██████████████████▎             | 440kB 3.3MB/s eta 0:00:01\r\u001b[K     |██████████████████▊             | 450kB 3.3MB/s eta 0:00:01\r\u001b[K     |███████████████████▏            | 460kB 3.3MB/s eta 0:00:01\r\u001b[K     |███████████████████▋            | 471kB 3.3MB/s eta 0:00:01\r\u001b[K     |████████████████████            | 481kB 3.3MB/s eta 0:00:01\r\u001b[K     |████████████████████▌           | 491kB 3.3MB/s eta 0:00:01\r\u001b[K     |████████████████████▉           | 501kB 3.3MB/s eta 0:00:01\r\u001b[K     |█████████████████████▎          | 512kB 3.3MB/s eta 0:00:01\r\u001b[K     |█████████████████████▊          | 522kB 3.3MB/s eta 0:00:01\r\u001b[K     |██████████████████████▏         | 532kB 3.3MB/s eta 0:00:01\r\u001b[K     |██████████████████████▋         | 542kB 3.3MB/s eta 0:00:01\r\u001b[K     |███████████████████████         | 552kB 3.3MB/s eta 0:00:01\r\u001b[K     |███████████████████████▍        | 563kB 3.3MB/s eta 0:00:01\r\u001b[K     |███████████████████████▉        | 573kB 3.3MB/s eta 0:00:01\r\u001b[K     |████████████████████████▎       | 583kB 3.3MB/s eta 0:00:01\r\u001b[K     |████████████████████████▊       | 593kB 3.3MB/s eta 0:00:01\r\u001b[K     |█████████████████████████▏      | 604kB 3.3MB/s eta 0:00:01\r\u001b[K     |█████████████████████████▋      | 614kB 3.3MB/s eta 0:00:01\r\u001b[K     |██████████████████████████      | 624kB 3.3MB/s eta 0:00:01\r\u001b[K     |██████████████████████████▍     | 634kB 3.3MB/s eta 0:00:01\r\u001b[K     |██████████████████████████▉     | 645kB 3.3MB/s eta 0:00:01\r\u001b[K     |███████████████████████████▎    | 655kB 3.3MB/s eta 0:00:01\r\u001b[K     |███████████████████████████▊    | 665kB 3.3MB/s eta 0:00:01\r\u001b[K     |████████████████████████████▏   | 675kB 3.3MB/s eta 0:00:01\r\u001b[K     |████████████████████████████▌   | 686kB 3.3MB/s eta 0:00:01\r\u001b[K     |█████████████████████████████   | 696kB 3.3MB/s eta 0:00:01\r\u001b[K     |█████████████████████████████▍  | 706kB 3.3MB/s eta 0:00:01\r\u001b[K     |█████████████████████████████▉  | 716kB 3.3MB/s eta 0:00:01\r\u001b[K     |██████████████████████████████▎ | 727kB 3.3MB/s eta 0:00:01\r\u001b[K     |██████████████████████████████▊ | 737kB 3.3MB/s eta 0:00:01\r\u001b[K     |███████████████████████████████ | 747kB 3.3MB/s eta 0:00:01\r\u001b[K     |███████████████████████████████▌| 757kB 3.3MB/s eta 0:00:01\r\u001b[K     |████████████████████████████████| 768kB 3.3MB/s eta 0:00:01\r\u001b[K     |████████████████████████████████| 778kB 3.3MB/s \n",
            "\u001b[?25hRequirement already satisfied: tqdm>=4.27 in /usr/local/lib/python3.6/dist-packages (from transformers[torch]) (4.41.1)\n",
            "Collecting sacremoses\n",
            "\u001b[?25l  Downloading https://files.pythonhosted.org/packages/7d/34/09d19aff26edcc8eb2a01bed8e98f13a1537005d31e95233fd48216eed10/sacremoses-0.0.43.tar.gz (883kB)\n",
            "\u001b[K     |████████████████████████████████| 890kB 9.0MB/s \n",
            "\u001b[?25hCollecting sentencepiece!=0.1.92\n",
            "\u001b[?25l  Downloading https://files.pythonhosted.org/packages/d4/a4/d0a884c4300004a78cca907a6ff9a5e9fe4f090f5d95ab341c53d28cbc58/sentencepiece-0.1.91-cp36-cp36m-manylinux1_x86_64.whl (1.1MB)\n",
            "\u001b[K     |████████████████████████████████| 1.1MB 15.3MB/s \n",
            "\u001b[?25hRequirement already satisfied: packaging in /usr/local/lib/python3.6/dist-packages (from transformers[torch]) (20.4)\n",
            "Collecting tokenizers==0.8.1.rc1\n",
            "\u001b[?25l  Downloading https://files.pythonhosted.org/packages/40/d0/30d5f8d221a0ed981a186c8eb986ce1c94e3a6e87f994eae9f4aa5250217/tokenizers-0.8.1rc1-cp36-cp36m-manylinux1_x86_64.whl (3.0MB)\n",
            "\u001b[K     |████████████████████████████████| 3.0MB 24.7MB/s \n",
            "\u001b[?25hRequirement already satisfied: dataclasses; python_version < \"3.7\" in /usr/local/lib/python3.6/dist-packages (from transformers[torch]) (0.7)\n",
            "Requirement already satisfied: regex!=2019.12.17 in /usr/local/lib/python3.6/dist-packages (from transformers[torch]) (2019.12.20)\n",
            "Requirement already satisfied: numpy in /usr/local/lib/python3.6/dist-packages (from transformers[torch]) (1.18.5)\n",
            "Requirement already satisfied: requests in /usr/local/lib/python3.6/dist-packages (from transformers[torch]) (2.23.0)\n",
            "Requirement already satisfied: filelock in /usr/local/lib/python3.6/dist-packages (from transformers[torch]) (3.0.12)\n",
            "Requirement already satisfied: torch; extra == \"torch\" in /usr/local/lib/python3.6/dist-packages (from transformers[torch]) (1.6.0+cu101)\n",
            "Requirement already satisfied: six in /usr/local/lib/python3.6/dist-packages (from sacremoses->transformers[torch]) (1.15.0)\n",
            "Requirement already satisfied: click in /usr/local/lib/python3.6/dist-packages (from sacremoses->transformers[torch]) (7.1.2)\n",
            "Requirement already satisfied: joblib in /usr/local/lib/python3.6/dist-packages (from sacremoses->transformers[torch]) (0.16.0)\n",
            "Requirement already satisfied: pyparsing>=2.0.2 in /usr/local/lib/python3.6/dist-packages (from packaging->transformers[torch]) (2.4.7)\n",
            "Requirement already satisfied: chardet<4,>=3.0.2 in /usr/local/lib/python3.6/dist-packages (from requests->transformers[torch]) (3.0.4)\n",
            "Requirement already satisfied: idna<3,>=2.5 in /usr/local/lib/python3.6/dist-packages (from requests->transformers[torch]) (2.10)\n",
            "Requirement already satisfied: certifi>=2017.4.17 in /usr/local/lib/python3.6/dist-packages (from requests->transformers[torch]) (2020.6.20)\n",
            "Requirement already satisfied: urllib3!=1.25.0,!=1.25.1,<1.26,>=1.21.1 in /usr/local/lib/python3.6/dist-packages (from requests->transformers[torch]) (1.24.3)\n",
            "Requirement already satisfied: future in /usr/local/lib/python3.6/dist-packages (from torch; extra == \"torch\"->transformers[torch]) (0.16.0)\n",
            "Building wheels for collected packages: sacremoses\n",
            "  Building wheel for sacremoses (setup.py) ... \u001b[?25l\u001b[?25hdone\n",
            "  Created wheel for sacremoses: filename=sacremoses-0.0.43-cp36-none-any.whl size=893260 sha256=fd635ad2e0436b1f84047063cbb412b08c381c43612e5f3633ac4b790adf4fa1\n",
            "  Stored in directory: /root/.cache/pip/wheels/29/3c/fd/7ce5c3f0666dab31a50123635e6fb5e19ceb42ce38d4e58f45\n",
            "Successfully built sacremoses\n",
            "Installing collected packages: sacremoses, sentencepiece, tokenizers, transformers\n",
            "Successfully installed sacremoses-0.0.43 sentencepiece-0.1.91 tokenizers-0.8.1rc1 transformers-3.0.2\n"
          ],
          "name": "stdout"
        }
      ]
    },
    {
      "cell_type": "code",
      "metadata": {
        "id": "lsXCuwx5NZvQ",
        "colab_type": "code",
        "colab": {}
      },
      "source": [
        "!pip install -q -U watermark"
      ],
      "execution_count": 9,
      "outputs": []
    },
    {
      "cell_type": "code",
      "metadata": {
        "id": "JxV8sqYrL8Y_",
        "colab_type": "code",
        "colab": {
          "base_uri": "https://localhost:8080/",
          "height": 140
        },
        "outputId": "d136c813-49db-4208-fd2f-0a80cd8ccaa9"
      },
      "source": [
        "%reload_ext watermark\n",
        "%watermark -v -p numpy,pandas,torch,transformers"
      ],
      "execution_count": 10,
      "outputs": [
        {
          "output_type": "stream",
          "text": [
            "CPython 3.6.9\n",
            "IPython 5.5.0\n",
            "\n",
            "numpy 1.18.5\n",
            "pandas 1.0.5\n",
            "torch 1.6.0+cu101\n",
            "transformers 3.0.2\n"
          ],
          "name": "stdout"
        }
      ]
    },
    {
      "cell_type": "code",
      "metadata": {
        "id": "u9QA3CkTNsaS",
        "colab_type": "code",
        "colab": {
          "base_uri": "https://localhost:8080/",
          "height": 72
        },
        "outputId": "51d7c1d2-b192-492f-ff37-b29eec3c5537"
      },
      "source": [
        "import transformers\n",
        "from transformers import BertModel, BertForSequenceClassification, BertTokenizer, AdamW, get_linear_schedule_with_warmup\n",
        "import torch\n",
        "import numpy as np\n",
        "import pandas as pd\n",
        "import io\n",
        "import requests\n",
        "import seaborn as sns\n",
        "from pylab import rcParams\n",
        "import matplotlib.pyplot as plt\n",
        "from matplotlib import rc\n",
        "from sklearn.model_selection import train_test_split, KFold\n",
        "from sklearn.metrics import confusion_matrix, classification_report, precision_recall_fscore_support\n",
        "from collections import defaultdict\n",
        "from textwrap import wrap\n",
        "from torch import nn, optim\n",
        "from torch.utils.data import Dataset, DataLoader\n",
        "import torch.nn.functional as F\n",
        "%matplotlib inline\n",
        "%config InlineBackend.figure_format='retina'\n",
        "sns.set(style='whitegrid', palette='muted', font_scale=1.2)\n",
        "HAPPY_COLORS_PALETTE = [\"#01BEFE\", \"#FFDD00\", \"#FF7D00\", \"#FF006D\", \"#ADFF02\", \"#8F00FF\"]\n",
        "sns.set_palette(sns.color_palette(HAPPY_COLORS_PALETTE))\n",
        "rcParams['figure.figsize'] = 12, 8\n",
        "RANDOM_SEED = 42\n",
        "np.random.seed(RANDOM_SEED)\n",
        "torch.manual_seed(RANDOM_SEED)\n",
        "device = torch.device(\"cuda:0\" if torch.cuda.is_available() else \"cpu\")"
      ],
      "execution_count": 11,
      "outputs": [
        {
          "output_type": "stream",
          "text": [
            "/usr/local/lib/python3.6/dist-packages/statsmodels/tools/_testing.py:19: FutureWarning: pandas.util.testing is deprecated. Use the functions in the public API at pandas.testing instead.\n",
            "  import pandas.util.testing as tm\n"
          ],
          "name": "stderr"
        }
      ]
    },
    {
      "cell_type": "markdown",
      "metadata": {
        "id": "34XASXwJXQVh",
        "colab_type": "text"
      },
      "source": [
        "# Data Exploration"
      ]
    },
    {
      "cell_type": "code",
      "metadata": {
        "id": "qQ5o3tjKDjTn",
        "colab_type": "code",
        "colab": {}
      },
      "source": [
        "#Download tweet data after labelling from Github repository  \n",
        "url=\"https://raw.githubusercontent.com/ngocanh1018/Thesis/master/data1808_balanced_135.csv\"\n",
        "\n",
        "df=pd.read_csv(url)"
      ],
      "execution_count": 12,
      "outputs": []
    },
    {
      "cell_type": "code",
      "metadata": {
        "id": "LNajWSkhGADW",
        "colab_type": "code",
        "colab": {
          "base_uri": "https://localhost:8080/",
          "height": 34
        },
        "outputId": "b086070f-e225-4a42-8542-ce6b216d3163"
      },
      "source": [
        "df.shape"
      ],
      "execution_count": 13,
      "outputs": [
        {
          "output_type": "execute_result",
          "data": {
            "text/plain": [
              "(405, 8)"
            ]
          },
          "metadata": {
            "tags": []
          },
          "execution_count": 13
        }
      ]
    },
    {
      "cell_type": "code",
      "metadata": {
        "id": "QLga58wIIMWe",
        "colab_type": "code",
        "colab": {
          "base_uri": "https://localhost:8080/",
          "height": 559
        },
        "outputId": "2a4f35e2-b31b-4db5-8fb2-f373981938c0"
      },
      "source": [
        "df.head(5)"
      ],
      "execution_count": 14,
      "outputs": [
        {
          "output_type": "execute_result",
          "data": {
            "text/html": [
              "<div>\n",
              "<style scoped>\n",
              "    .dataframe tbody tr th:only-of-type {\n",
              "        vertical-align: middle;\n",
              "    }\n",
              "\n",
              "    .dataframe tbody tr th {\n",
              "        vertical-align: top;\n",
              "    }\n",
              "\n",
              "    .dataframe thead th {\n",
              "        text-align: right;\n",
              "    }\n",
              "</style>\n",
              "<table border=\"1\" class=\"dataframe\">\n",
              "  <thead>\n",
              "    <tr style=\"text-align: right;\">\n",
              "      <th></th>\n",
              "      <th>Unnamed: 0</th>\n",
              "      <th>Text</th>\n",
              "      <th>Sentiment</th>\n",
              "      <th>Date</th>\n",
              "      <th>Favorites</th>\n",
              "      <th>Retweets</th>\n",
              "      <th>Mentions</th>\n",
              "      <th>HashTags</th>\n",
              "    </tr>\n",
              "  </thead>\n",
              "  <tbody>\n",
              "    <tr>\n",
              "      <th>0</th>\n",
              "      <td>0</td>\n",
              "      <td>#Unemployment at its highest while the #billio...</td>\n",
              "      <td>negative</td>\n",
              "      <td>2020-05-31 22:51:49+00:00</td>\n",
              "      <td>0</td>\n",
              "      <td>4</td>\n",
              "      <td>NaN</td>\n",
              "      <td>#Unemployment #billionaires #bailouts #protest...</td>\n",
              "    </tr>\n",
              "    <tr>\n",
              "      <th>1</th>\n",
              "      <td>2</td>\n",
              "      <td>#global #Shutdown WAS #shutdown #FederalGovt m...</td>\n",
              "      <td>neutral</td>\n",
              "      <td>2020-05-31 20:53:14+00:00</td>\n",
              "      <td>1</td>\n",
              "      <td>0</td>\n",
              "      <td>NaN</td>\n",
              "      <td>#global #Shutdown #shutdown #FederalGovt #mone...</td>\n",
              "    </tr>\n",
              "    <tr>\n",
              "      <th>2</th>\n",
              "      <td>5</td>\n",
              "      <td>Does the stock market go up or down Monday? $S...</td>\n",
              "      <td>neutral</td>\n",
              "      <td>2020-05-31 00:51:18+00:00</td>\n",
              "      <td>1</td>\n",
              "      <td>0</td>\n",
              "      <td>NaN</td>\n",
              "      <td>#stocks #stockmarket</td>\n",
              "    </tr>\n",
              "    <tr>\n",
              "      <th>3</th>\n",
              "      <td>8</td>\n",
              "      <td>#Bullish H&amp;amp;S on $XLNX It's ready for a bre...</td>\n",
              "      <td>positive</td>\n",
              "      <td>2020-05-30 05:10:53+00:00</td>\n",
              "      <td>2</td>\n",
              "      <td>0</td>\n",
              "      <td>NaN</td>\n",
              "      <td>#Bullish #StockMarket #Futures #options #beari...</td>\n",
              "    </tr>\n",
              "    <tr>\n",
              "      <th>4</th>\n",
              "      <td>9</td>\n",
              "      <td>The year is 2020! Wow! #COVID19 #BREAKING #Not...</td>\n",
              "      <td>positive</td>\n",
              "      <td>2020-05-30 00:01:24+00:00</td>\n",
              "      <td>1</td>\n",
              "      <td>2</td>\n",
              "      <td>NaN</td>\n",
              "      <td>#COVID19 #BREAKING #NotDyingForWallStreet #tog...</td>\n",
              "    </tr>\n",
              "  </tbody>\n",
              "</table>\n",
              "</div>"
            ],
            "text/plain": [
              "   Unnamed: 0  ...                                           HashTags\n",
              "0           0  ...  #Unemployment #billionaires #bailouts #protest...\n",
              "1           2  ...  #global #Shutdown #shutdown #FederalGovt #mone...\n",
              "2           5  ...                               #stocks #stockmarket\n",
              "3           8  ...  #Bullish #StockMarket #Futures #options #beari...\n",
              "4           9  ...  #COVID19 #BREAKING #NotDyingForWallStreet #tog...\n",
              "\n",
              "[5 rows x 8 columns]"
            ]
          },
          "metadata": {
            "tags": []
          },
          "execution_count": 14
        }
      ]
    },
    {
      "cell_type": "code",
      "metadata": {
        "id": "FHpeshxfXgu_",
        "colab_type": "code",
        "colab": {
          "base_uri": "https://localhost:8080/",
          "height": 280
        },
        "outputId": "1eeb24ec-1bec-4b84-ebd2-2fea17f27fcd"
      },
      "source": [
        "df.info()"
      ],
      "execution_count": 15,
      "outputs": [
        {
          "output_type": "stream",
          "text": [
            "<class 'pandas.core.frame.DataFrame'>\n",
            "RangeIndex: 405 entries, 0 to 404\n",
            "Data columns (total 8 columns):\n",
            " #   Column      Non-Null Count  Dtype \n",
            "---  ------      --------------  ----- \n",
            " 0   Unnamed: 0  405 non-null    int64 \n",
            " 1   Text        405 non-null    object\n",
            " 2   Sentiment   405 non-null    object\n",
            " 3   Date        405 non-null    object\n",
            " 4   Favorites   405 non-null    int64 \n",
            " 5   Retweets    405 non-null    int64 \n",
            " 6   Mentions    60 non-null     object\n",
            " 7   HashTags    283 non-null    object\n",
            "dtypes: int64(3), object(5)\n",
            "memory usage: 25.4+ KB\n"
          ],
          "name": "stdout"
        }
      ]
    },
    {
      "cell_type": "markdown",
      "metadata": {
        "id": "Tt8OWA7mYqGT",
        "colab_type": "text"
      },
      "source": [
        "Date column has the data type of object. We will convert it to datetime"
      ]
    },
    {
      "cell_type": "code",
      "metadata": {
        "id": "LfTJw5B2XqhL",
        "colab_type": "code",
        "colab": {}
      },
      "source": [
        "df.Date = pd.to_datetime(df.Date)"
      ],
      "execution_count": 16,
      "outputs": []
    },
    {
      "cell_type": "code",
      "metadata": {
        "id": "ugLkDE_iI3Y0",
        "colab_type": "code",
        "colab": {
          "base_uri": "https://localhost:8080/",
          "height": 506
        },
        "outputId": "f821640d-6ba7-4b4e-ea9b-66344db973fc"
      },
      "source": [
        "ax = sns.countplot(df.Sentiment)"
      ],
      "execution_count": 17,
      "outputs": [
        {
          "output_type": "display_data",
          "data": {
            "image/png": "[encoded data removed]",
            "text/plain": [
              "<Figure size 864x576 with 1 Axes>"
            ]
          },
          "metadata": {
            "tags": [],
            "image/png": {
              "width": 736,
              "height": 489
            }
          }
        }
      ]
    },
    {
      "cell_type": "code",
      "metadata": {
        "id": "7X3Jpo6rH3an",
        "colab_type": "code",
        "colab": {}
      },
      "source": [
        "def to_sentiment(sentiment):\n",
        "  if sentiment == 'negative':\n",
        "    return 0\n",
        "  elif sentiment == 'neutral':\n",
        "    return 1\n",
        "  else: \n",
        "    return 2\n",
        "\n",
        "df['senti'] = df.Sentiment.apply(to_sentiment)"
      ],
      "execution_count": 18,
      "outputs": []
    },
    {
      "cell_type": "code",
      "metadata": {
        "id": "6GxSBeFtYn1B",
        "colab_type": "code",
        "colab": {
          "base_uri": "https://localhost:8080/",
          "height": 298
        },
        "outputId": "0d5e14d5-0e4b-427e-b6ce-0c1f5dba033f"
      },
      "source": [
        "df.info()"
      ],
      "execution_count": 19,
      "outputs": [
        {
          "output_type": "stream",
          "text": [
            "<class 'pandas.core.frame.DataFrame'>\n",
            "RangeIndex: 405 entries, 0 to 404\n",
            "Data columns (total 9 columns):\n",
            " #   Column      Non-Null Count  Dtype              \n",
            "---  ------      --------------  -----              \n",
            " 0   Unnamed: 0  405 non-null    int64              \n",
            " 1   Text        405 non-null    object             \n",
            " 2   Sentiment   405 non-null    object             \n",
            " 3   Date        405 non-null    datetime64[ns, UTC]\n",
            " 4   Favorites   405 non-null    int64              \n",
            " 5   Retweets    405 non-null    int64              \n",
            " 6   Mentions    60 non-null     object             \n",
            " 7   HashTags    283 non-null    object             \n",
            " 8   senti       405 non-null    int64              \n",
            "dtypes: datetime64[ns, UTC](1), int64(4), object(4)\n",
            "memory usage: 28.6+ KB\n"
          ],
          "name": "stdout"
        }
      ]
    },
    {
      "cell_type": "markdown",
      "metadata": {
        "id": "Veg4rD6QSfCC",
        "colab_type": "text"
      },
      "source": [
        "# Pre-processing"
      ]
    },
    {
      "cell_type": "markdown",
      "metadata": {
        "id": "IAS0lYr9acwY",
        "colab_type": "text"
      },
      "source": [
        "## Clean Text\n",
        "For the Text column, we replace all cashtags (e.g: $YHOO) by a common word “cashtag”, all urls (http / https) by a common word (linktag), all users (@howardlindzon, @ OpenOutcri-er...) by a common word usertag and all hashtag with blank space. "
      ]
    },
    {
      "cell_type": "code",
      "metadata": {
        "id": "wdbxbcWqtYIG",
        "colab_type": "code",
        "colab": {}
      },
      "source": [
        "import re\n",
        "def process_tweet(tweet):\n",
        "    tweet = re.sub(r'\\$\\w*','cashtag', str(tweet))\n",
        "    tweet = re.sub(r'\\@\\w*','usertag', str(tweet))\n",
        "    tweet = re.sub('#','', str(tweet))\n",
        "    tweet = re.sub(r'https?:\\/\\/.*[\\r\\n]*','linktag',str(tweet))\n",
        "    tweet = \" \".join(tweet.split())\n",
        "\n",
        "    return tweet"
      ],
      "execution_count": 14,
      "outputs": []
    },
    {
      "cell_type": "code",
      "metadata": {
        "id": "I80V4mOItYVB",
        "colab_type": "code",
        "colab": {}
      },
      "source": [
        "df['Text']=df['Text'].apply(process_tweet)"
      ],
      "execution_count": 15,
      "outputs": []
    },
    {
      "cell_type": "markdown",
      "metadata": {
        "id": "_8E48TeGbQsJ",
        "colab_type": "text"
      },
      "source": [
        "To prepare data for BERT, the following requirement should be fullfiled: \n",
        "\n",
        "*   Add special tokens to separate sentences and do classification\n",
        "*   Pass sequences of constant length (introduce padding)\n",
        "\n",
        "*   Create array of 0s (pad token) and 1s (real token) called attention mask\n",
        "\n",
        "The Transformers library provides a wide variety of Transformer models (including BERT). It works with TensorFlow and PyTorch. It also includes prebuild tokenizers that support us in the heavy tokenizing tasks. "
      ]
    },
    {
      "cell_type": "markdown",
      "metadata": {
        "id": "YF3nm6vIcjy7",
        "colab_type": "text"
      },
      "source": [
        "The uncased version of BERT and Tokenizer will be loaded:"
      ]
    },
    {
      "cell_type": "code",
      "metadata": {
        "id": "yYyQu79qNsgg",
        "colab_type": "code",
        "colab": {}
      },
      "source": [
        "PRE_TRAINED_MODEL_NAME = 'bert-base-uncased'"
      ],
      "execution_count": 20,
      "outputs": []
    },
    {
      "cell_type": "code",
      "metadata": {
        "id": "c6gJO1dBSPes",
        "colab_type": "code",
        "colab": {
          "base_uri": "https://localhost:8080/",
          "height": 66,
          "referenced_widgets": [
            "85f492545fe5453dab43e651b4c64b92",
            "55d884f1242043dc8d1567d5cc2a41fe",
            "8ef99517eaa24896b086bfd8e7beaff7",
            "b636bd8b7bc6474d95179b7223395e80",
            "4990b2dc60f2493bade50b65e86a8742",
            "a30c664e683646fea8bbada61e8c02d0",
            "47fffa9a553e4791996c34a72ad9e8db",
            "afa27120d9c947e1aa41d451478a8bc1"
          ]
        },
        "outputId": "deb45f37-ac65-4701-9cb8-8622d2e576b3"
      },
      "source": [
        "tokenizer = BertTokenizer.from_pretrained(PRE_TRAINED_MODEL_NAME)"
      ],
      "execution_count": 21,
      "outputs": [
        {
          "output_type": "display_data",
          "data": {
            "application/vnd.jupyter.widget-view+json": {
              "model_id": "85f492545fe5453dab43e651b4c64b92",
              "version_minor": 0,
              "version_major": 2
            },
            "text/plain": [
              "HBox(children=(FloatProgress(value=0.0, description='Downloading', max=231508.0, style=ProgressStyle(descripti…"
            ]
          },
          "metadata": {
            "tags": []
          }
        },
        {
          "output_type": "stream",
          "text": [
            "\n"
          ],
          "name": "stdout"
        }
      ]
    },
    {
      "cell_type": "markdown",
      "metadata": {
        "id": "a5KtgP9BdM8t",
        "colab_type": "text"
      },
      "source": [
        "## Special Token\n",
        "* [SEP] - marker for ending of a sentence\n",
        "* [CLS] - add this token to the start of each sentence, so BERT knows we’re doing classification\n",
        "* [PAD] - a special token for padding\n",
        "* [UNK] - BERT understands tokens that were in the training set. Everything else can be encoded using the [UNK] (unknown) token\n",
        "\n",
        "All of that work can be done using the encode_plus() method:"
      ]
    },
    {
      "cell_type": "code",
      "metadata": {
        "id": "AQUYCn94CVAw",
        "colab_type": "code",
        "colab": {}
      },
      "source": [
        "sample_txt = 'Today is the best day ever in the stock market'"
      ],
      "execution_count": 22,
      "outputs": []
    },
    {
      "cell_type": "code",
      "metadata": {
        "id": "i_F4lK91CRJz",
        "colab_type": "code",
        "colab": {
          "base_uri": "https://localhost:8080/",
          "height": 34
        },
        "outputId": "0d137be6-d2ae-4786-80eb-7f5d985e895c"
      },
      "source": [
        "encoding = tokenizer.encode_plus(\n",
        "  sample_txt,\n",
        "  max_length=32,\n",
        "  truncation = True,\n",
        "  add_special_tokens=True, # Add '[CLS]' and '[SEP]'\n",
        "  return_token_type_ids=False,\n",
        "  pad_to_max_length=True,\n",
        "  return_attention_mask=True,\n",
        "  return_tensors='pt',  # Return PyTorch tensors\n",
        ")\n",
        "\n",
        "encoding.keys()"
      ],
      "execution_count": 23,
      "outputs": [
        {
          "output_type": "execute_result",
          "data": {
            "text/plain": [
              "dict_keys(['input_ids', 'attention_mask'])"
            ]
          },
          "metadata": {
            "tags": []
          },
          "execution_count": 23
        }
      ]
    },
    {
      "cell_type": "markdown",
      "metadata": {
        "id": "DxIgNHr1eJ_k",
        "colab_type": "text"
      },
      "source": [
        "The token ids are now stored in a Tensor and padded to a length of 32:"
      ]
    },
    {
      "cell_type": "code",
      "metadata": {
        "id": "Z1egls2BeLT8",
        "colab_type": "code",
        "colab": {
          "base_uri": "https://localhost:8080/",
          "height": 87
        },
        "outputId": "bbf30bfd-db62-4731-e05c-12178f9a7451"
      },
      "source": [
        "print(len(encoding['input_ids'][0]))\n",
        "encoding['input_ids'][0]"
      ],
      "execution_count": 24,
      "outputs": [
        {
          "output_type": "stream",
          "text": [
            "32\n"
          ],
          "name": "stdout"
        },
        {
          "output_type": "execute_result",
          "data": {
            "text/plain": [
              "tensor([ 101, 2651, 2003, 1996, 2190, 2154, 2412, 1999, 1996, 4518, 3006,  102,\n",
              "           0,    0,    0,    0,    0,    0,    0,    0,    0,    0,    0,    0,\n",
              "           0,    0,    0,    0,    0,    0,    0,    0])"
            ]
          },
          "metadata": {
            "tags": []
          },
          "execution_count": 24
        }
      ]
    },
    {
      "cell_type": "markdown",
      "metadata": {
        "id": "vKSuDs4Jehwh",
        "colab_type": "text"
      },
      "source": [
        "The attention mask has the same length:"
      ]
    },
    {
      "cell_type": "code",
      "metadata": {
        "id": "DNS5Z3PuejSg",
        "colab_type": "code",
        "colab": {
          "base_uri": "https://localhost:8080/",
          "height": 70
        },
        "outputId": "f090fc7d-7228-437f-acaa-210aacc8b620"
      },
      "source": [
        "print(len(encoding['attention_mask'][0]))\n",
        "encoding['attention_mask']"
      ],
      "execution_count": 25,
      "outputs": [
        {
          "output_type": "stream",
          "text": [
            "32\n"
          ],
          "name": "stdout"
        },
        {
          "output_type": "execute_result",
          "data": {
            "text/plain": [
              "tensor([[1, 1, 1, 1, 1, 1, 1, 1, 1, 1, 1, 1, 0, 0, 0, 0, 0, 0, 0, 0, 0, 0, 0, 0,\n",
              "         0, 0, 0, 0, 0, 0, 0, 0]])"
            ]
          },
          "metadata": {
            "tags": []
          },
          "execution_count": 25
        }
      ]
    },
    {
      "cell_type": "markdown",
      "metadata": {
        "id": "dkgAzRLuerTg",
        "colab_type": "text"
      },
      "source": [
        "We can inverse the tokenization to have a look at the special tokens:"
      ]
    },
    {
      "cell_type": "code",
      "metadata": {
        "id": "8IniGwxUeqIP",
        "colab_type": "code",
        "colab": {
          "base_uri": "https://localhost:8080/",
          "height": 579
        },
        "outputId": "fbc0e8f3-112e-4a96-8ded-a7843876a5a4"
      },
      "source": [
        "tokenizer.convert_ids_to_tokens(encoding['input_ids'][0])"
      ],
      "execution_count": 22,
      "outputs": [
        {
          "output_type": "execute_result",
          "data": {
            "text/plain": [
              "['[CLS]',\n",
              " 'today',\n",
              " 'is',\n",
              " 'the',\n",
              " 'best',\n",
              " 'day',\n",
              " 'ever',\n",
              " 'in',\n",
              " 'the',\n",
              " 'stock',\n",
              " 'market',\n",
              " '[SEP]',\n",
              " '[PAD]',\n",
              " '[PAD]',\n",
              " '[PAD]',\n",
              " '[PAD]',\n",
              " '[PAD]',\n",
              " '[PAD]',\n",
              " '[PAD]',\n",
              " '[PAD]',\n",
              " '[PAD]',\n",
              " '[PAD]',\n",
              " '[PAD]',\n",
              " '[PAD]',\n",
              " '[PAD]',\n",
              " '[PAD]',\n",
              " '[PAD]',\n",
              " '[PAD]',\n",
              " '[PAD]',\n",
              " '[PAD]',\n",
              " '[PAD]',\n",
              " '[PAD]']"
            ]
          },
          "metadata": {
            "tags": []
          },
          "execution_count": 22
        }
      ]
    },
    {
      "cell_type": "markdown",
      "metadata": {
        "id": "w6r8NxYHe1s-",
        "colab_type": "text"
      },
      "source": [
        "## Choosing Sequence Length\n",
        "\n",
        "Let’s store the token length of each review and choose the maximum as sequence length."
      ]
    },
    {
      "cell_type": "code",
      "metadata": {
        "id": "zZ6MfMF9Jvym",
        "colab_type": "code",
        "colab": {}
      },
      "source": [
        "token_lens = []\n",
        "\n",
        "for txt in df.Text:\n",
        "  tokens = tokenizer.encode(txt, max_length=512, truncation=True)\n",
        "  token_lens.append(len(tokens))"
      ],
      "execution_count": 26,
      "outputs": []
    },
    {
      "cell_type": "code",
      "metadata": {
        "id": "bCYix9P4Jvrd",
        "colab_type": "code",
        "colab": {
          "base_uri": "https://localhost:8080/",
          "height": 506
        },
        "outputId": "24f3097f-c120-45da-8c35-5dbe922a430d"
      },
      "source": [
        "sns.distplot(token_lens)\n",
        "plt.xlim([0, 256]);\n",
        "plt.xlabel('Token count');"
      ],
      "execution_count": 27,
      "outputs": [
        {
          "output_type": "display_data",
          "data": {
            "image/png": "[encoded data removed]",
            "text/plain": [
              "<Figure size 864x576 with 1 Axes>"
            ]
          },
          "metadata": {
            "tags": [],
            "image/png": {
              "width": 731,
              "height": 489
            }
          }
        }
      ]
    },
    {
      "cell_type": "markdown",
      "metadata": {
        "id": "cpds0VjbM9XP",
        "colab_type": "text"
      },
      "source": [
        "Most of the reviews seem to contain less than 140 tokens, but we'll be on the safe side and choose a maximum length of 150."
      ]
    },
    {
      "cell_type": "code",
      "metadata": {
        "id": "vFEB523OJvoS",
        "colab_type": "code",
        "colab": {}
      },
      "source": [
        "MAX_LEN = 150"
      ],
      "execution_count": 25,
      "outputs": []
    },
    {
      "cell_type": "markdown",
      "metadata": {
        "id": "NRORtWwmfbyT",
        "colab_type": "text"
      },
      "source": [
        "## Create PyTorch Dataset"
      ]
    },
    {
      "cell_type": "code",
      "metadata": {
        "id": "YTYGMNQnJvmA",
        "colab_type": "code",
        "colab": {}
      },
      "source": [
        "class TweeterDataset(Dataset):\n",
        "\n",
        "  def __init__(self, texts, targets, tokenizer, max_len):\n",
        "    self.texts = texts\n",
        "    self.targets = targets\n",
        "    self.tokenizer = tokenizer\n",
        "    self.max_len = max_len\n",
        "  \n",
        "  def __len__(self):\n",
        "    return len(self.texts)\n",
        "  \n",
        "  def __getitem__(self, item):\n",
        "    text   = str(self.texts[item])\n",
        "    target = self.targets[item]\n",
        "\n",
        "    encoding = self.tokenizer.encode_plus(\n",
        "      text,\n",
        "      add_special_tokens=True,\n",
        "      max_length=self.max_len,\n",
        "      truncation = True,\n",
        "      return_token_type_ids=False,\n",
        "      pad_to_max_length=True,\n",
        "      return_attention_mask=True,\n",
        "      return_tensors='pt',\n",
        "    )\n",
        "\n",
        "    return {\n",
        "      'text': text,\n",
        "      'input_ids': encoding['input_ids'].flatten(),\n",
        "      'attention_mask': encoding['attention_mask'].flatten(),\n",
        "      'targets': torch.tensor(target, dtype=torch.long)\n",
        "    }"
      ],
      "execution_count": 28,
      "outputs": []
    },
    {
      "cell_type": "markdown",
      "metadata": {
        "id": "VtgF39jegFN0",
        "colab_type": "text"
      },
      "source": [
        "## Create Data Loader"
      ]
    },
    {
      "cell_type": "code",
      "metadata": {
        "id": "f1YRHNaePOrT",
        "colab_type": "code",
        "colab": {}
      },
      "source": [
        "def create_data_loader(df, tokenizer, max_len, batch_size):\n",
        "  ds = TweeterDataset(\n",
        "    texts=df.Text.to_numpy(),\n",
        "    targets=df.senti.to_numpy(),\n",
        "    tokenizer=tokenizer,\n",
        "    max_len=max_len,\n",
        "    \n",
        "  )\n",
        "\n",
        "  return DataLoader(\n",
        "    ds,\n",
        "    batch_size=batch_size,\n",
        "    num_workers=4\n",
        "  )"
      ],
      "execution_count": 29,
      "outputs": []
    },
    {
      "cell_type": "markdown",
      "metadata": {
        "id": "-J4k0MT7gl1f",
        "colab_type": "text"
      },
      "source": [
        "## Sentiment Classification with BERT and HuggingFace"
      ]
    },
    {
      "cell_type": "markdown",
      "metadata": {
        "id": "Hbo-uRCCiMQ7",
        "colab_type": "text"
      },
      "source": [
        "We’ll use the basic BertModel and build our sentiment classifier on top of it"
      ]
    },
    {
      "cell_type": "code",
      "metadata": {
        "id": "0SSRmyPqPPrs",
        "colab_type": "code",
        "colab": {
          "base_uri": "https://localhost:8080/",
          "height": 116,
          "referenced_widgets": [
            "b14a39ff5ab7441fb38a0d4f501efc66",
            "e3ceee28efc6487a8293245a2836d10b",
            "f40783b868a740f8a1220e258266aa96",
            "17bf90de7fcf42df9081e9e2deb04de2",
            "7687895f7c6f4568891c5982a6364a6d",
            "c4f63607e7d743aeab41375af2eb9f97",
            "83199038d13c4117a79375cbeafefd4d",
            "e5bf2ef36a2d488e93226302ce91ec67",
            "bb9f945c5e814b88ab05d8681bf33f7e",
            "797d321e3fff48f988a307f2c61aa9ca",
            "fee0f28845994cc197a48a53acd2df94",
            "9bbefb898b4346aeb0164f4a35294d7f",
            "91b23500779845d99df979064e973469",
            "5c78b98926de4d729e6496732fdf5bdc",
            "b672e36aaf314604a4489942098baa94",
            "3bc6edb38e7b4234b4ebee4b3cbf1eb3"
          ]
        },
        "outputId": "f55c9015-4af8-4e03-83e1-5554711afc7b"
      },
      "source": [
        "bert_model =  BertModel.from_pretrained(PRE_TRAINED_MODEL_NAME)"
      ],
      "execution_count": 30,
      "outputs": [
        {
          "output_type": "display_data",
          "data": {
            "application/vnd.jupyter.widget-view+json": {
              "model_id": "b14a39ff5ab7441fb38a0d4f501efc66",
              "version_minor": 0,
              "version_major": 2
            },
            "text/plain": [
              "HBox(children=(FloatProgress(value=0.0, description='Downloading', max=433.0, style=ProgressStyle(description_…"
            ]
          },
          "metadata": {
            "tags": []
          }
        },
        {
          "output_type": "stream",
          "text": [
            "\n"
          ],
          "name": "stdout"
        },
        {
          "output_type": "display_data",
          "data": {
            "application/vnd.jupyter.widget-view+json": {
              "model_id": "bb9f945c5e814b88ab05d8681bf33f7e",
              "version_minor": 0,
              "version_major": 2
            },
            "text/plain": [
              "HBox(children=(FloatProgress(value=0.0, description='Downloading', max=440473133.0, style=ProgressStyle(descri…"
            ]
          },
          "metadata": {
            "tags": []
          }
        },
        {
          "output_type": "stream",
          "text": [
            "\n"
          ],
          "name": "stdout"
        }
      ]
    },
    {
      "cell_type": "markdown",
      "metadata": {
        "id": "Spvwu9thiZFh",
        "colab_type": "text"
      },
      "source": [
        "We defined the sequence length of 32 tokens in the previous section. The number of hidden units in the feedforward-networks of BERT is 768"
      ]
    },
    {
      "cell_type": "code",
      "metadata": {
        "id": "tlZwB_tAiGay",
        "colab_type": "code",
        "colab": {
          "base_uri": "https://localhost:8080/",
          "height": 34
        },
        "outputId": "06c2ef80-faf7-486a-8de1-fdf1e8f7bcf0"
      },
      "source": [
        "bert_model.config.hidden_size"
      ],
      "execution_count": 31,
      "outputs": [
        {
          "output_type": "execute_result",
          "data": {
            "text/plain": [
              "768"
            ]
          },
          "metadata": {
            "tags": []
          },
          "execution_count": 31
        }
      ]
    },
    {
      "cell_type": "markdown",
      "metadata": {
        "id": "hujngH_6jequ",
        "colab_type": "text"
      },
      "source": [
        "### Create a Classifier using BERT model"
      ]
    },
    {
      "cell_type": "code",
      "metadata": {
        "id": "QZqIKh6pPOyJ",
        "colab_type": "code",
        "colab": {}
      },
      "source": [
        "class SentimentClassifier(nn.Module):\n",
        "\n",
        "  def __init__(self, n_classes):\n",
        "    super(SentimentClassifier, self).__init__()\n",
        "    self.bert = BertModel.from_pretrained(PRE_TRAINED_MODEL_NAME)\n",
        "    self.drop = nn.Dropout(p=0.3)\n",
        "    self.out = nn.Linear(self.bert.config.hidden_size, n_classes)\n",
        "  \n",
        "  def forward(self, input_ids, attention_mask):\n",
        "    _, pooled_output = self.bert(\n",
        "      input_ids=input_ids,\n",
        "      attention_mask=attention_mask\n",
        "    )\n",
        "    output = self.drop(pooled_output)\n",
        "    return self.out(output)"
      ],
      "execution_count": 32,
      "outputs": []
    },
    {
      "cell_type": "code",
      "metadata": {
        "id": "URe1sjA9ku8E",
        "colab_type": "code",
        "colab": {}
      },
      "source": [
        "class_names = ['negative', 'neutral', 'positive']\n",
        "model = SentimentClassifier(len(class_names))\n",
        "model = model.to(device)"
      ],
      "execution_count": 33,
      "outputs": []
    },
    {
      "cell_type": "markdown",
      "metadata": {
        "id": "f_d5GDipdc4G",
        "colab_type": "text"
      },
      "source": [
        "### Training "
      ]
    },
    {
      "cell_type": "markdown",
      "metadata": {
        "id": "XHxjIlDPkBVy",
        "colab_type": "text"
      },
      "source": [
        "#### Optimizer and Scheduler\n",
        "\n",
        "we’ll use the AdamW optimizer provided by Hugging Face. It corrects weight decay, so it’s similar to the original paper. We’ll also use a linear scheduler with no warmup steps:"
      ]
    },
    {
      "cell_type": "code",
      "metadata": {
        "id": "svSxNLD1Tftf",
        "colab_type": "code",
        "colab": {}
      },
      "source": [
        "def OptimizerSchedulerLoss(model,train_data_loader,epochs):\n",
        "  EPOCHS = epochs\n",
        "  optimizer = AdamW(model.parameters(), lr=2e-5, correct_bias=False)\n",
        "  total_steps = len(train_data_loader) * EPOCHS\n",
        "\n",
        "  scheduler = get_linear_schedule_with_warmup(\n",
        "      optimizer,\n",
        "      num_warmup_steps=0,\n",
        "      num_training_steps=total_steps\n",
        "      )\n",
        "\n",
        "  loss_fn = nn.CrossEntropyLoss().to(device)\n",
        "\n",
        "  return optimizer, scheduler, loss_fn"
      ],
      "execution_count": 34,
      "outputs": []
    },
    {
      "cell_type": "markdown",
      "metadata": {
        "id": "wOrdfVHinJDU",
        "colab_type": "text"
      },
      "source": [
        "#### Train Epoch"
      ]
    },
    {
      "cell_type": "code",
      "metadata": {
        "id": "DZkVFEp9Tfye",
        "colab_type": "code",
        "colab": {}
      },
      "source": [
        "def train_epoch(\n",
        "  model, \n",
        "  data_loader, \n",
        "  loss_fn, \n",
        "  optimizer, \n",
        "  device, \n",
        "  scheduler, \n",
        "  n_examples\n",
        "):\n",
        "  model = model.train()\n",
        "\n",
        "  losses = []\n",
        "  correct_predictions = 0\n",
        "  \n",
        "  for d in data_loader:\n",
        "    input_ids = d[\"input_ids\"].to(device)\n",
        "    attention_mask = d[\"attention_mask\"].to(device)\n",
        "    targets = d[\"targets\"].to(device)\n",
        "\n",
        "    outputs = model(\n",
        "      input_ids=input_ids,\n",
        "      attention_mask=attention_mask\n",
        "    )\n",
        "\n",
        "    _, preds = torch.max(outputs, dim=1)\n",
        "    loss = loss_fn(outputs, targets)\n",
        "\n",
        "    correct_predictions += torch.sum(preds == targets)\n",
        "    losses.append(loss.item())\n",
        "\n",
        "    loss.backward()\n",
        "    nn.utils.clip_grad_norm_(model.parameters(), max_norm=1.0)\n",
        "    optimizer.step()\n",
        "    scheduler.step()\n",
        "    optimizer.zero_grad()\n",
        "\n",
        "  return correct_predictions.double() / n_examples, np.mean(losses)"
      ],
      "execution_count": 35,
      "outputs": []
    },
    {
      "cell_type": "markdown",
      "metadata": {
        "id": "drf1XZ2rnSTh",
        "colab_type": "text"
      },
      "source": [
        "### Evaluation Model"
      ]
    },
    {
      "cell_type": "code",
      "metadata": {
        "id": "GWdjHt4ITf6j",
        "colab_type": "code",
        "colab": {}
      },
      "source": [
        "def eval_model(model, data_loader, loss_fn, device, n_examples):\n",
        "  model = model.eval()\n",
        "\n",
        "  losses = []\n",
        "  correct_predictions = 0\n",
        "\n",
        "  with torch.no_grad():\n",
        "    for d in data_loader:\n",
        "      input_ids = d[\"input_ids\"].to(device)\n",
        "      attention_mask = d[\"attention_mask\"].to(device)\n",
        "      targets = d[\"targets\"].to(device)\n",
        "\n",
        "      outputs = model(\n",
        "        input_ids=input_ids,\n",
        "        attention_mask=attention_mask\n",
        "      )\n",
        "      _, preds = torch.max(outputs, dim=1)\n",
        "\n",
        "      loss = loss_fn(outputs, targets)\n",
        "\n",
        "      correct_predictions += torch.sum(preds == targets)\n",
        "      losses.append(loss.item())\n",
        "\n",
        "  return correct_predictions.double() / n_examples, np.mean(losses)"
      ],
      "execution_count": 36,
      "outputs": []
    },
    {
      "cell_type": "markdown",
      "metadata": {
        "id": "Ebq0pv18nnXL",
        "colab_type": "text"
      },
      "source": [
        "### Get Prediction"
      ]
    },
    {
      "cell_type": "code",
      "metadata": {
        "id": "DSLY2wKBv4nH",
        "colab_type": "code",
        "colab": {}
      },
      "source": [
        "def get_predictions(model, data_loader):\n",
        "  model = model.eval()\n",
        "  \n",
        "  texts = []\n",
        "  predictions = []\n",
        "  prediction_probs = []\n",
        "  real_values = []\n",
        "\n",
        "  with torch.no_grad():\n",
        "    for d in data_loader:\n",
        "\n",
        "      texts = d[\"text\"]\n",
        "      input_ids = d[\"input_ids\"].to(device)\n",
        "      attention_mask = d[\"attention_mask\"].to(device)\n",
        "      targets = d[\"targets\"].to(device)\n",
        "\n",
        "      outputs = model(\n",
        "        input_ids=input_ids,\n",
        "        attention_mask=attention_mask\n",
        "      )\n",
        "      _, preds = torch.max(outputs, dim=1)\n",
        "\n",
        "      probs = F.softmax(outputs, dim=1)\n",
        "\n",
        "      texts.extend(texts)\n",
        "      predictions.extend(preds)\n",
        "      prediction_probs.extend(probs)\n",
        "      real_values.extend(targets)\n",
        "\n",
        "  predictions = torch.stack(predictions).cpu()\n",
        "  prediction_probs = torch.stack(prediction_probs).cpu()\n",
        "  real_values = torch.stack(real_values).cpu()\n",
        "  return texts, predictions, prediction_probs, real_values\n"
      ],
      "execution_count": 37,
      "outputs": []
    },
    {
      "cell_type": "markdown",
      "metadata": {
        "id": "ySRNPnFinsHU",
        "colab_type": "text"
      },
      "source": [
        "### Implement"
      ]
    },
    {
      "cell_type": "code",
      "metadata": {
        "id": "Jei-LENjl3gd",
        "colab_type": "code",
        "colab": {
          "base_uri": "https://localhost:8080/",
          "height": 1000
        },
        "outputId": "b58e12b1-7224-4229-844e-42f55602d9e1"
      },
      "source": [
        "%%time\n",
        "BATCH_SIZE = 16\n",
        "EPOCHS = 10\n",
        "n=5\n",
        "\n",
        "kf = KFold(n_splits=n, random_state=1, shuffle=True)\n",
        "\n",
        "best_results = []\n",
        "history = defaultdict(list)\n",
        "\n",
        "k_fold = 1\n",
        "\n",
        "for train_index, val_index in kf.split(df):  \n",
        "  # splitting Dataframe (dataset not included)\n",
        "    df_train = df.iloc[train_index]\n",
        "    df_val = df.iloc[val_index]\n",
        "\n",
        "  # create data loader\n",
        "    train_data_loader = create_data_loader(df_train, tokenizer, MAX_LEN, BATCH_SIZE)\n",
        "    val_data_loader = create_data_loader(df_val, tokenizer, MAX_LEN, BATCH_SIZE)\n",
        "\n",
        "  # calcualte opimizer, scheduler, loss \n",
        "    optimizer, scheduler, loss_fn = OptimizerSchedulerLoss(\n",
        "        model,\n",
        "        train_data_loader,\n",
        "        EPOCHS\n",
        "        )\n",
        "    \n",
        "    print(f'Cross Validation: fold {k_fold}')\n",
        "\n",
        "  # create training loop\n",
        "    best_accuracy = 0\n",
        "    best_prescision = 0\n",
        "    best_fscore = 0\n",
        "    best_recall = 0\n",
        "\n",
        "    for epoch in range(EPOCHS):\n",
        "      print(f'Epoch {epoch + 1}/{EPOCHS}')\n",
        "      print('-' * 10)\n",
        "      train_acc, train_loss = train_epoch(\n",
        "          model,\n",
        "          train_data_loader,    \n",
        "          loss_fn, \n",
        "          optimizer, \n",
        "          device, \n",
        "          scheduler, \n",
        "          len(df_train)\n",
        "          )\n",
        "\n",
        "      print(f'Train loss {train_loss} accuracy {train_acc}')\n",
        "\n",
        "      val_acc, val_loss = eval_model(\n",
        "          model,\n",
        "          val_data_loader,\n",
        "          loss_fn, \n",
        "          device, \n",
        "          len(df_val)\n",
        "          )\n",
        "      \n",
        "      print(f'Val   loss {val_loss} accuracy {val_acc}')\n",
        "\n",
        "      y_texts, y_pred, y_pred_probs, y_test = get_predictions(\n",
        "          model,\n",
        "          val_data_loader\n",
        "          )\n",
        "       \n",
        "      precision, recall, fscore, support = precision_recall_fscore_support(\n",
        "          y_test, \n",
        "          y_pred, \n",
        "          average='macro')\n",
        "      \n",
        "      print(f'Precision {precision} Recall {recall} Fscore {fscore} Support {support}')\n",
        "      print()\n",
        "\n",
        "      history['train_acc'].append(train_acc)\n",
        "      history['train_loss'].append(train_loss)\n",
        "      history['val_acc'].append(val_acc)\n",
        "      history['val_loss'].append(val_loss)\n",
        "      history['precision'].append(precision)\n",
        "      history['fscore'].append(fscore)\n",
        "      history['recall'].append(recall)\n",
        "      history['support'].append(support) \n",
        "\n",
        "      if val_acc > best_accuracy:\n",
        "        torch.save(model.state_dict(), 'best_model_state.bin')\n",
        "        best_accuracy = val_acc\n",
        "        best_precision = precision\n",
        "        best_fscore = fscore\n",
        "        best_recall = recall\n",
        "        best_support = support\n",
        "\n",
        "    best_results.append([best_accuracy,best_precision,best_fscore,best_recall,best_support])\n",
        "    k_fold += 1\n",
        "    "
      ],
      "execution_count": 36,
      "outputs": [
        {
          "output_type": "stream",
          "text": [
            "Cross Validation: fold 1\n",
            "Epoch 1/10\n",
            "----------\n",
            "Train loss 1.077476143836975 accuracy 0.4012345679012346\n",
            "Val   loss 1.1188303232192993 accuracy 0.37037037037037035\n"
          ],
          "name": "stdout"
        },
        {
          "output_type": "stream",
          "text": [
            "/usr/local/lib/python3.6/dist-packages/sklearn/metrics/_classification.py:1272: UndefinedMetricWarning: Precision and F-score are ill-defined and being set to 0.0 in labels with no predicted samples. Use `zero_division` parameter to control this behavior.\n",
            "  _warn_prf(average, modifier, msg_start, len(result))\n"
          ],
          "name": "stderr"
        },
        {
          "output_type": "stream",
          "text": [
            "Precision 0.44298245614035087 Recall 0.38383838383838387 Fscore 0.25273579989577905 Support None\n",
            "\n",
            "Epoch 2/10\n",
            "----------\n",
            "Train loss 1.0279338615281242 accuracy 0.46296296296296297\n",
            "Val   loss 1.1905691822369893 accuracy 0.41975308641975306\n",
            "Precision 0.25213675213675213 Recall 0.3466666666666667 Fscore 0.22200772200772198 Support None\n",
            "\n",
            "Epoch 3/10\n",
            "----------\n",
            "Train loss 1.0805944034031458 accuracy 0.37037037037037035\n",
            "Val   loss 1.2144728799661 accuracy 0.4691358024691358\n",
            "Precision 0.32702020202020204 Recall 0.44202020202020204 Fscore 0.36640376366403765 Support None\n",
            "\n",
            "Epoch 4/10\n",
            "----------\n",
            "Train loss 0.8638508234705243 accuracy 0.5462962962962963\n",
            "Val   loss 0.9433294336001078 accuracy 0.49382716049382713\n",
            "Precision 0.37762237762237766 Recall 0.4918752744839701 Fscore 0.39692887150514267 Support None\n",
            "\n",
            "Epoch 5/10\n",
            "----------\n",
            "Train loss 0.6298186410041082 accuracy 0.6728395061728395\n",
            "Val   loss 0.993694672981898 accuracy 0.6666666666666666\n",
            "Precision 0.6723076923076924 Recall 0.6695125164690383 Fscore 0.663642761179707 Support None\n",
            "\n",
            "Epoch 6/10\n",
            "----------\n",
            "Train loss 0.39179942863328115 accuracy 0.8641975308641975\n",
            "Val   loss 1.248478502035141 accuracy 0.6049382716049383\n",
            "Precision 0.6139846743295019 Recall 0.5903381642512078 Fscore 0.5750206782464846 Support None\n",
            "\n",
            "Epoch 7/10\n",
            "----------\n",
            "Train loss 0.18016334835972106 accuracy 0.941358024691358\n",
            "Val   loss 1.2040331413348515 accuracy 0.6172839506172839\n",
            "Precision 0.6416653424439853 Recall 0.6270355731225297 Fscore 0.6172839506172839 Support None\n",
            "\n",
            "Epoch 8/10\n",
            "----------\n",
            "Train loss 0.050422169268131256 accuracy 0.9876543209876543\n",
            "Val   loss 1.3689969629049301 accuracy 0.6049382716049383\n",
            "Precision 0.6180977611552647 Recall 0.6137022397891964 Fscore 0.6041242707909374 Support None\n",
            "\n",
            "Epoch 9/10\n",
            "----------\n",
            "Train loss 0.018169726999033065 accuracy 1.0\n",
            "Val   loss 1.5141668419043224 accuracy 0.6172839506172839\n",
            "Precision 0.6282395919492694 Recall 0.6238032498902064 Fscore 0.615831517792302 Support None\n",
            "\n",
            "Epoch 10/10\n",
            "----------\n",
            "Train loss 0.011943527896489416 accuracy 1.0\n",
            "Val   loss 1.5259344031413395 accuracy 0.5925925925925926\n",
            "Precision 0.6091523935002195 Recall 0.6003689064558629 Fscore 0.5914285714285715 Support None\n",
            "\n",
            "Cross Validation: fold 2\n",
            "Epoch 1/10\n",
            "----------\n",
            "Train loss 0.5181962225497478 accuracy 0.8333333333333334\n",
            "Val   loss 0.1696728647996982 accuracy 0.9629629629629629\n",
            "Precision 0.9585858585858587 Recall 0.9626216077828982 Fscore 0.959983357421276 Support None\n",
            "\n",
            "Epoch 2/10\n",
            "----------\n",
            "Train loss 0.33036790291468304 accuracy 0.8919753086419753\n",
            "Val   loss 0.14608170526723066 accuracy 0.9382716049382716\n",
            "Precision 0.9333333333333332 Recall 0.9293924466338259 Fscore 0.9311010059253135 Support None\n",
            "\n",
            "Epoch 3/10\n",
            "----------\n",
            "Train loss 0.14565487540814848 accuracy 0.9506172839506173\n",
            "Val   loss 0.24062149758295467 accuracy 0.9506172839506173\n",
            "Precision 0.9498172514619884 Recall 0.9408866995073892 Fscore 0.9444265088332885 Support None\n",
            "\n",
            "Epoch 4/10\n",
            "----------\n",
            "Train loss 0.17879997183834867 accuracy 0.9598765432098766\n",
            "Val   loss 0.3038502605243896 accuracy 0.9012345679012346\n",
            "Precision 0.9059139784946236 Recall 0.9087875417130146 Fscore 0.8958766302219813 Support None\n",
            "\n",
            "Epoch 5/10\n",
            "----------\n",
            "Train loss 0.04163202706591359 accuracy 0.9938271604938271\n",
            "Val   loss 0.18641177440683046 accuracy 0.9506172839506173\n",
            "Precision 0.9479166666666666 Recall 0.9540229885057471 Fscore 0.9477954144620812 Support None\n",
            "\n",
            "Epoch 6/10\n",
            "----------\n",
            "Train loss 0.03786709594229857 accuracy 0.9938271604938271\n",
            "Val   loss 0.26672791472325724 accuracy 0.9135802469135802\n",
            "Precision 0.9151732377538829 Recall 0.9202817945865777 Fscore 0.9091191066997518 Support None\n",
            "\n",
            "Epoch 7/10\n",
            "----------\n",
            "Train loss 0.02836734339195703 accuracy 0.9938271604938271\n",
            "Val   loss 0.27054049470461905 accuracy 0.9012345679012346\n",
            "Precision 0.9059139784946236 Recall 0.9087875417130146 Fscore 0.8958766302219813 Support None\n",
            "\n",
            "Epoch 8/10\n",
            "----------\n",
            "Train loss 0.02710279347818522 accuracy 0.9938271604938271\n",
            "Val   loss 0.31209965275290114 accuracy 0.9012345679012346\n",
            "Precision 0.9059139784946236 Recall 0.9087875417130146 Fscore 0.8958766302219813 Support None\n",
            "\n",
            "Epoch 9/10\n",
            "----------\n",
            "Train loss 0.01937602139410696 accuracy 0.9938271604938271\n",
            "Val   loss 0.3349679965370645 accuracy 0.9012345679012346\n",
            "Precision 0.9059139784946236 Recall 0.9087875417130146 Fscore 0.8958766302219813 Support None\n",
            "\n",
            "Epoch 10/10\n",
            "----------\n",
            "Train loss 0.009647022683306463 accuracy 0.9969135802469136\n",
            "Val   loss 0.34606826258823276 accuracy 0.9012345679012346\n",
            "Precision 0.9059139784946236 Recall 0.9087875417130146 Fscore 0.8958766302219813 Support None\n",
            "\n",
            "Cross Validation: fold 3\n",
            "Epoch 1/10\n",
            "----------\n",
            "Train loss 0.23819459493859627 accuracy 0.9228395061728395\n",
            "Val   loss 0.07468935775492962 accuracy 0.9753086419753086\n",
            "Precision 0.9776556776556777 Recall 0.9746031746031746 Fscore 0.9758101614629592 Support None\n",
            "\n",
            "Epoch 2/10\n",
            "----------\n",
            "Train loss 0.06832267836822818 accuracy 0.9783950617283951\n",
            "Val   loss 0.028532825361859675 accuracy 0.9876543209876543\n",
            "Precision 0.9871794871794872 Recall 0.9904761904761905 Fscore 0.9886331344131856 Support None\n",
            "\n",
            "Epoch 3/10\n",
            "----------\n",
            "Train loss 0.06037128223328009 accuracy 0.9845679012345679\n",
            "Val   loss 0.061488937756318286 accuracy 0.9753086419753086\n",
            "Precision 0.9771428571428572 Recall 0.9771428571428572 Fscore 0.9771428571428572 Support None\n",
            "\n",
            "Epoch 4/10\n",
            "----------\n",
            "Train loss 0.020164329300834134 accuracy 0.9969135802469136\n",
            "Val   loss 0.1161718859996957 accuracy 0.9753086419753086\n",
            "Precision 0.981981981981982 Recall 0.9707936507936509 Fscore 0.9758079383514923 Support None\n",
            "\n",
            "Epoch 5/10\n",
            "----------\n",
            "Train loss 0.0008436181406501592 accuracy 1.0\n",
            "Val   loss 0.05689735516352812 accuracy 0.9876543209876543\n",
            "Precision 0.9907407407407408 Recall 0.9866666666666667 Fscore 0.9885024432308134 Support None\n",
            "\n",
            "Epoch 6/10\n",
            "----------\n",
            "Train loss 0.00023147330821735696 accuracy 1.0\n",
            "Val   loss 0.04990134212130215 accuracy 0.9876543209876543\n",
            "Precision 0.9907407407407408 Recall 0.9866666666666667 Fscore 0.9885024432308134 Support None\n",
            "\n",
            "Epoch 7/10\n",
            "----------\n",
            "Train loss 0.00019895753177392872 accuracy 1.0\n",
            "Val   loss 0.048391418766793017 accuracy 0.9876543209876543\n",
            "Precision 0.9907407407407408 Recall 0.9866666666666667 Fscore 0.9885024432308134 Support None\n",
            "\n",
            "Epoch 8/10\n",
            "----------\n",
            "Train loss 0.00019011326921394183 accuracy 1.0\n",
            "Val   loss 0.047048509877640754 accuracy 0.9876543209876543\n",
            "Precision 0.9907407407407408 Recall 0.9866666666666667 Fscore 0.9885024432308134 Support None\n",
            "\n",
            "Epoch 9/10\n",
            "----------\n",
            "Train loss 0.00018199940885616734 accuracy 1.0\n",
            "Val   loss 0.04631239491451803 accuracy 0.9876543209876543\n",
            "Precision 0.9907407407407408 Recall 0.9866666666666667 Fscore 0.9885024432308134 Support None\n",
            "\n",
            "Epoch 10/10\n",
            "----------\n",
            "Train loss 0.00017322613261750943 accuracy 1.0\n",
            "Val   loss 0.04624398983287392 accuracy 0.9876543209876543\n",
            "Precision 0.9907407407407408 Recall 0.9866666666666667 Fscore 0.9885024432308134 Support None\n",
            "\n",
            "Cross Validation: fold 4\n",
            "Epoch 1/10\n",
            "----------\n",
            "Train loss 0.09906110532271366 accuracy 0.9845679012345679\n",
            "Val   loss 0.019084870336276556 accuracy 0.9876543209876543\n",
            "Precision 0.9885057471264368 Recall 0.9855072463768115 Fscore 0.9867446393762184 Support None\n",
            "\n",
            "Epoch 2/10\n",
            "----------\n",
            "Train loss 0.13615436888080912 accuracy 0.9722222222222222\n",
            "Val   loss 0.1690348799699374 accuracy 0.9753086419753086\n",
            "Precision 0.9777530589543938 Recall 0.9710144927536232 Fscore 0.9735360507577936 Support None\n",
            "\n",
            "Epoch 3/10\n",
            "----------\n",
            "Train loss 0.09858557005576413 accuracy 0.9814814814814815\n",
            "Val   loss 0.2061362122221908 accuracy 0.9629629629629629\n",
            "Precision 0.9615384615384616 Recall 0.9650793650793651 Fscore 0.9615964402082238 Support None\n",
            "\n",
            "Epoch 4/10\n",
            "----------\n",
            "Train loss 0.10907501063636682 accuracy 0.9783950617283951\n",
            "Val   loss 0.04595157237539146 accuracy 0.9753086419753086\n",
            "Precision 0.9747545582047685 Recall 0.9736024844720497 Fscore 0.9739821594418885 Support None\n",
            "\n",
            "Epoch 5/10\n",
            "----------\n",
            "Train loss 0.01128729661217048 accuracy 0.9969135802469136\n",
            "Val   loss 0.0002369569253157048 accuracy 1.0\n",
            "Precision 1.0 Recall 1.0 Fscore 1.0 Support None\n",
            "\n",
            "Epoch 6/10\n",
            "----------\n",
            "Train loss 0.0002668972658630948 accuracy 1.0\n",
            "Val   loss 0.00012931876881339122 accuracy 1.0\n",
            "Precision 1.0 Recall 1.0 Fscore 1.0 Support None\n",
            "\n",
            "Epoch 7/10\n",
            "----------\n",
            "Train loss 0.00017631761632704487 accuracy 1.0\n",
            "Val   loss 0.00010014213451844019 accuracy 1.0\n",
            "Precision 1.0 Recall 1.0 Fscore 1.0 Support None\n",
            "\n",
            "Epoch 8/10\n",
            "----------\n",
            "Train loss 0.00014726537726043412 accuracy 1.0\n",
            "Val   loss 8.806694495433476e-05 accuracy 1.0\n",
            "Precision 1.0 Recall 1.0 Fscore 1.0 Support None\n",
            "\n",
            "Epoch 9/10\n",
            "----------\n",
            "Train loss 0.00014911096721854328 accuracy 1.0\n",
            "Val   loss 8.523409026868951e-05 accuracy 1.0\n",
            "Precision 1.0 Recall 1.0 Fscore 1.0 Support None\n",
            "\n",
            "Epoch 10/10\n",
            "----------\n",
            "Train loss 0.00013657896661676378 accuracy 1.0\n",
            "Val   loss 8.362001123411271e-05 accuracy 1.0\n",
            "Precision 1.0 Recall 1.0 Fscore 1.0 Support None\n",
            "\n",
            "Cross Validation: fold 5\n",
            "Epoch 1/10\n",
            "----------\n",
            "Train loss 0.08480647783740312 accuracy 0.9783950617283951\n",
            "Val   loss 0.0013610598471132107 accuracy 1.0\n",
            "Precision 1.0 Recall 1.0 Fscore 1.0 Support None\n",
            "\n",
            "Epoch 2/10\n",
            "----------\n",
            "Train loss 0.0006106598708096758 accuracy 1.0\n",
            "Val   loss 4.962299014247643e-05 accuracy 1.0\n",
            "Precision 1.0 Recall 1.0 Fscore 1.0 Support None\n",
            "\n",
            "Epoch 3/10\n",
            "----------\n",
            "Train loss 0.018541821400244123 accuracy 0.9969135802469136\n",
            "Val   loss 3.9452996437224407e-05 accuracy 1.0\n",
            "Precision 1.0 Recall 1.0 Fscore 1.0 Support None\n",
            "\n",
            "Epoch 4/10\n",
            "----------\n",
            "Train loss 0.03265441088738693 accuracy 0.9938271604938271\n",
            "Val   loss 0.00019222032430358618 accuracy 1.0\n",
            "Precision 1.0 Recall 1.0 Fscore 1.0 Support None\n",
            "\n",
            "Epoch 5/10\n",
            "----------\n",
            "Train loss 7.109187390597071e-05 accuracy 1.0\n",
            "Val   loss 0.10443602382656536 accuracy 0.9876543209876543\n",
            "Precision 0.9855072463768115 Recall 0.9871794871794872 Fscore 0.9860566448801743 Support None\n",
            "\n",
            "Epoch 6/10\n",
            "----------\n",
            "Train loss 0.0003265224339494515 accuracy 1.0\n",
            "Val   loss 7.263748617939807e-05 accuracy 1.0\n",
            "Precision 1.0 Recall 1.0 Fscore 1.0 Support None\n",
            "\n",
            "Epoch 7/10\n",
            "----------\n",
            "Train loss 3.920601011486724e-05 accuracy 1.0\n",
            "Val   loss 2.773160000894374e-05 accuracy 1.0\n",
            "Precision 1.0 Recall 1.0 Fscore 1.0 Support None\n",
            "\n",
            "Epoch 8/10\n",
            "----------\n",
            "Train loss 9.730408098784253e-05 accuracy 1.0\n",
            "Val   loss 2.5037281981591757e-05 accuracy 1.0\n",
            "Precision 1.0 Recall 1.0 Fscore 1.0 Support None\n",
            "\n",
            "Epoch 9/10\n",
            "----------\n",
            "Train loss 3.699347984192649e-05 accuracy 1.0\n",
            "Val   loss 2.4592738251764484e-05 accuracy 1.0\n",
            "Precision 1.0 Recall 1.0 Fscore 1.0 Support None\n",
            "\n",
            "Epoch 10/10\n",
            "----------\n",
            "Train loss 3.150499521455329e-05 accuracy 1.0\n",
            "Val   loss 2.4360539403763443e-05 accuracy 1.0\n",
            "Precision 1.0 Recall 1.0 Fscore 1.0 Support None\n",
            "\n",
            "CPU times: user 6h 54min 50s, sys: 13min 29s, total: 7h 8min 20s\n",
            "Wall time: 7h 9min 26s\n"
          ],
          "name": "stdout"
        }
      ]
    },
    {
      "cell_type": "code",
      "metadata": {
        "id": "0civsioRsKSF",
        "colab_type": "code",
        "colab": {}
      },
      "source": [
        "best_results_df = pd.DataFrame(best_results, columns = ['Accuracy', 'Precision', 'FScore','Recall', 'Support'])"
      ],
      "execution_count": 45,
      "outputs": []
    },
    {
      "cell_type": "code",
      "metadata": {
        "id": "b98h6YOksKPG",
        "colab_type": "code",
        "colab": {}
      },
      "source": [
        "best_results_df"
      ],
      "execution_count": null,
      "outputs": []
    },
    {
      "cell_type": "code",
      "metadata": {
        "id": "NzJKHM9asKLZ",
        "colab_type": "code",
        "colab": {
          "base_uri": "https://localhost:8080/",
          "height": 34
        },
        "outputId": "7cb68b34-4378-41d0-ce3f-d41449662212"
      },
      "source": [
        " best_results_df.Precision.mean(),  best_results_df.Precision.std()"
      ],
      "execution_count": 54,
      "outputs": [
        {
          "output_type": "execute_result",
          "data": {
            "text/plain": [
              "(0.9236146076146078, 0.14149920876935113)"
            ]
          },
          "metadata": {
            "tags": []
          },
          "execution_count": 54
        }
      ]
    },
    {
      "cell_type": "code",
      "metadata": {
        "id": "xzJZKDVN2Jmr",
        "colab_type": "code",
        "colab": {
          "base_uri": "https://localhost:8080/",
          "height": 34
        },
        "outputId": "a4aeca31-f2bc-41c3-b890-62c997b2c571"
      },
      "source": [
        " best_results_df.FScore.mean(),  best_results_df.FScore.std()"
      ],
      "execution_count": 55,
      "outputs": [
        {
          "output_type": "execute_result",
          "data": {
            "text/plain": [
              "(0.9224518506028337, 0.1456006113042864)"
            ]
          },
          "metadata": {
            "tags": []
          },
          "execution_count": 55
        }
      ]
    },
    {
      "cell_type": "code",
      "metadata": {
        "id": "Qgbzt5Dn2Jw9",
        "colab_type": "code",
        "colab": {
          "base_uri": "https://localhost:8080/",
          "height": 34
        },
        "outputId": "fa8c1bd1-d86a-456a-c7fe-65f3cf856ed3"
      },
      "source": [
        " best_results_df.Recall.mean(),  best_results_df.Recall.std()"
      ],
      "execution_count": 56,
      "outputs": [
        {
          "output_type": "execute_result",
          "data": {
            "text/plain": [
              "(0.9245220629456254, 0.14337470925279003)"
            ]
          },
          "metadata": {
            "tags": []
          },
          "execution_count": 56
        }
      ]
    },
    {
      "cell_type": "code",
      "metadata": {
        "id": "pxtllFjN2JiS",
        "colab_type": "code",
        "colab": {
          "base_uri": "https://localhost:8080/",
          "height": 34
        },
        "outputId": "8d937ebc-9927-4fe3-892d-bd41b41f81ba"
      },
      "source": [
        "accuracy_list = [0.6667, 0.9630, 0.9877, 1, 1]\n",
        "np.mean(accuracy_list), np.std(accuracy_list)"
      ],
      "execution_count": 43,
      "outputs": [
        {
          "output_type": "execute_result",
          "data": {
            "text/plain": [
              "(0.92348, 0.1290988985235738)"
            ]
          },
          "metadata": {
            "tags": []
          },
          "execution_count": 43
        }
      ]
    },
    {
      "cell_type": "code",
      "metadata": {
        "id": "tHG9eosG-fpy",
        "colab_type": "code",
        "colab": {}
      },
      "source": [
        "model = SentimentClassifier(len(class_names))\n",
        "model.load_state_dict(torch.load('best_model_state.bin'))\n",
        "model = model.to(device)"
      ],
      "execution_count": 64,
      "outputs": []
    },
    {
      "cell_type": "code",
      "metadata": {
        "id": "rVBL-w5qFR_T",
        "colab_type": "code",
        "colab": {}
      },
      "source": [
        "text = 'bearish market'"
      ],
      "execution_count": 80,
      "outputs": []
    },
    {
      "cell_type": "code",
      "metadata": {
        "id": "ZbbHnJVRFXgW",
        "colab_type": "code",
        "colab": {}
      },
      "source": [
        "MAX_LEN = 150\n",
        "encoded_text = tokenizer.encode_plus(\n",
        "  text,\n",
        "  max_length=MAX_LEN,\n",
        "  truncation = True, \n",
        "  add_special_tokens=True,\n",
        "  return_token_type_ids=False,\n",
        "  pad_to_max_length=True,\n",
        "  return_attention_mask=True,\n",
        "  return_tensors='pt',\n",
        ")"
      ],
      "execution_count": 81,
      "outputs": []
    },
    {
      "cell_type": "code",
      "metadata": {
        "id": "PJwsSTyDFi0R",
        "colab_type": "code",
        "colab": {
          "base_uri": "https://localhost:8080/",
          "height": 52
        },
        "outputId": "425784f5-3718-4111-b5f3-50d8b1064afd"
      },
      "source": [
        "input_ids = encoded_text['input_ids'].to(device)\n",
        "attention_mask = encoded_text['attention_mask'].to(device)\n",
        "output = model(input_ids, attention_mask)\n",
        "_, prediction = torch.max(output, dim=1)\n",
        "print(f'Text       : {text}')\n",
        "print(f'Sentiment  : {class_names[prediction]}')\n"
      ],
      "execution_count": 82,
      "outputs": [
        {
          "output_type": "stream",
          "text": [
            "Text       : bearish market\n",
            "Sentiment  : negative\n"
          ],
          "name": "stdout"
        }
      ]
    }
  ]
}