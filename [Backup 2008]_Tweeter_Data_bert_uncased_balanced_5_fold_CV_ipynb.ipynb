{
  "nbformat": 4,
  "nbformat_minor": 0,
  "metadata": {
    "colab": {
      "name": "[Main] Tweeter Data bert uncased- balanced-5-fold CV. ipynb",
      "provenance": [],
      "collapsed_sections": [],
      "toc_visible": true,
      "authorship_tag": "ABX9TyNYKifhxvdB1FeC9NbKg9t1",
      "include_colab_link": true
    },
    "kernelspec": {
      "name": "python3",
      "display_name": "Python 3"
    },
    "widgets": {
      "application/vnd.jupyter.widget-state+json": {
        "a6b9fd9e846047e496c79a90be2cec83": {
          "model_module": "@jupyter-widgets/controls",
          "model_name": "HBoxModel",
          "state": {
            "_view_name": "HBoxView",
            "_dom_classes": [],
            "_model_name": "HBoxModel",
            "_view_module": "@jupyter-widgets/controls",
            "_model_module_version": "1.5.0",
            "_view_count": null,
            "_view_module_version": "1.5.0",
            "box_style": "",
            "layout": "IPY_MODEL_b5203b46bebc4af7acde0978f6ce12b9",
            "_model_module": "@jupyter-widgets/controls",
            "children": [
              "IPY_MODEL_6b082dd81d3b4cd8a2437aaea2a9efdc",
              "IPY_MODEL_445a68c155eb4bb88e7d34626a407faa"
            ]
          }
        },
        "b5203b46bebc4af7acde0978f6ce12b9": {
          "model_module": "@jupyter-widgets/base",
          "model_name": "LayoutModel",
          "state": {
            "_view_name": "LayoutView",
            "grid_template_rows": null,
            "right": null,
            "justify_content": null,
            "_view_module": "@jupyter-widgets/base",
            "overflow": null,
            "_model_module_version": "1.2.0",
            "_view_count": null,
            "flex_flow": null,
            "width": null,
            "min_width": null,
            "border": null,
            "align_items": null,
            "bottom": null,
            "_model_module": "@jupyter-widgets/base",
            "top": null,
            "grid_column": null,
            "overflow_y": null,
            "overflow_x": null,
            "grid_auto_flow": null,
            "grid_area": null,
            "grid_template_columns": null,
            "flex": null,
            "_model_name": "LayoutModel",
            "justify_items": null,
            "grid_row": null,
            "max_height": null,
            "align_content": null,
            "visibility": null,
            "align_self": null,
            "height": null,
            "min_height": null,
            "padding": null,
            "grid_auto_rows": null,
            "grid_gap": null,
            "max_width": null,
            "order": null,
            "_view_module_version": "1.2.0",
            "grid_template_areas": null,
            "object_position": null,
            "object_fit": null,
            "grid_auto_columns": null,
            "margin": null,
            "display": null,
            "left": null
          }
        },
        "6b082dd81d3b4cd8a2437aaea2a9efdc": {
          "model_module": "@jupyter-widgets/controls",
          "model_name": "FloatProgressModel",
          "state": {
            "_view_name": "ProgressView",
            "style": "IPY_MODEL_26d98c42b5a2465eab7ee0eec39a2739",
            "_dom_classes": [],
            "description": "Downloading: 100%",
            "_model_name": "FloatProgressModel",
            "bar_style": "success",
            "max": 231508,
            "_view_module": "@jupyter-widgets/controls",
            "_model_module_version": "1.5.0",
            "value": 231508,
            "_view_count": null,
            "_view_module_version": "1.5.0",
            "orientation": "horizontal",
            "min": 0,
            "description_tooltip": null,
            "_model_module": "@jupyter-widgets/controls",
            "layout": "IPY_MODEL_f5e4366c10aa4e1b90b9a694a92a390a"
          }
        },
        "445a68c155eb4bb88e7d34626a407faa": {
          "model_module": "@jupyter-widgets/controls",
          "model_name": "HTMLModel",
          "state": {
            "_view_name": "HTMLView",
            "style": "IPY_MODEL_b54e393b49304dd4ad1f1bee82211586",
            "_dom_classes": [],
            "description": "",
            "_model_name": "HTMLModel",
            "placeholder": "​",
            "_view_module": "@jupyter-widgets/controls",
            "_model_module_version": "1.5.0",
            "value": " 232k/232k [00:00&lt;00:00, 613kB/s]",
            "_view_count": null,
            "_view_module_version": "1.5.0",
            "description_tooltip": null,
            "_model_module": "@jupyter-widgets/controls",
            "layout": "IPY_MODEL_b2922aa130824177b85e2a258e9201d2"
          }
        },
        "26d98c42b5a2465eab7ee0eec39a2739": {
          "model_module": "@jupyter-widgets/controls",
          "model_name": "ProgressStyleModel",
          "state": {
            "_view_name": "StyleView",
            "_model_name": "ProgressStyleModel",
            "description_width": "initial",
            "_view_module": "@jupyter-widgets/base",
            "_model_module_version": "1.5.0",
            "_view_count": null,
            "_view_module_version": "1.2.0",
            "bar_color": null,
            "_model_module": "@jupyter-widgets/controls"
          }
        },
        "f5e4366c10aa4e1b90b9a694a92a390a": {
          "model_module": "@jupyter-widgets/base",
          "model_name": "LayoutModel",
          "state": {
            "_view_name": "LayoutView",
            "grid_template_rows": null,
            "right": null,
            "justify_content": null,
            "_view_module": "@jupyter-widgets/base",
            "overflow": null,
            "_model_module_version": "1.2.0",
            "_view_count": null,
            "flex_flow": null,
            "width": null,
            "min_width": null,
            "border": null,
            "align_items": null,
            "bottom": null,
            "_model_module": "@jupyter-widgets/base",
            "top": null,
            "grid_column": null,
            "overflow_y": null,
            "overflow_x": null,
            "grid_auto_flow": null,
            "grid_area": null,
            "grid_template_columns": null,
            "flex": null,
            "_model_name": "LayoutModel",
            "justify_items": null,
            "grid_row": null,
            "max_height": null,
            "align_content": null,
            "visibility": null,
            "align_self": null,
            "height": null,
            "min_height": null,
            "padding": null,
            "grid_auto_rows": null,
            "grid_gap": null,
            "max_width": null,
            "order": null,
            "_view_module_version": "1.2.0",
            "grid_template_areas": null,
            "object_position": null,
            "object_fit": null,
            "grid_auto_columns": null,
            "margin": null,
            "display": null,
            "left": null
          }
        },
        "b54e393b49304dd4ad1f1bee82211586": {
          "model_module": "@jupyter-widgets/controls",
          "model_name": "DescriptionStyleModel",
          "state": {
            "_view_name": "StyleView",
            "_model_name": "DescriptionStyleModel",
            "description_width": "",
            "_view_module": "@jupyter-widgets/base",
            "_model_module_version": "1.5.0",
            "_view_count": null,
            "_view_module_version": "1.2.0",
            "_model_module": "@jupyter-widgets/controls"
          }
        },
        "b2922aa130824177b85e2a258e9201d2": {
          "model_module": "@jupyter-widgets/base",
          "model_name": "LayoutModel",
          "state": {
            "_view_name": "LayoutView",
            "grid_template_rows": null,
            "right": null,
            "justify_content": null,
            "_view_module": "@jupyter-widgets/base",
            "overflow": null,
            "_model_module_version": "1.2.0",
            "_view_count": null,
            "flex_flow": null,
            "width": null,
            "min_width": null,
            "border": null,
            "align_items": null,
            "bottom": null,
            "_model_module": "@jupyter-widgets/base",
            "top": null,
            "grid_column": null,
            "overflow_y": null,
            "overflow_x": null,
            "grid_auto_flow": null,
            "grid_area": null,
            "grid_template_columns": null,
            "flex": null,
            "_model_name": "LayoutModel",
            "justify_items": null,
            "grid_row": null,
            "max_height": null,
            "align_content": null,
            "visibility": null,
            "align_self": null,
            "height": null,
            "min_height": null,
            "padding": null,
            "grid_auto_rows": null,
            "grid_gap": null,
            "max_width": null,
            "order": null,
            "_view_module_version": "1.2.0",
            "grid_template_areas": null,
            "object_position": null,
            "object_fit": null,
            "grid_auto_columns": null,
            "margin": null,
            "display": null,
            "left": null
          }
        },
        "62291a08d1004c57872639461ba0dc7a": {
          "model_module": "@jupyter-widgets/controls",
          "model_name": "HBoxModel",
          "state": {
            "_view_name": "HBoxView",
            "_dom_classes": [],
            "_model_name": "HBoxModel",
            "_view_module": "@jupyter-widgets/controls",
            "_model_module_version": "1.5.0",
            "_view_count": null,
            "_view_module_version": "1.5.0",
            "box_style": "",
            "layout": "IPY_MODEL_2d4a695292e341548691d9e1cd5828f7",
            "_model_module": "@jupyter-widgets/controls",
            "children": [
              "IPY_MODEL_6015314edb304bcebb3d9c75e1b43385",
              "IPY_MODEL_17d75c6de01f46ac960b293fb57ac965"
            ]
          }
        },
        "2d4a695292e341548691d9e1cd5828f7": {
          "model_module": "@jupyter-widgets/base",
          "model_name": "LayoutModel",
          "state": {
            "_view_name": "LayoutView",
            "grid_template_rows": null,
            "right": null,
            "justify_content": null,
            "_view_module": "@jupyter-widgets/base",
            "overflow": null,
            "_model_module_version": "1.2.0",
            "_view_count": null,
            "flex_flow": null,
            "width": null,
            "min_width": null,
            "border": null,
            "align_items": null,
            "bottom": null,
            "_model_module": "@jupyter-widgets/base",
            "top": null,
            "grid_column": null,
            "overflow_y": null,
            "overflow_x": null,
            "grid_auto_flow": null,
            "grid_area": null,
            "grid_template_columns": null,
            "flex": null,
            "_model_name": "LayoutModel",
            "justify_items": null,
            "grid_row": null,
            "max_height": null,
            "align_content": null,
            "visibility": null,
            "align_self": null,
            "height": null,
            "min_height": null,
            "padding": null,
            "grid_auto_rows": null,
            "grid_gap": null,
            "max_width": null,
            "order": null,
            "_view_module_version": "1.2.0",
            "grid_template_areas": null,
            "object_position": null,
            "object_fit": null,
            "grid_auto_columns": null,
            "margin": null,
            "display": null,
            "left": null
          }
        },
        "6015314edb304bcebb3d9c75e1b43385": {
          "model_module": "@jupyter-widgets/controls",
          "model_name": "FloatProgressModel",
          "state": {
            "_view_name": "ProgressView",
            "style": "IPY_MODEL_bdb310e4bd014e7b8f799c2832c127ba",
            "_dom_classes": [],
            "description": "Downloading: 100%",
            "_model_name": "FloatProgressModel",
            "bar_style": "success",
            "max": 433,
            "_view_module": "@jupyter-widgets/controls",
            "_model_module_version": "1.5.0",
            "value": 433,
            "_view_count": null,
            "_view_module_version": "1.5.0",
            "orientation": "horizontal",
            "min": 0,
            "description_tooltip": null,
            "_model_module": "@jupyter-widgets/controls",
            "layout": "IPY_MODEL_5ab1a9db5dd54313a31cb9e9bbb13b4f"
          }
        },
        "17d75c6de01f46ac960b293fb57ac965": {
          "model_module": "@jupyter-widgets/controls",
          "model_name": "HTMLModel",
          "state": {
            "_view_name": "HTMLView",
            "style": "IPY_MODEL_10ac5637fb3c481abed540eac3ac1acf",
            "_dom_classes": [],
            "description": "",
            "_model_name": "HTMLModel",
            "placeholder": "​",
            "_view_module": "@jupyter-widgets/controls",
            "_model_module_version": "1.5.0",
            "value": " 433/433 [00:09&lt;00:00, 45.1B/s]",
            "_view_count": null,
            "_view_module_version": "1.5.0",
            "description_tooltip": null,
            "_model_module": "@jupyter-widgets/controls",
            "layout": "IPY_MODEL_2881b7fc64a548cb9108616c67d632e2"
          }
        },
        "bdb310e4bd014e7b8f799c2832c127ba": {
          "model_module": "@jupyter-widgets/controls",
          "model_name": "ProgressStyleModel",
          "state": {
            "_view_name": "StyleView",
            "_model_name": "ProgressStyleModel",
            "description_width": "initial",
            "_view_module": "@jupyter-widgets/base",
            "_model_module_version": "1.5.0",
            "_view_count": null,
            "_view_module_version": "1.2.0",
            "bar_color": null,
            "_model_module": "@jupyter-widgets/controls"
          }
        },
        "5ab1a9db5dd54313a31cb9e9bbb13b4f": {
          "model_module": "@jupyter-widgets/base",
          "model_name": "LayoutModel",
          "state": {
            "_view_name": "LayoutView",
            "grid_template_rows": null,
            "right": null,
            "justify_content": null,
            "_view_module": "@jupyter-widgets/base",
            "overflow": null,
            "_model_module_version": "1.2.0",
            "_view_count": null,
            "flex_flow": null,
            "width": null,
            "min_width": null,
            "border": null,
            "align_items": null,
            "bottom": null,
            "_model_module": "@jupyter-widgets/base",
            "top": null,
            "grid_column": null,
            "overflow_y": null,
            "overflow_x": null,
            "grid_auto_flow": null,
            "grid_area": null,
            "grid_template_columns": null,
            "flex": null,
            "_model_name": "LayoutModel",
            "justify_items": null,
            "grid_row": null,
            "max_height": null,
            "align_content": null,
            "visibility": null,
            "align_self": null,
            "height": null,
            "min_height": null,
            "padding": null,
            "grid_auto_rows": null,
            "grid_gap": null,
            "max_width": null,
            "order": null,
            "_view_module_version": "1.2.0",
            "grid_template_areas": null,
            "object_position": null,
            "object_fit": null,
            "grid_auto_columns": null,
            "margin": null,
            "display": null,
            "left": null
          }
        },
        "10ac5637fb3c481abed540eac3ac1acf": {
          "model_module": "@jupyter-widgets/controls",
          "model_name": "DescriptionStyleModel",
          "state": {
            "_view_name": "StyleView",
            "_model_name": "DescriptionStyleModel",
            "description_width": "",
            "_view_module": "@jupyter-widgets/base",
            "_model_module_version": "1.5.0",
            "_view_count": null,
            "_view_module_version": "1.2.0",
            "_model_module": "@jupyter-widgets/controls"
          }
        },
        "2881b7fc64a548cb9108616c67d632e2": {
          "model_module": "@jupyter-widgets/base",
          "model_name": "LayoutModel",
          "state": {
            "_view_name": "LayoutView",
            "grid_template_rows": null,
            "right": null,
            "justify_content": null,
            "_view_module": "@jupyter-widgets/base",
            "overflow": null,
            "_model_module_version": "1.2.0",
            "_view_count": null,
            "flex_flow": null,
            "width": null,
            "min_width": null,
            "border": null,
            "align_items": null,
            "bottom": null,
            "_model_module": "@jupyter-widgets/base",
            "top": null,
            "grid_column": null,
            "overflow_y": null,
            "overflow_x": null,
            "grid_auto_flow": null,
            "grid_area": null,
            "grid_template_columns": null,
            "flex": null,
            "_model_name": "LayoutModel",
            "justify_items": null,
            "grid_row": null,
            "max_height": null,
            "align_content": null,
            "visibility": null,
            "align_self": null,
            "height": null,
            "min_height": null,
            "padding": null,
            "grid_auto_rows": null,
            "grid_gap": null,
            "max_width": null,
            "order": null,
            "_view_module_version": "1.2.0",
            "grid_template_areas": null,
            "object_position": null,
            "object_fit": null,
            "grid_auto_columns": null,
            "margin": null,
            "display": null,
            "left": null
          }
        },
        "3f73e57d50b24eaca9127d2f8f064732": {
          "model_module": "@jupyter-widgets/controls",
          "model_name": "HBoxModel",
          "state": {
            "_view_name": "HBoxView",
            "_dom_classes": [],
            "_model_name": "HBoxModel",
            "_view_module": "@jupyter-widgets/controls",
            "_model_module_version": "1.5.0",
            "_view_count": null,
            "_view_module_version": "1.5.0",
            "box_style": "",
            "layout": "IPY_MODEL_edd154e186fc4844a976946aa5f82c10",
            "_model_module": "@jupyter-widgets/controls",
            "children": [
              "IPY_MODEL_fd5c27acd6724a628465cb3910552f67",
              "IPY_MODEL_842d7a32b2104669b8a3346207676ff8"
            ]
          }
        },
        "edd154e186fc4844a976946aa5f82c10": {
          "model_module": "@jupyter-widgets/base",
          "model_name": "LayoutModel",
          "state": {
            "_view_name": "LayoutView",
            "grid_template_rows": null,
            "right": null,
            "justify_content": null,
            "_view_module": "@jupyter-widgets/base",
            "overflow": null,
            "_model_module_version": "1.2.0",
            "_view_count": null,
            "flex_flow": null,
            "width": null,
            "min_width": null,
            "border": null,
            "align_items": null,
            "bottom": null,
            "_model_module": "@jupyter-widgets/base",
            "top": null,
            "grid_column": null,
            "overflow_y": null,
            "overflow_x": null,
            "grid_auto_flow": null,
            "grid_area": null,
            "grid_template_columns": null,
            "flex": null,
            "_model_name": "LayoutModel",
            "justify_items": null,
            "grid_row": null,
            "max_height": null,
            "align_content": null,
            "visibility": null,
            "align_self": null,
            "height": null,
            "min_height": null,
            "padding": null,
            "grid_auto_rows": null,
            "grid_gap": null,
            "max_width": null,
            "order": null,
            "_view_module_version": "1.2.0",
            "grid_template_areas": null,
            "object_position": null,
            "object_fit": null,
            "grid_auto_columns": null,
            "margin": null,
            "display": null,
            "left": null
          }
        },
        "fd5c27acd6724a628465cb3910552f67": {
          "model_module": "@jupyter-widgets/controls",
          "model_name": "FloatProgressModel",
          "state": {
            "_view_name": "ProgressView",
            "style": "IPY_MODEL_3a6c0dbf11f24a049d694fa641f5b535",
            "_dom_classes": [],
            "description": "Downloading: 100%",
            "_model_name": "FloatProgressModel",
            "bar_style": "success",
            "max": 440473133,
            "_view_module": "@jupyter-widgets/controls",
            "_model_module_version": "1.5.0",
            "value": 440473133,
            "_view_count": null,
            "_view_module_version": "1.5.0",
            "orientation": "horizontal",
            "min": 0,
            "description_tooltip": null,
            "_model_module": "@jupyter-widgets/controls",
            "layout": "IPY_MODEL_897cf57d45cf421e9076f04601d05a1c"
          }
        },
        "842d7a32b2104669b8a3346207676ff8": {
          "model_module": "@jupyter-widgets/controls",
          "model_name": "HTMLModel",
          "state": {
            "_view_name": "HTMLView",
            "style": "IPY_MODEL_4a50efab781c46bdaf2e3111f297c920",
            "_dom_classes": [],
            "description": "",
            "_model_name": "HTMLModel",
            "placeholder": "​",
            "_view_module": "@jupyter-widgets/controls",
            "_model_module_version": "1.5.0",
            "value": " 440M/440M [00:09&lt;00:00, 46.6MB/s]",
            "_view_count": null,
            "_view_module_version": "1.5.0",
            "description_tooltip": null,
            "_model_module": "@jupyter-widgets/controls",
            "layout": "IPY_MODEL_1f752b6ef99f49fdb50e7cc2ec90ee5e"
          }
        },
        "3a6c0dbf11f24a049d694fa641f5b535": {
          "model_module": "@jupyter-widgets/controls",
          "model_name": "ProgressStyleModel",
          "state": {
            "_view_name": "StyleView",
            "_model_name": "ProgressStyleModel",
            "description_width": "initial",
            "_view_module": "@jupyter-widgets/base",
            "_model_module_version": "1.5.0",
            "_view_count": null,
            "_view_module_version": "1.2.0",
            "bar_color": null,
            "_model_module": "@jupyter-widgets/controls"
          }
        },
        "897cf57d45cf421e9076f04601d05a1c": {
          "model_module": "@jupyter-widgets/base",
          "model_name": "LayoutModel",
          "state": {
            "_view_name": "LayoutView",
            "grid_template_rows": null,
            "right": null,
            "justify_content": null,
            "_view_module": "@jupyter-widgets/base",
            "overflow": null,
            "_model_module_version": "1.2.0",
            "_view_count": null,
            "flex_flow": null,
            "width": null,
            "min_width": null,
            "border": null,
            "align_items": null,
            "bottom": null,
            "_model_module": "@jupyter-widgets/base",
            "top": null,
            "grid_column": null,
            "overflow_y": null,
            "overflow_x": null,
            "grid_auto_flow": null,
            "grid_area": null,
            "grid_template_columns": null,
            "flex": null,
            "_model_name": "LayoutModel",
            "justify_items": null,
            "grid_row": null,
            "max_height": null,
            "align_content": null,
            "visibility": null,
            "align_self": null,
            "height": null,
            "min_height": null,
            "padding": null,
            "grid_auto_rows": null,
            "grid_gap": null,
            "max_width": null,
            "order": null,
            "_view_module_version": "1.2.0",
            "grid_template_areas": null,
            "object_position": null,
            "object_fit": null,
            "grid_auto_columns": null,
            "margin": null,
            "display": null,
            "left": null
          }
        },
        "4a50efab781c46bdaf2e3111f297c920": {
          "model_module": "@jupyter-widgets/controls",
          "model_name": "DescriptionStyleModel",
          "state": {
            "_view_name": "StyleView",
            "_model_name": "DescriptionStyleModel",
            "description_width": "",
            "_view_module": "@jupyter-widgets/base",
            "_model_module_version": "1.5.0",
            "_view_count": null,
            "_view_module_version": "1.2.0",
            "_model_module": "@jupyter-widgets/controls"
          }
        },
        "1f752b6ef99f49fdb50e7cc2ec90ee5e": {
          "model_module": "@jupyter-widgets/base",
          "model_name": "LayoutModel",
          "state": {
            "_view_name": "LayoutView",
            "grid_template_rows": null,
            "right": null,
            "justify_content": null,
            "_view_module": "@jupyter-widgets/base",
            "overflow": null,
            "_model_module_version": "1.2.0",
            "_view_count": null,
            "flex_flow": null,
            "width": null,
            "min_width": null,
            "border": null,
            "align_items": null,
            "bottom": null,
            "_model_module": "@jupyter-widgets/base",
            "top": null,
            "grid_column": null,
            "overflow_y": null,
            "overflow_x": null,
            "grid_auto_flow": null,
            "grid_area": null,
            "grid_template_columns": null,
            "flex": null,
            "_model_name": "LayoutModel",
            "justify_items": null,
            "grid_row": null,
            "max_height": null,
            "align_content": null,
            "visibility": null,
            "align_self": null,
            "height": null,
            "min_height": null,
            "padding": null,
            "grid_auto_rows": null,
            "grid_gap": null,
            "max_width": null,
            "order": null,
            "_view_module_version": "1.2.0",
            "grid_template_areas": null,
            "object_position": null,
            "object_fit": null,
            "grid_auto_columns": null,
            "margin": null,
            "display": null,
            "left": null
          }
        }
      }
    }
  },
  "cells": [
    {
      "cell_type": "markdown",
      "metadata": {
        "id": "view-in-github",
        "colab_type": "text"
      },
      "source": [
        "<a href=\"https://colab.research.google.com/github/ngocanh1018/Thesis/blob/master/%5BBackup%202008%5D_Tweeter_Data_bert_uncased_balanced_5_fold_CV_ipynb.ipynb\" target=\"_parent\"><img src=\"https://colab.research.google.com/assets/colab-badge.svg\" alt=\"Open In Colab\"/></a>"
      ]
    },
    {
      "cell_type": "markdown",
      "metadata": {
        "id": "A6JkMn1nSvoZ",
        "colab_type": "text"
      },
      "source": [
        ""
      ]
    },
    {
      "cell_type": "markdown",
      "metadata": {
        "id": "tm3FwxCQUHDu",
        "colab_type": "text"
      },
      "source": [
        "# Tweeter Data"
      ]
    },
    {
      "cell_type": "code",
      "metadata": {
        "id": "V88T_STk3nxP",
        "colab_type": "code",
        "colab": {
          "base_uri": "https://localhost:8080/",
          "height": 195
        },
        "outputId": "88314d84-7667-4bcc-8d7e-c01dc55dd165"
      },
      "source": [
        "!pip install GetOldTweets3\n"
      ],
      "execution_count": null,
      "outputs": [
        {
          "output_type": "stream",
          "text": [
            "Collecting GetOldTweets3\n",
            "  Downloading https://files.pythonhosted.org/packages/ed/f4/a00c2a7c90801abc875325bb5416ce9090ac86d06a00cc887131bd73ba45/GetOldTweets3-0.0.11-py3-none-any.whl\n",
            "Collecting pyquery>=1.2.10\n",
            "  Downloading https://files.pythonhosted.org/packages/78/43/95d42e386c61cb639d1a0b94f0c0b9f0b7d6b981ad3c043a836c8b5bc68b/pyquery-1.4.1-py2.py3-none-any.whl\n",
            "Requirement already satisfied: lxml>=3.5.0 in /usr/local/lib/python3.6/dist-packages (from GetOldTweets3) (4.2.6)\n",
            "Collecting cssselect>0.7.9\n",
            "  Downloading https://files.pythonhosted.org/packages/3b/d4/3b5c17f00cce85b9a1e6f91096e1cc8e8ede2e1be8e96b87ce1ed09e92c5/cssselect-1.1.0-py2.py3-none-any.whl\n",
            "Installing collected packages: cssselect, pyquery, GetOldTweets3\n",
            "Successfully installed GetOldTweets3-0.0.11 cssselect-1.1.0 pyquery-1.4.1\n"
          ],
          "name": "stdout"
        }
      ]
    },
    {
      "cell_type": "code",
      "metadata": {
        "id": "xRs4zpez5cmP",
        "colab_type": "code",
        "colab": {}
      },
      "source": [
        "import GetOldTweets3 as got\n"
      ],
      "execution_count": null,
      "outputs": []
    },
    {
      "cell_type": "code",
      "metadata": {
        "id": "9tvz557M7qJL",
        "colab_type": "code",
        "colab": {}
      },
      "source": [
        "def get_tweets(query, start_date, end_date):\n",
        "   \n",
        "    # specifying tweet search criteria \n",
        "    tweetCriteria = got.manager.TweetCriteria()\\\n",
        "                          .setQuerySearch(query)\\\n",
        "                          .setSince(start_date)\\\n",
        "                          .setUntil(end_date)\\\n",
        "                              \n",
        "    # scraping tweets based on criteria\n",
        "    tweet = got.manager.TweetManager.getTweets(tweetCriteria)\n",
        "    \n",
        "    # creating list of tweets with the tweet attributes \n",
        "    # specified in the list comprehension\n",
        "    text_tweets = [[tw.text,\n",
        "                tw.date,\n",
        "                tw.retweets,\n",
        "                tw.favorites,\n",
        "                tw.mentions,\n",
        "                tw.hashtags] for tw in tweet]\n",
        "    \n",
        "    # creating dataframe, assigning column names to list of\n",
        "    # tweets corresponding to tweet attributes\n",
        "    news_df = pd.DataFrame(text_tweets, \n",
        "                            columns = ['Text','Date','Favorites', 'Retweets', 'Mentions', 'HashTags'])\n",
        "    \n",
        "    return news_df"
      ],
      "execution_count": null,
      "outputs": []
    },
    {
      "cell_type": "markdown",
      "metadata": {
        "id": "QappmpsYTInd",
        "colab_type": "text"
      },
      "source": [
        "Downloadn tweets that contains 3 words \"DJI\",\"stock\" and \"market\" from 01-03-2020 to 31-05-2020"
      ]
    },
    {
      "cell_type": "code",
      "metadata": {
        "id": "P8S-_9baBcSB",
        "colab_type": "code",
        "colab": {}
      },
      "source": [
        "df= get_tweets('DJI stock market', '2020-03-01', '2020-06-01')"
      ],
      "execution_count": null,
      "outputs": []
    },
    {
      "cell_type": "markdown",
      "metadata": {
        "id": "CLZTuSAET4Bs",
        "colab_type": "text"
      },
      "source": [
        "Save the collected data to a csv file"
      ]
    },
    {
      "cell_type": "code",
      "metadata": {
        "id": "dAAjQmJWCdpz",
        "colab_type": "code",
        "colab": {}
      },
      "source": [
        "df.to_csv('tweet_data.csv')"
      ],
      "execution_count": null,
      "outputs": []
    },
    {
      "cell_type": "markdown",
      "metadata": {
        "id": "HB4PJW3nUXGJ",
        "colab_type": "text"
      },
      "source": [
        "# Stock Data"
      ]
    },
    {
      "cell_type": "code",
      "metadata": {
        "id": "ueLRt5uxUmLW",
        "colab_type": "code",
        "colab": {}
      },
      "source": [
        "import pandas as pd\n",
        "from pandas_datareader import data\n",
        "\n",
        "start_date = '2020-02-28'\n",
        "end_date = '2020-06-01'\n",
        "\n",
        "ticker = '^DJI'\n",
        "\n",
        "#download data of Down Jones Industrial Index from 28-02-2020 to 31-05.2020\n",
        "data = data.get_data_yahoo(ticker, start_date, end_date)\n",
        "\n",
        "#save the output to an csv file\n",
        "data.to_csv('DJI_data.csv')"
      ],
      "execution_count": null,
      "outputs": []
    },
    {
      "cell_type": "markdown",
      "metadata": {
        "id": "aQIR7WTWVU4h",
        "colab_type": "text"
      },
      "source": [
        "# Environment Setup"
      ]
    },
    {
      "cell_type": "code",
      "metadata": {
        "id": "lpCLT-OHD5Ae",
        "colab_type": "code",
        "colab": {
          "base_uri": "https://localhost:8080/",
          "height": 670
        },
        "outputId": "5ce7ac4d-794b-44f1-fa09-7dc226f5ccf5"
      },
      "source": [
        "pip install transformers[torch]"
      ],
      "execution_count": null,
      "outputs": [
        {
          "output_type": "stream",
          "text": [
            "Collecting transformers[torch]\n",
            "\u001b[?25l  Downloading https://files.pythonhosted.org/packages/27/3c/91ed8f5c4e7ef3227b4119200fc0ed4b4fd965b1f0172021c25701087825/transformers-3.0.2-py3-none-any.whl (769kB)\n",
            "\u001b[K     |████████████████████████████████| 778kB 8.3MB/s \n",
            "\u001b[?25hCollecting sentencepiece!=0.1.92\n",
            "\u001b[?25l  Downloading https://files.pythonhosted.org/packages/d4/a4/d0a884c4300004a78cca907a6ff9a5e9fe4f090f5d95ab341c53d28cbc58/sentencepiece-0.1.91-cp36-cp36m-manylinux1_x86_64.whl (1.1MB)\n",
            "\u001b[K     |████████████████████████████████| 1.1MB 29.1MB/s \n",
            "\u001b[?25hRequirement already satisfied: dataclasses; python_version < \"3.7\" in /usr/local/lib/python3.6/dist-packages (from transformers[torch]) (0.7)\n",
            "Requirement already satisfied: filelock in /usr/local/lib/python3.6/dist-packages (from transformers[torch]) (3.0.12)\n",
            "Requirement already satisfied: requests in /usr/local/lib/python3.6/dist-packages (from transformers[torch]) (2.23.0)\n",
            "Requirement already satisfied: numpy in /usr/local/lib/python3.6/dist-packages (from transformers[torch]) (1.18.5)\n",
            "Collecting tokenizers==0.8.1.rc1\n",
            "\u001b[?25l  Downloading https://files.pythonhosted.org/packages/40/d0/30d5f8d221a0ed981a186c8eb986ce1c94e3a6e87f994eae9f4aa5250217/tokenizers-0.8.1rc1-cp36-cp36m-manylinux1_x86_64.whl (3.0MB)\n",
            "\u001b[K     |████████████████████████████████| 3.0MB 53.8MB/s \n",
            "\u001b[?25hRequirement already satisfied: tqdm>=4.27 in /usr/local/lib/python3.6/dist-packages (from transformers[torch]) (4.41.1)\n",
            "Requirement already satisfied: regex!=2019.12.17 in /usr/local/lib/python3.6/dist-packages (from transformers[torch]) (2019.12.20)\n",
            "Collecting sacremoses\n",
            "\u001b[?25l  Downloading https://files.pythonhosted.org/packages/7d/34/09d19aff26edcc8eb2a01bed8e98f13a1537005d31e95233fd48216eed10/sacremoses-0.0.43.tar.gz (883kB)\n",
            "\u001b[K     |████████████████████████████████| 890kB 55.6MB/s \n",
            "\u001b[?25hRequirement already satisfied: packaging in /usr/local/lib/python3.6/dist-packages (from transformers[torch]) (20.4)\n",
            "Requirement already satisfied: torch; extra == \"torch\" in /usr/local/lib/python3.6/dist-packages (from transformers[torch]) (1.6.0+cu101)\n",
            "Requirement already satisfied: idna<3,>=2.5 in /usr/local/lib/python3.6/dist-packages (from requests->transformers[torch]) (2.10)\n",
            "Requirement already satisfied: chardet<4,>=3.0.2 in /usr/local/lib/python3.6/dist-packages (from requests->transformers[torch]) (3.0.4)\n",
            "Requirement already satisfied: certifi>=2017.4.17 in /usr/local/lib/python3.6/dist-packages (from requests->transformers[torch]) (2020.6.20)\n",
            "Requirement already satisfied: urllib3!=1.25.0,!=1.25.1,<1.26,>=1.21.1 in /usr/local/lib/python3.6/dist-packages (from requests->transformers[torch]) (1.24.3)\n",
            "Requirement already satisfied: six in /usr/local/lib/python3.6/dist-packages (from sacremoses->transformers[torch]) (1.15.0)\n",
            "Requirement already satisfied: click in /usr/local/lib/python3.6/dist-packages (from sacremoses->transformers[torch]) (7.1.2)\n",
            "Requirement already satisfied: joblib in /usr/local/lib/python3.6/dist-packages (from sacremoses->transformers[torch]) (0.16.0)\n",
            "Requirement already satisfied: pyparsing>=2.0.2 in /usr/local/lib/python3.6/dist-packages (from packaging->transformers[torch]) (2.4.7)\n",
            "Requirement already satisfied: future in /usr/local/lib/python3.6/dist-packages (from torch; extra == \"torch\"->transformers[torch]) (0.16.0)\n",
            "Building wheels for collected packages: sacremoses\n",
            "  Building wheel for sacremoses (setup.py) ... \u001b[?25l\u001b[?25hdone\n",
            "  Created wheel for sacremoses: filename=sacremoses-0.0.43-cp36-none-any.whl size=893260 sha256=1f4d6ee209d16424f63570c0bcac5fdbcb59e8168717addb02af4e09e90f775c\n",
            "  Stored in directory: /root/.cache/pip/wheels/29/3c/fd/7ce5c3f0666dab31a50123635e6fb5e19ceb42ce38d4e58f45\n",
            "Successfully built sacremoses\n",
            "Installing collected packages: sentencepiece, tokenizers, sacremoses, transformers\n",
            "Successfully installed sacremoses-0.0.43 sentencepiece-0.1.91 tokenizers-0.8.1rc1 transformers-3.0.2\n"
          ],
          "name": "stdout"
        }
      ]
    },
    {
      "cell_type": "code",
      "metadata": {
        "id": "lsXCuwx5NZvQ",
        "colab_type": "code",
        "colab": {}
      },
      "source": [
        "!pip install -q -U watermark"
      ],
      "execution_count": null,
      "outputs": []
    },
    {
      "cell_type": "code",
      "metadata": {
        "id": "JxV8sqYrL8Y_",
        "colab_type": "code",
        "colab": {
          "base_uri": "https://localhost:8080/",
          "height": 140
        },
        "outputId": "ebde9526-f38e-435e-9fc7-432d656d704c"
      },
      "source": [
        "%reload_ext watermark\n",
        "%watermark -v -p numpy,pandas,torch,transformers"
      ],
      "execution_count": null,
      "outputs": [
        {
          "output_type": "stream",
          "text": [
            "CPython 3.6.9\n",
            "IPython 5.5.0\n",
            "\n",
            "numpy 1.18.5\n",
            "pandas 1.0.5\n",
            "torch 1.6.0+cu101\n",
            "transformers 3.0.2\n"
          ],
          "name": "stdout"
        }
      ]
    },
    {
      "cell_type": "code",
      "metadata": {
        "id": "u9QA3CkTNsaS",
        "colab_type": "code",
        "colab": {}
      },
      "source": [
        "import transformers\n",
        "from transformers import BertModel, BertForSequenceClassification, BertTokenizer, AdamW, get_linear_schedule_with_warmup\n",
        "import torch\n",
        "import numpy as np\n",
        "import pandas as pd\n",
        "import io\n",
        "import os\n",
        "import requests\n",
        "import seaborn as sns\n",
        "from pylab import rcParams\n",
        "import matplotlib.pyplot as plt\n",
        "from matplotlib import rc\n",
        "from sklearn.model_selection import train_test_split, KFold\n",
        "from sklearn.metrics import confusion_matrix,classification_report, precision_recall_fscore_support, accuracy_score\n",
        "from collections import defaultdict\n",
        "from textwrap import wrap\n",
        "from torch import nn, optim\n",
        "from torch.utils.data import Dataset, DataLoader\n",
        "import torch.nn.functional as F\n",
        "%matplotlib inline\n",
        "%config InlineBackend.figure_format='retina'\n",
        "sns.set(style='whitegrid', palette='muted', font_scale=1.2)\n",
        "HAPPY_COLORS_PALETTE = [\"#01BEFE\", \"#FFDD00\", \"#FF7D00\", \"#FF006D\", \"#ADFF02\", \"#8F00FF\"]\n",
        "sns.set_palette(sns.color_palette(HAPPY_COLORS_PALETTE))\n",
        "rcParams['figure.figsize'] = 12, 8\n",
        "RANDOM_SEED = 42\n",
        "np.random.seed(RANDOM_SEED)\n",
        "torch.manual_seed(RANDOM_SEED)\n",
        "device = torch.device(\"cuda:0\" if torch.cuda.is_available() else \"cpu\")"
      ],
      "execution_count": 77,
      "outputs": []
    },
    {
      "cell_type": "markdown",
      "metadata": {
        "id": "34XASXwJXQVh",
        "colab_type": "text"
      },
      "source": [
        "# Data Exploration"
      ]
    },
    {
      "cell_type": "code",
      "metadata": {
        "id": "qQ5o3tjKDjTn",
        "colab_type": "code",
        "colab": {}
      },
      "source": [
        "#Download tweet data after labelling from Github repository  \n",
        "url=\"https://raw.githubusercontent.com/ngocanh1018/Thesis/master/data1808_balanced_135.csv\"\n",
        "\n",
        "df=pd.read_csv(url)"
      ],
      "execution_count": null,
      "outputs": []
    },
    {
      "cell_type": "code",
      "metadata": {
        "id": "LNajWSkhGADW",
        "colab_type": "code",
        "colab": {
          "base_uri": "https://localhost:8080/",
          "height": 34
        },
        "outputId": "b9f62461-a1b0-4d96-98f0-e36c73964f92"
      },
      "source": [
        "df.shape"
      ],
      "execution_count": null,
      "outputs": [
        {
          "output_type": "execute_result",
          "data": {
            "text/plain": [
              "(405, 8)"
            ]
          },
          "metadata": {
            "tags": []
          },
          "execution_count": 6
        }
      ]
    },
    {
      "cell_type": "code",
      "metadata": {
        "id": "QLga58wIIMWe",
        "colab_type": "code",
        "colab": {
          "base_uri": "https://localhost:8080/",
          "height": 559
        },
        "outputId": "d13609a1-50fc-4fdb-c337-a691029cdffb"
      },
      "source": [
        "df.head(5)"
      ],
      "execution_count": null,
      "outputs": [
        {
          "output_type": "execute_result",
          "data": {
            "text/html": [
              "<div>\n",
              "<style scoped>\n",
              "    .dataframe tbody tr th:only-of-type {\n",
              "        vertical-align: middle;\n",
              "    }\n",
              "\n",
              "    .dataframe tbody tr th {\n",
              "        vertical-align: top;\n",
              "    }\n",
              "\n",
              "    .dataframe thead th {\n",
              "        text-align: right;\n",
              "    }\n",
              "</style>\n",
              "<table border=\"1\" class=\"dataframe\">\n",
              "  <thead>\n",
              "    <tr style=\"text-align: right;\">\n",
              "      <th></th>\n",
              "      <th>Unnamed: 0</th>\n",
              "      <th>Text</th>\n",
              "      <th>Sentiment</th>\n",
              "      <th>Date</th>\n",
              "      <th>Favorites</th>\n",
              "      <th>Retweets</th>\n",
              "      <th>Mentions</th>\n",
              "      <th>HashTags</th>\n",
              "    </tr>\n",
              "  </thead>\n",
              "  <tbody>\n",
              "    <tr>\n",
              "      <th>0</th>\n",
              "      <td>0</td>\n",
              "      <td>#Unemployment at its highest while the #billio...</td>\n",
              "      <td>negative</td>\n",
              "      <td>2020-05-31 22:51:49+00:00</td>\n",
              "      <td>0</td>\n",
              "      <td>4</td>\n",
              "      <td>NaN</td>\n",
              "      <td>#Unemployment #billionaires #bailouts #protest...</td>\n",
              "    </tr>\n",
              "    <tr>\n",
              "      <th>1</th>\n",
              "      <td>2</td>\n",
              "      <td>#global #Shutdown WAS #shutdown #FederalGovt m...</td>\n",
              "      <td>neutral</td>\n",
              "      <td>2020-05-31 20:53:14+00:00</td>\n",
              "      <td>1</td>\n",
              "      <td>0</td>\n",
              "      <td>NaN</td>\n",
              "      <td>#global #Shutdown #shutdown #FederalGovt #mone...</td>\n",
              "    </tr>\n",
              "    <tr>\n",
              "      <th>2</th>\n",
              "      <td>5</td>\n",
              "      <td>Does the stock market go up or down Monday? $S...</td>\n",
              "      <td>neutral</td>\n",
              "      <td>2020-05-31 00:51:18+00:00</td>\n",
              "      <td>1</td>\n",
              "      <td>0</td>\n",
              "      <td>NaN</td>\n",
              "      <td>#stocks #stockmarket</td>\n",
              "    </tr>\n",
              "    <tr>\n",
              "      <th>3</th>\n",
              "      <td>8</td>\n",
              "      <td>#Bullish H&amp;amp;S on $XLNX It's ready for a bre...</td>\n",
              "      <td>positive</td>\n",
              "      <td>2020-05-30 05:10:53+00:00</td>\n",
              "      <td>2</td>\n",
              "      <td>0</td>\n",
              "      <td>NaN</td>\n",
              "      <td>#Bullish #StockMarket #Futures #options #beari...</td>\n",
              "    </tr>\n",
              "    <tr>\n",
              "      <th>4</th>\n",
              "      <td>9</td>\n",
              "      <td>The year is 2020! Wow! #COVID19 #BREAKING #Not...</td>\n",
              "      <td>positive</td>\n",
              "      <td>2020-05-30 00:01:24+00:00</td>\n",
              "      <td>1</td>\n",
              "      <td>2</td>\n",
              "      <td>NaN</td>\n",
              "      <td>#COVID19 #BREAKING #NotDyingForWallStreet #tog...</td>\n",
              "    </tr>\n",
              "  </tbody>\n",
              "</table>\n",
              "</div>"
            ],
            "text/plain": [
              "   Unnamed: 0  ...                                           HashTags\n",
              "0           0  ...  #Unemployment #billionaires #bailouts #protest...\n",
              "1           2  ...  #global #Shutdown #shutdown #FederalGovt #mone...\n",
              "2           5  ...                               #stocks #stockmarket\n",
              "3           8  ...  #Bullish #StockMarket #Futures #options #beari...\n",
              "4           9  ...  #COVID19 #BREAKING #NotDyingForWallStreet #tog...\n",
              "\n",
              "[5 rows x 8 columns]"
            ]
          },
          "metadata": {
            "tags": []
          },
          "execution_count": 7
        }
      ]
    },
    {
      "cell_type": "code",
      "metadata": {
        "id": "FHpeshxfXgu_",
        "colab_type": "code",
        "colab": {
          "base_uri": "https://localhost:8080/",
          "height": 280
        },
        "outputId": "c5bdedb1-60a8-444e-d012-1c40ab08db4e"
      },
      "source": [
        "df.info()"
      ],
      "execution_count": null,
      "outputs": [
        {
          "output_type": "stream",
          "text": [
            "<class 'pandas.core.frame.DataFrame'>\n",
            "RangeIndex: 405 entries, 0 to 404\n",
            "Data columns (total 8 columns):\n",
            " #   Column      Non-Null Count  Dtype \n",
            "---  ------      --------------  ----- \n",
            " 0   Unnamed: 0  405 non-null    int64 \n",
            " 1   Text        405 non-null    object\n",
            " 2   Sentiment   405 non-null    object\n",
            " 3   Date        405 non-null    object\n",
            " 4   Favorites   405 non-null    int64 \n",
            " 5   Retweets    405 non-null    int64 \n",
            " 6   Mentions    60 non-null     object\n",
            " 7   HashTags    283 non-null    object\n",
            "dtypes: int64(3), object(5)\n",
            "memory usage: 25.4+ KB\n"
          ],
          "name": "stdout"
        }
      ]
    },
    {
      "cell_type": "markdown",
      "metadata": {
        "id": "Tt8OWA7mYqGT",
        "colab_type": "text"
      },
      "source": [
        "Date column has the data type of object. We will convert it to datetime"
      ]
    },
    {
      "cell_type": "code",
      "metadata": {
        "id": "LfTJw5B2XqhL",
        "colab_type": "code",
        "colab": {}
      },
      "source": [
        "df.Date = pd.to_datetime(df.Date)"
      ],
      "execution_count": null,
      "outputs": []
    },
    {
      "cell_type": "code",
      "metadata": {
        "id": "ugLkDE_iI3Y0",
        "colab_type": "code",
        "colab": {
          "base_uri": "https://localhost:8080/",
          "height": 506
        },
        "outputId": "3cbe32e5-2d45-4890-efc4-49f3cf29c79f"
      },
      "source": [
        "ax = sns.countplot(df.Sentiment)"
      ],
      "execution_count": null,
      "outputs": [
        {
          "output_type": "display_data",
          "data": {
            "image/png": "[encoded data removed]",
            "text/plain": [
              "<Figure size 864x576 with 1 Axes>"
            ]
          },
          "metadata": {
            "tags": [],
            "image/png": {
              "width": 736,
              "height": 489
            }
          }
        }
      ]
    },
    {
      "cell_type": "code",
      "metadata": {
        "id": "7X3Jpo6rH3an",
        "colab_type": "code",
        "colab": {}
      },
      "source": [
        "def to_sentiment(sentiment):\n",
        "  if sentiment == 'negative':\n",
        "    return 0\n",
        "  elif sentiment == 'neutral':\n",
        "    return 1\n",
        "  else: \n",
        "    return 2\n",
        "\n",
        "df['senti'] = df.Sentiment.apply(to_sentiment)"
      ],
      "execution_count": null,
      "outputs": []
    },
    {
      "cell_type": "code",
      "metadata": {
        "id": "6GxSBeFtYn1B",
        "colab_type": "code",
        "colab": {
          "base_uri": "https://localhost:8080/",
          "height": 298
        },
        "outputId": "f8a959a8-dd10-407f-af82-65233bafc1c3"
      },
      "source": [
        "df.info()"
      ],
      "execution_count": null,
      "outputs": [
        {
          "output_type": "stream",
          "text": [
            "<class 'pandas.core.frame.DataFrame'>\n",
            "RangeIndex: 405 entries, 0 to 404\n",
            "Data columns (total 9 columns):\n",
            " #   Column      Non-Null Count  Dtype              \n",
            "---  ------      --------------  -----              \n",
            " 0   Unnamed: 0  405 non-null    int64              \n",
            " 1   Text        405 non-null    object             \n",
            " 2   Sentiment   405 non-null    object             \n",
            " 3   Date        405 non-null    datetime64[ns, UTC]\n",
            " 4   Favorites   405 non-null    int64              \n",
            " 5   Retweets    405 non-null    int64              \n",
            " 6   Mentions    60 non-null     object             \n",
            " 7   HashTags    283 non-null    object             \n",
            " 8   senti       405 non-null    int64              \n",
            "dtypes: datetime64[ns, UTC](1), int64(4), object(4)\n",
            "memory usage: 28.6+ KB\n"
          ],
          "name": "stdout"
        }
      ]
    },
    {
      "cell_type": "markdown",
      "metadata": {
        "id": "Veg4rD6QSfCC",
        "colab_type": "text"
      },
      "source": [
        "# Pre-processing"
      ]
    },
    {
      "cell_type": "markdown",
      "metadata": {
        "id": "IAS0lYr9acwY",
        "colab_type": "text"
      },
      "source": [
        "## Clean Text\n",
        "For the Text column, we replace all cashtags (e.g: $YHOO) by a common word “cashtag”, all urls (http / https) by a common word (linktag), all users (@howardlindzon, @ OpenOutcri-er...) by a common word usertag and all hashtag with blank space. "
      ]
    },
    {
      "cell_type": "code",
      "metadata": {
        "id": "wdbxbcWqtYIG",
        "colab_type": "code",
        "colab": {}
      },
      "source": [
        "import re\n",
        "def process_tweet(tweet):\n",
        "    tweet = re.sub(r'\\$\\w*','cashtag', str(tweet))\n",
        "    tweet = re.sub(r'\\@\\w*','usertag', str(tweet))\n",
        "    tweet = re.sub('#','', str(tweet))\n",
        "    tweet = re.sub(r'https?:\\/\\/.*[\\r\\n]*','linktag',str(tweet))\n",
        "    tweet = \" \".join(tweet.split())\n",
        "\n",
        "    return tweet"
      ],
      "execution_count": null,
      "outputs": []
    },
    {
      "cell_type": "code",
      "metadata": {
        "id": "I80V4mOItYVB",
        "colab_type": "code",
        "colab": {}
      },
      "source": [
        "df['Text']=df['Text'].apply(process_tweet)"
      ],
      "execution_count": null,
      "outputs": []
    },
    {
      "cell_type": "markdown",
      "metadata": {
        "id": "_8E48TeGbQsJ",
        "colab_type": "text"
      },
      "source": [
        "To prepare data for BERT, the following requirement should be fullfiled: \n",
        "\n",
        "*   Add special tokens to separate sentences and do classification\n",
        "*   Pass sequences of constant length (introduce padding)\n",
        "\n",
        "*   Create array of 0s (pad token) and 1s (real token) called attention mask\n",
        "\n",
        "The Transformers library provides a wide variety of Transformer models (including BERT). It works with TensorFlow and PyTorch. It also includes prebuild tokenizers that support us in the heavy tokenizing tasks. "
      ]
    },
    {
      "cell_type": "markdown",
      "metadata": {
        "id": "YF3nm6vIcjy7",
        "colab_type": "text"
      },
      "source": [
        "The uncased version of BERT and Tokenizer will be loaded:"
      ]
    },
    {
      "cell_type": "code",
      "metadata": {
        "id": "yYyQu79qNsgg",
        "colab_type": "code",
        "colab": {}
      },
      "source": [
        "PRE_TRAINED_MODEL_NAME = 'bert-base-uncased'"
      ],
      "execution_count": null,
      "outputs": []
    },
    {
      "cell_type": "code",
      "metadata": {
        "id": "c6gJO1dBSPes",
        "colab_type": "code",
        "colab": {
          "base_uri": "https://localhost:8080/",
          "height": 66,
          "referenced_widgets": [
            "a6b9fd9e846047e496c79a90be2cec83",
            "b5203b46bebc4af7acde0978f6ce12b9",
            "6b082dd81d3b4cd8a2437aaea2a9efdc",
            "445a68c155eb4bb88e7d34626a407faa",
            "26d98c42b5a2465eab7ee0eec39a2739",
            "f5e4366c10aa4e1b90b9a694a92a390a",
            "b54e393b49304dd4ad1f1bee82211586",
            "b2922aa130824177b85e2a258e9201d2"
          ]
        },
        "outputId": "699f3812-b1c0-441a-ec5f-d4981622d806"
      },
      "source": [
        "tokenizer = BertTokenizer.from_pretrained(PRE_TRAINED_MODEL_NAME)"
      ],
      "execution_count": null,
      "outputs": [
        {
          "output_type": "display_data",
          "data": {
            "application/vnd.jupyter.widget-view+json": {
              "model_id": "a6b9fd9e846047e496c79a90be2cec83",
              "version_minor": 0,
              "version_major": 2
            },
            "text/plain": [
              "HBox(children=(FloatProgress(value=0.0, description='Downloading', max=231508.0, style=ProgressStyle(descripti…"
            ]
          },
          "metadata": {
            "tags": []
          }
        },
        {
          "output_type": "stream",
          "text": [
            "\n"
          ],
          "name": "stdout"
        }
      ]
    },
    {
      "cell_type": "markdown",
      "metadata": {
        "id": "a5KtgP9BdM8t",
        "colab_type": "text"
      },
      "source": [
        "## Special Token\n",
        "* [SEP] - marker for ending of a sentence\n",
        "* [CLS] - add this token to the start of each sentence, so BERT knows we’re doing classification\n",
        "* [PAD] - a special token for padding\n",
        "* [UNK] - BERT understands tokens that were in the training set. Everything else can be encoded using the [UNK] (unknown) token\n",
        "\n",
        "All of that work can be done using the encode_plus() method:"
      ]
    },
    {
      "cell_type": "code",
      "metadata": {
        "id": "AQUYCn94CVAw",
        "colab_type": "code",
        "colab": {}
      },
      "source": [
        "sample_txt = 'Today is the best day ever in the stock market'"
      ],
      "execution_count": null,
      "outputs": []
    },
    {
      "cell_type": "code",
      "metadata": {
        "id": "i_F4lK91CRJz",
        "colab_type": "code",
        "colab": {
          "base_uri": "https://localhost:8080/",
          "height": 34
        },
        "outputId": "9034b28c-9789-448c-c2a7-4d486b7c039f"
      },
      "source": [
        "encoding = tokenizer.encode_plus(\n",
        "  sample_txt,\n",
        "  max_length=32,\n",
        "  truncation = True,\n",
        "  add_special_tokens=True, # Add '[CLS]' and '[SEP]'\n",
        "  return_token_type_ids=False,\n",
        "  pad_to_max_length=True,\n",
        "  return_attention_mask=True,\n",
        "  return_tensors='pt',  # Return PyTorch tensors\n",
        ")\n",
        "\n",
        "encoding.keys()"
      ],
      "execution_count": null,
      "outputs": [
        {
          "output_type": "execute_result",
          "data": {
            "text/plain": [
              "dict_keys(['input_ids', 'attention_mask'])"
            ]
          },
          "metadata": {
            "tags": []
          },
          "execution_count": 41
        }
      ]
    },
    {
      "cell_type": "markdown",
      "metadata": {
        "id": "DxIgNHr1eJ_k",
        "colab_type": "text"
      },
      "source": [
        "The token ids are now stored in a Tensor and padded to a length of 32:"
      ]
    },
    {
      "cell_type": "code",
      "metadata": {
        "id": "Z1egls2BeLT8",
        "colab_type": "code",
        "colab": {
          "base_uri": "https://localhost:8080/",
          "height": 87
        },
        "outputId": "3ebcdf8f-ab71-4384-ac2c-989c80c77d24"
      },
      "source": [
        "print(len(encoding['input_ids'][0]))\n",
        "encoding['input_ids'][0]"
      ],
      "execution_count": null,
      "outputs": [
        {
          "output_type": "stream",
          "text": [
            "32\n"
          ],
          "name": "stdout"
        },
        {
          "output_type": "execute_result",
          "data": {
            "text/plain": [
              "tensor([ 101, 2651, 2003, 1996, 2190, 2154, 2412, 1999, 1996, 4518, 3006,  102,\n",
              "           0,    0,    0,    0,    0,    0,    0,    0,    0,    0,    0,    0,\n",
              "           0,    0,    0,    0,    0,    0,    0,    0])"
            ]
          },
          "metadata": {
            "tags": []
          },
          "execution_count": 42
        }
      ]
    },
    {
      "cell_type": "markdown",
      "metadata": {
        "id": "vKSuDs4Jehwh",
        "colab_type": "text"
      },
      "source": [
        "The attention mask has the same length:"
      ]
    },
    {
      "cell_type": "code",
      "metadata": {
        "id": "DNS5Z3PuejSg",
        "colab_type": "code",
        "colab": {
          "base_uri": "https://localhost:8080/",
          "height": 70
        },
        "outputId": "799aa0e8-171d-49aa-cabc-0696a94d95a5"
      },
      "source": [
        "print(len(encoding['attention_mask'][0]))\n",
        "encoding['attention_mask']"
      ],
      "execution_count": null,
      "outputs": [
        {
          "output_type": "stream",
          "text": [
            "32\n"
          ],
          "name": "stdout"
        },
        {
          "output_type": "execute_result",
          "data": {
            "text/plain": [
              "tensor([[1, 1, 1, 1, 1, 1, 1, 1, 1, 1, 1, 1, 0, 0, 0, 0, 0, 0, 0, 0, 0, 0, 0, 0,\n",
              "         0, 0, 0, 0, 0, 0, 0, 0]])"
            ]
          },
          "metadata": {
            "tags": []
          },
          "execution_count": 43
        }
      ]
    },
    {
      "cell_type": "markdown",
      "metadata": {
        "id": "dkgAzRLuerTg",
        "colab_type": "text"
      },
      "source": [
        "We can inverse the tokenization to have a look at the special tokens:"
      ]
    },
    {
      "cell_type": "code",
      "metadata": {
        "id": "8IniGwxUeqIP",
        "colab_type": "code",
        "colab": {
          "base_uri": "https://localhost:8080/",
          "height": 579
        },
        "outputId": "f8bb3211-ff62-4c6a-8949-0b19c33bc3b9"
      },
      "source": [
        "tokenizer.convert_ids_to_tokens(encoding['input_ids'][0])"
      ],
      "execution_count": null,
      "outputs": [
        {
          "output_type": "execute_result",
          "data": {
            "text/plain": [
              "['[CLS]',\n",
              " 'today',\n",
              " 'is',\n",
              " 'the',\n",
              " 'best',\n",
              " 'day',\n",
              " 'ever',\n",
              " 'in',\n",
              " 'the',\n",
              " 'stock',\n",
              " 'market',\n",
              " '[SEP]',\n",
              " '[PAD]',\n",
              " '[PAD]',\n",
              " '[PAD]',\n",
              " '[PAD]',\n",
              " '[PAD]',\n",
              " '[PAD]',\n",
              " '[PAD]',\n",
              " '[PAD]',\n",
              " '[PAD]',\n",
              " '[PAD]',\n",
              " '[PAD]',\n",
              " '[PAD]',\n",
              " '[PAD]',\n",
              " '[PAD]',\n",
              " '[PAD]',\n",
              " '[PAD]',\n",
              " '[PAD]',\n",
              " '[PAD]',\n",
              " '[PAD]',\n",
              " '[PAD]']"
            ]
          },
          "metadata": {
            "tags": []
          },
          "execution_count": 44
        }
      ]
    },
    {
      "cell_type": "markdown",
      "metadata": {
        "id": "w6r8NxYHe1s-",
        "colab_type": "text"
      },
      "source": [
        "## Choosing Sequence Length\n",
        "\n",
        "Let’s store the token length of each review and choose the maximum as sequence length."
      ]
    },
    {
      "cell_type": "code",
      "metadata": {
        "id": "zZ6MfMF9Jvym",
        "colab_type": "code",
        "colab": {}
      },
      "source": [
        "token_lens = []\n",
        "\n",
        "for txt in df.Text:\n",
        "  tokens = tokenizer.encode(txt, max_length=512, truncation=True)\n",
        "  token_lens.append(len(tokens))"
      ],
      "execution_count": null,
      "outputs": []
    },
    {
      "cell_type": "code",
      "metadata": {
        "id": "bCYix9P4Jvrd",
        "colab_type": "code",
        "colab": {
          "base_uri": "https://localhost:8080/",
          "height": 506
        },
        "outputId": "168c946f-0c3c-48b7-97fa-87f2345b2ceb"
      },
      "source": [
        "sns.distplot(token_lens)\n",
        "plt.xlim([0, 256]);\n",
        "plt.xlabel('Token count');"
      ],
      "execution_count": null,
      "outputs": [
        {
          "output_type": "display_data",
          "data": {
            "image/png": "[encoded data removed]",
            "text/plain": [
              "<Figure size 864x576 with 1 Axes>"
            ]
          },
          "metadata": {
            "tags": [],
            "image/png": {
              "width": 739,
              "height": 489
            }
          }
        }
      ]
    },
    {
      "cell_type": "markdown",
      "metadata": {
        "id": "cpds0VjbM9XP",
        "colab_type": "text"
      },
      "source": [
        "Most of the reviews seem to contain less than 100 tokens. However, we will choose a maximum length of 150."
      ]
    },
    {
      "cell_type": "code",
      "metadata": {
        "id": "vFEB523OJvoS",
        "colab_type": "code",
        "colab": {}
      },
      "source": [
        "MAX_LEN = 150"
      ],
      "execution_count": null,
      "outputs": []
    },
    {
      "cell_type": "markdown",
      "metadata": {
        "id": "NRORtWwmfbyT",
        "colab_type": "text"
      },
      "source": [
        "## Create PyTorch Dataset"
      ]
    },
    {
      "cell_type": "code",
      "metadata": {
        "id": "YTYGMNQnJvmA",
        "colab_type": "code",
        "colab": {}
      },
      "source": [
        "class TweeterDataset(Dataset):\n",
        "\n",
        "  def __init__(self, texts, targets, tokenizer, max_len):\n",
        "    self.texts = texts\n",
        "    self.targets = targets\n",
        "    self.tokenizer = tokenizer\n",
        "    self.max_len = max_len\n",
        "  \n",
        "  def __len__(self):\n",
        "    return len(self.texts)\n",
        "  \n",
        "  def __getitem__(self, item):\n",
        "    text   = str(self.texts[item])\n",
        "    target = self.targets[item]\n",
        "\n",
        "    encoding = self.tokenizer.encode_plus(\n",
        "      text,\n",
        "      add_special_tokens=True,\n",
        "      max_length=self.max_len,\n",
        "      truncation = True,\n",
        "      return_token_type_ids=False,\n",
        "      pad_to_max_length=True,\n",
        "      return_attention_mask=True,\n",
        "      return_tensors='pt',\n",
        "    )\n",
        "\n",
        "    return {\n",
        "      'text': text,\n",
        "      'input_ids': encoding['input_ids'].flatten(),\n",
        "      'attention_mask': encoding['attention_mask'].flatten(),\n",
        "      'targets': torch.tensor(target, dtype=torch.long)\n",
        "    }"
      ],
      "execution_count": null,
      "outputs": []
    },
    {
      "cell_type": "markdown",
      "metadata": {
        "id": "VtgF39jegFN0",
        "colab_type": "text"
      },
      "source": [
        "## Create Data Loader"
      ]
    },
    {
      "cell_type": "code",
      "metadata": {
        "id": "f1YRHNaePOrT",
        "colab_type": "code",
        "colab": {}
      },
      "source": [
        "def create_data_loader(df, tokenizer, max_len, batch_size):\n",
        "  ds = TweeterDataset(\n",
        "    texts=df.Text.to_numpy(),\n",
        "    targets=df.senti.to_numpy(),\n",
        "    tokenizer=tokenizer,\n",
        "    max_len=max_len,\n",
        "    \n",
        "  )\n",
        "\n",
        "  return DataLoader(\n",
        "    ds,\n",
        "    batch_size=batch_size,\n",
        "    num_workers=4\n",
        "  )"
      ],
      "execution_count": null,
      "outputs": []
    },
    {
      "cell_type": "markdown",
      "metadata": {
        "id": "-J4k0MT7gl1f",
        "colab_type": "text"
      },
      "source": [
        "## Sentiment Classification with BERT and HuggingFace"
      ]
    },
    {
      "cell_type": "markdown",
      "metadata": {
        "id": "Hbo-uRCCiMQ7",
        "colab_type": "text"
      },
      "source": [
        "We’ll use the basic BertModel and build our sentiment classifier on top of it"
      ]
    },
    {
      "cell_type": "code",
      "metadata": {
        "id": "0SSRmyPqPPrs",
        "colab_type": "code",
        "colab": {
          "base_uri": "https://localhost:8080/",
          "height": 116,
          "referenced_widgets": [
            "62291a08d1004c57872639461ba0dc7a",
            "2d4a695292e341548691d9e1cd5828f7",
            "6015314edb304bcebb3d9c75e1b43385",
            "17d75c6de01f46ac960b293fb57ac965",
            "bdb310e4bd014e7b8f799c2832c127ba",
            "5ab1a9db5dd54313a31cb9e9bbb13b4f",
            "10ac5637fb3c481abed540eac3ac1acf",
            "2881b7fc64a548cb9108616c67d632e2",
            "3f73e57d50b24eaca9127d2f8f064732",
            "edd154e186fc4844a976946aa5f82c10",
            "fd5c27acd6724a628465cb3910552f67",
            "842d7a32b2104669b8a3346207676ff8",
            "3a6c0dbf11f24a049d694fa641f5b535",
            "897cf57d45cf421e9076f04601d05a1c",
            "4a50efab781c46bdaf2e3111f297c920",
            "1f752b6ef99f49fdb50e7cc2ec90ee5e"
          ]
        },
        "outputId": "4d14df97-b691-45e6-938c-6e310349f4b9"
      },
      "source": [
        "bert_model =  BertModel.from_pretrained(PRE_TRAINED_MODEL_NAME)"
      ],
      "execution_count": null,
      "outputs": [
        {
          "output_type": "display_data",
          "data": {
            "application/vnd.jupyter.widget-view+json": {
              "model_id": "62291a08d1004c57872639461ba0dc7a",
              "version_minor": 0,
              "version_major": 2
            },
            "text/plain": [
              "HBox(children=(FloatProgress(value=0.0, description='Downloading', max=433.0, style=ProgressStyle(description_…"
            ]
          },
          "metadata": {
            "tags": []
          }
        },
        {
          "output_type": "stream",
          "text": [
            "\n"
          ],
          "name": "stdout"
        },
        {
          "output_type": "display_data",
          "data": {
            "application/vnd.jupyter.widget-view+json": {
              "model_id": "3f73e57d50b24eaca9127d2f8f064732",
              "version_minor": 0,
              "version_major": 2
            },
            "text/plain": [
              "HBox(children=(FloatProgress(value=0.0, description='Downloading', max=440473133.0, style=ProgressStyle(descri…"
            ]
          },
          "metadata": {
            "tags": []
          }
        },
        {
          "output_type": "stream",
          "text": [
            "\n"
          ],
          "name": "stdout"
        }
      ]
    },
    {
      "cell_type": "markdown",
      "metadata": {
        "id": "Spvwu9thiZFh",
        "colab_type": "text"
      },
      "source": [
        "We defined the sequence length of 32 tokens in the previous section. The number of hidden units in the feedforward-networks of BERT is 768"
      ]
    },
    {
      "cell_type": "code",
      "metadata": {
        "id": "tlZwB_tAiGay",
        "colab_type": "code",
        "colab": {
          "base_uri": "https://localhost:8080/",
          "height": 34
        },
        "outputId": "24d2d75c-be7b-49dc-f980-bea88ea2c6df"
      },
      "source": [
        "bert_model.config.hidden_size"
      ],
      "execution_count": null,
      "outputs": [
        {
          "output_type": "execute_result",
          "data": {
            "text/plain": [
              "768"
            ]
          },
          "metadata": {
            "tags": []
          },
          "execution_count": 52
        }
      ]
    },
    {
      "cell_type": "markdown",
      "metadata": {
        "id": "hujngH_6jequ",
        "colab_type": "text"
      },
      "source": [
        "### Create a Classifier using BERT model"
      ]
    },
    {
      "cell_type": "code",
      "metadata": {
        "id": "QZqIKh6pPOyJ",
        "colab_type": "code",
        "colab": {}
      },
      "source": [
        "class SentimentClassifier(nn.Module):\n",
        "\n",
        "  def __init__(self, n_classes):\n",
        "    super(SentimentClassifier, self).__init__()\n",
        "    self.bert = BertModel.from_pretrained(PRE_TRAINED_MODEL_NAME)\n",
        "    self.drop = nn.Dropout(p=0.3)\n",
        "    self.out = nn.Linear(self.bert.config.hidden_size, n_classes)\n",
        "  \n",
        "  def forward(self, input_ids, attention_mask):\n",
        "    _, pooled_output = self.bert(\n",
        "      input_ids=input_ids,\n",
        "      attention_mask=attention_mask\n",
        "    )\n",
        "    output = self.drop(pooled_output)\n",
        "    return self.out(output)"
      ],
      "execution_count": null,
      "outputs": []
    },
    {
      "cell_type": "code",
      "metadata": {
        "id": "URe1sjA9ku8E",
        "colab_type": "code",
        "colab": {}
      },
      "source": [
        "class_names = ['negative', 'neutral', 'positive']\n",
        "model = SentimentClassifier(len(class_names))\n",
        "model = model.to(device)"
      ],
      "execution_count": null,
      "outputs": []
    },
    {
      "cell_type": "markdown",
      "metadata": {
        "id": "f_d5GDipdc4G",
        "colab_type": "text"
      },
      "source": [
        "### Training "
      ]
    },
    {
      "cell_type": "markdown",
      "metadata": {
        "id": "XHxjIlDPkBVy",
        "colab_type": "text"
      },
      "source": [
        "#### Optimizer and Scheduler\n",
        "\n",
        "we’ll use the AdamW optimizer provided by Hugging Face. It corrects weight decay, so it’s similar to the original paper. We’ll also use a linear scheduler with no warmup steps:"
      ]
    },
    {
      "cell_type": "code",
      "metadata": {
        "id": "svSxNLD1Tftf",
        "colab_type": "code",
        "colab": {}
      },
      "source": [
        "def OptimizerSchedulerLoss(model,train_data_loader,epochs):\n",
        "  EPOCHS = epochs\n",
        "  optimizer = AdamW(model.parameters(), lr=2e-5, correct_bias=False)\n",
        "  total_steps = len(train_data_loader) * EPOCHS\n",
        "\n",
        "  scheduler = get_linear_schedule_with_warmup(\n",
        "      optimizer,\n",
        "      num_warmup_steps=0,\n",
        "      num_training_steps=total_steps\n",
        "      )\n",
        "\n",
        "  loss_fn = nn.CrossEntropyLoss().to(device)\n",
        "\n",
        "  return optimizer, scheduler, loss_fn"
      ],
      "execution_count": null,
      "outputs": []
    },
    {
      "cell_type": "markdown",
      "metadata": {
        "id": "wOrdfVHinJDU",
        "colab_type": "text"
      },
      "source": [
        "#### Train Epoch"
      ]
    },
    {
      "cell_type": "code",
      "metadata": {
        "id": "DZkVFEp9Tfye",
        "colab_type": "code",
        "colab": {}
      },
      "source": [
        "def train_epoch(\n",
        "  model, \n",
        "  data_loader, \n",
        "  loss_fn, \n",
        "  optimizer, \n",
        "  device, \n",
        "  scheduler, \n",
        "  n_examples\n",
        "):\n",
        "  model = model.train()\n",
        "\n",
        "  losses = []\n",
        "  correct_predictions = 0\n",
        "  \n",
        "  for d in data_loader:\n",
        "    input_ids = d[\"input_ids\"].to(device)\n",
        "    attention_mask = d[\"attention_mask\"].to(device)\n",
        "    targets = d[\"targets\"].to(device)\n",
        "\n",
        "    outputs = model(\n",
        "      input_ids=input_ids,\n",
        "      attention_mask=attention_mask\n",
        "    )\n",
        "\n",
        "    _, preds = torch.max(outputs, dim=1)\n",
        "    loss = loss_fn(outputs, targets)\n",
        "\n",
        "    correct_predictions += torch.sum(preds == targets)\n",
        "    losses.append(loss.item())\n",
        "\n",
        "    loss.backward()\n",
        "    nn.utils.clip_grad_norm_(model.parameters(), max_norm=1.0)\n",
        "    optimizer.step()\n",
        "    scheduler.step()\n",
        "    optimizer.zero_grad()\n",
        "\n",
        "  return correct_predictions.double() / n_examples, np.mean(losses)"
      ],
      "execution_count": null,
      "outputs": []
    },
    {
      "cell_type": "markdown",
      "metadata": {
        "id": "drf1XZ2rnSTh",
        "colab_type": "text"
      },
      "source": [
        "### Evaluation Model"
      ]
    },
    {
      "cell_type": "code",
      "metadata": {
        "id": "GWdjHt4ITf6j",
        "colab_type": "code",
        "colab": {}
      },
      "source": [
        "def eval_model(model, data_loader, loss_fn, device, n_examples):\n",
        "  model = model.eval()\n",
        "\n",
        "  losses = []\n",
        "  correct_predictions = 0\n",
        "\n",
        "  with torch.no_grad():\n",
        "    for d in data_loader:\n",
        "      input_ids = d[\"input_ids\"].to(device)\n",
        "      attention_mask = d[\"attention_mask\"].to(device)\n",
        "      targets = d[\"targets\"].to(device)\n",
        "\n",
        "      outputs = model(\n",
        "        input_ids=input_ids,\n",
        "        attention_mask=attention_mask\n",
        "      )\n",
        "      _, preds = torch.max(outputs, dim=1)\n",
        "\n",
        "      loss = loss_fn(outputs, targets)\n",
        "\n",
        "      correct_predictions += torch.sum(preds == targets)\n",
        "      losses.append(loss.item())\n",
        "\n",
        "  return correct_predictions.double() / n_examples, np.mean(losses)"
      ],
      "execution_count": null,
      "outputs": []
    },
    {
      "cell_type": "markdown",
      "metadata": {
        "id": "Ebq0pv18nnXL",
        "colab_type": "text"
      },
      "source": [
        "### Get Prediction"
      ]
    },
    {
      "cell_type": "code",
      "metadata": {
        "id": "DSLY2wKBv4nH",
        "colab_type": "code",
        "colab": {}
      },
      "source": [
        "def get_predictions(model, data_loader):\n",
        "  model = model.eval()\n",
        "  \n",
        "  texts = []\n",
        "  predictions = []\n",
        "  prediction_probs = []\n",
        "  real_values = []\n",
        "\n",
        "  with torch.no_grad():\n",
        "    for d in data_loader:\n",
        "\n",
        "      texts = d[\"text\"]\n",
        "      input_ids = d[\"input_ids\"].to(device)\n",
        "      attention_mask = d[\"attention_mask\"].to(device)\n",
        "      targets = d[\"targets\"].to(device)\n",
        "\n",
        "      outputs = model(\n",
        "        input_ids=input_ids,\n",
        "        attention_mask=attention_mask\n",
        "      )\n",
        "      _, preds = torch.max(outputs, dim=1)\n",
        "\n",
        "      probs = F.softmax(outputs, dim=1)\n",
        "\n",
        "      texts.extend(texts)\n",
        "      predictions.extend(preds)\n",
        "      prediction_probs.extend(probs)\n",
        "      real_values.extend(targets)\n",
        "\n",
        "  predictions = torch.stack(predictions).cpu()\n",
        "  prediction_probs = torch.stack(prediction_probs).cpu()\n",
        "  real_values = torch.stack(real_values).cpu()\n",
        "  return texts, predictions, prediction_probs, real_values\n"
      ],
      "execution_count": null,
      "outputs": []
    },
    {
      "cell_type": "markdown",
      "metadata": {
        "id": "ySRNPnFinsHU",
        "colab_type": "text"
      },
      "source": [
        "### Implement"
      ]
    },
    {
      "cell_type": "code",
      "metadata": {
        "id": "Jei-LENjl3gd",
        "colab_type": "code",
        "colab": {
          "base_uri": "https://localhost:8080/",
          "height": 1000
        },
        "outputId": "b58e12b1-7224-4229-844e-42f55602d9e1"
      },
      "source": [
        "%%time\n",
        "BATCH_SIZE = 16\n",
        "EPOCHS = 10\n",
        "n=5\n",
        "\n",
        "kf = KFold(n_splits=n, random_state=1, shuffle=True)\n",
        "\n",
        "best_results = []\n",
        "history = defaultdict(list)\n",
        "\n",
        "k_fold = 1\n",
        "\n",
        "for train_index, val_index in kf.split(df):  \n",
        "  # splitting Dataframe (dataset not included)\n",
        "    df_train = df.iloc[train_index]\n",
        "    df_val = df.iloc[val_index]\n",
        "\n",
        "  # create data loader\n",
        "    train_data_loader = create_data_loader(df_train, tokenizer, MAX_LEN, BATCH_SIZE)\n",
        "    val_data_loader = create_data_loader(df_val, tokenizer, MAX_LEN, BATCH_SIZE)\n",
        "\n",
        "  # calcualte opimizer, scheduler, loss \n",
        "    optimizer, scheduler, loss_fn = OptimizerSchedulerLoss(\n",
        "        model,\n",
        "        train_data_loader,\n",
        "        EPOCHS\n",
        "        )\n",
        "    \n",
        "    print(f'Cross Validation: fold {k_fold}')\n",
        "\n",
        "  # create training loop\n",
        "    best_accuracy = 0\n",
        "    best_prescision = 0\n",
        "    best_fscore = 0\n",
        "    best_recall = 0\n",
        "\n",
        "    for epoch in range(EPOCHS):\n",
        "      print(f'Epoch {epoch + 1}/{EPOCHS}')\n",
        "      print('-' * 10)\n",
        "      train_acc, train_loss = train_epoch(\n",
        "          model,\n",
        "          train_data_loader,    \n",
        "          loss_fn, \n",
        "          optimizer, \n",
        "          device, \n",
        "          scheduler, \n",
        "          len(df_train)\n",
        "          )\n",
        "\n",
        "      print(f'Train loss {train_loss} accuracy {train_acc}')\n",
        "\n",
        "      val_acc, val_loss = eval_model(\n",
        "          model,\n",
        "          val_data_loader,\n",
        "          loss_fn, \n",
        "          device, \n",
        "          len(df_val)\n",
        "          )\n",
        "      \n",
        "      print(f'Val   loss {val_loss} accuracy {val_acc}')\n",
        "\n",
        "      y_texts, y_pred, y_pred_probs, y_test = get_predictions(\n",
        "          model,\n",
        "          val_data_loader\n",
        "          )\n",
        "       \n",
        "      precision, recall, fscore, support = precision_recall_fscore_support(\n",
        "          y_test, \n",
        "          y_pred, \n",
        "          average='macro')\n",
        "      \n",
        "      print(f'Precision {precision} Recall {recall} Fscore {fscore} Support {support}')\n",
        "      print()\n",
        "\n",
        "      history['train_acc'].append(train_acc)\n",
        "      history['train_loss'].append(train_loss)\n",
        "      history['val_acc'].append(val_acc)\n",
        "      history['val_loss'].append(val_loss)\n",
        "      history['precision'].append(precision)\n",
        "      history['fscore'].append(fscore)\n",
        "      history['recall'].append(recall)\n",
        "      history['support'].append(support) \n",
        "\n",
        "      if val_acc > best_accuracy:\n",
        "        torch.save(model.state_dict(), 'best_model_state.bin')\n",
        "        best_accuracy = val_acc\n",
        "        best_precision = precision\n",
        "        best_fscore = fscore\n",
        "        best_recall = recall\n",
        "        best_support = support\n",
        "\n",
        "    best_results.append([best_accuracy,best_precision,best_fscore,best_recall,best_support])\n",
        "    k_fold += 1\n",
        "    "
      ],
      "execution_count": null,
      "outputs": [
        {
          "output_type": "stream",
          "text": [
            "Cross Validation: fold 1\n",
            "Epoch 1/10\n",
            "----------\n",
            "Train loss 1.077476143836975 accuracy 0.4012345679012346\n",
            "Val   loss 1.1188303232192993 accuracy 0.37037037037037035\n"
          ],
          "name": "stdout"
        },
        {
          "output_type": "stream",
          "text": [
            "/usr/local/lib/python3.6/dist-packages/sklearn/metrics/_classification.py:1272: UndefinedMetricWarning: Precision and F-score are ill-defined and being set to 0.0 in labels with no predicted samples. Use `zero_division` parameter to control this behavior.\n",
            "  _warn_prf(average, modifier, msg_start, len(result))\n"
          ],
          "name": "stderr"
        },
        {
          "output_type": "stream",
          "text": [
            "Precision 0.44298245614035087 Recall 0.38383838383838387 Fscore 0.25273579989577905 Support None\n",
            "\n",
            "Epoch 2/10\n",
            "----------\n",
            "Train loss 1.0279338615281242 accuracy 0.46296296296296297\n",
            "Val   loss 1.1905691822369893 accuracy 0.41975308641975306\n",
            "Precision 0.25213675213675213 Recall 0.3466666666666667 Fscore 0.22200772200772198 Support None\n",
            "\n",
            "Epoch 3/10\n",
            "----------\n",
            "Train loss 1.0805944034031458 accuracy 0.37037037037037035\n",
            "Val   loss 1.2144728799661 accuracy 0.4691358024691358\n",
            "Precision 0.32702020202020204 Recall 0.44202020202020204 Fscore 0.36640376366403765 Support None\n",
            "\n",
            "Epoch 4/10\n",
            "----------\n",
            "Train loss 0.8638508234705243 accuracy 0.5462962962962963\n",
            "Val   loss 0.9433294336001078 accuracy 0.49382716049382713\n",
            "Precision 0.37762237762237766 Recall 0.4918752744839701 Fscore 0.39692887150514267 Support None\n",
            "\n",
            "Epoch 5/10\n",
            "----------\n",
            "Train loss 0.6298186410041082 accuracy 0.6728395061728395\n",
            "Val   loss 0.993694672981898 accuracy 0.6666666666666666\n",
            "Precision 0.6723076923076924 Recall 0.6695125164690383 Fscore 0.663642761179707 Support None\n",
            "\n",
            "Epoch 6/10\n",
            "----------\n",
            "Train loss 0.39179942863328115 accuracy 0.8641975308641975\n",
            "Val   loss 1.248478502035141 accuracy 0.6049382716049383\n",
            "Precision 0.6139846743295019 Recall 0.5903381642512078 Fscore 0.5750206782464846 Support None\n",
            "\n",
            "Epoch 7/10\n",
            "----------\n",
            "Train loss 0.18016334835972106 accuracy 0.941358024691358\n",
            "Val   loss 1.2040331413348515 accuracy 0.6172839506172839\n",
            "Precision 0.6416653424439853 Recall 0.6270355731225297 Fscore 0.6172839506172839 Support None\n",
            "\n",
            "Epoch 8/10\n",
            "----------\n",
            "Train loss 0.050422169268131256 accuracy 0.9876543209876543\n",
            "Val   loss 1.3689969629049301 accuracy 0.6049382716049383\n",
            "Precision 0.6180977611552647 Recall 0.6137022397891964 Fscore 0.6041242707909374 Support None\n",
            "\n",
            "Epoch 9/10\n",
            "----------\n",
            "Train loss 0.018169726999033065 accuracy 1.0\n",
            "Val   loss 1.5141668419043224 accuracy 0.6172839506172839\n",
            "Precision 0.6282395919492694 Recall 0.6238032498902064 Fscore 0.615831517792302 Support None\n",
            "\n",
            "Epoch 10/10\n",
            "----------\n",
            "Train loss 0.011943527896489416 accuracy 1.0\n",
            "Val   loss 1.5259344031413395 accuracy 0.5925925925925926\n",
            "Precision 0.6091523935002195 Recall 0.6003689064558629 Fscore 0.5914285714285715 Support None\n",
            "\n",
            "Cross Validation: fold 2\n",
            "Epoch 1/10\n",
            "----------\n",
            "Train loss 0.5181962225497478 accuracy 0.8333333333333334\n",
            "Val   loss 0.1696728647996982 accuracy 0.9629629629629629\n",
            "Precision 0.9585858585858587 Recall 0.9626216077828982 Fscore 0.959983357421276 Support None\n",
            "\n",
            "Epoch 2/10\n",
            "----------\n",
            "Train loss 0.33036790291468304 accuracy 0.8919753086419753\n",
            "Val   loss 0.14608170526723066 accuracy 0.9382716049382716\n",
            "Precision 0.9333333333333332 Recall 0.9293924466338259 Fscore 0.9311010059253135 Support None\n",
            "\n",
            "Epoch 3/10\n",
            "----------\n",
            "Train loss 0.14565487540814848 accuracy 0.9506172839506173\n",
            "Val   loss 0.24062149758295467 accuracy 0.9506172839506173\n",
            "Precision 0.9498172514619884 Recall 0.9408866995073892 Fscore 0.9444265088332885 Support None\n",
            "\n",
            "Epoch 4/10\n",
            "----------\n",
            "Train loss 0.17879997183834867 accuracy 0.9598765432098766\n",
            "Val   loss 0.3038502605243896 accuracy 0.9012345679012346\n",
            "Precision 0.9059139784946236 Recall 0.9087875417130146 Fscore 0.8958766302219813 Support None\n",
            "\n",
            "Epoch 5/10\n",
            "----------\n",
            "Train loss 0.04163202706591359 accuracy 0.9938271604938271\n",
            "Val   loss 0.18641177440683046 accuracy 0.9506172839506173\n",
            "Precision 0.9479166666666666 Recall 0.9540229885057471 Fscore 0.9477954144620812 Support None\n",
            "\n",
            "Epoch 6/10\n",
            "----------\n",
            "Train loss 0.03786709594229857 accuracy 0.9938271604938271\n",
            "Val   loss 0.26672791472325724 accuracy 0.9135802469135802\n",
            "Precision 0.9151732377538829 Recall 0.9202817945865777 Fscore 0.9091191066997518 Support None\n",
            "\n",
            "Epoch 7/10\n",
            "----------\n",
            "Train loss 0.02836734339195703 accuracy 0.9938271604938271\n",
            "Val   loss 0.27054049470461905 accuracy 0.9012345679012346\n",
            "Precision 0.9059139784946236 Recall 0.9087875417130146 Fscore 0.8958766302219813 Support None\n",
            "\n",
            "Epoch 8/10\n",
            "----------\n",
            "Train loss 0.02710279347818522 accuracy 0.9938271604938271\n",
            "Val   loss 0.31209965275290114 accuracy 0.9012345679012346\n",
            "Precision 0.9059139784946236 Recall 0.9087875417130146 Fscore 0.8958766302219813 Support None\n",
            "\n",
            "Epoch 9/10\n",
            "----------\n",
            "Train loss 0.01937602139410696 accuracy 0.9938271604938271\n",
            "Val   loss 0.3349679965370645 accuracy 0.9012345679012346\n",
            "Precision 0.9059139784946236 Recall 0.9087875417130146 Fscore 0.8958766302219813 Support None\n",
            "\n",
            "Epoch 10/10\n",
            "----------\n",
            "Train loss 0.009647022683306463 accuracy 0.9969135802469136\n",
            "Val   loss 0.34606826258823276 accuracy 0.9012345679012346\n",
            "Precision 0.9059139784946236 Recall 0.9087875417130146 Fscore 0.8958766302219813 Support None\n",
            "\n",
            "Cross Validation: fold 3\n",
            "Epoch 1/10\n",
            "----------\n",
            "Train loss 0.23819459493859627 accuracy 0.9228395061728395\n",
            "Val   loss 0.07468935775492962 accuracy 0.9753086419753086\n",
            "Precision 0.9776556776556777 Recall 0.9746031746031746 Fscore 0.9758101614629592 Support None\n",
            "\n",
            "Epoch 2/10\n",
            "----------\n",
            "Train loss 0.06832267836822818 accuracy 0.9783950617283951\n",
            "Val   loss 0.028532825361859675 accuracy 0.9876543209876543\n",
            "Precision 0.9871794871794872 Recall 0.9904761904761905 Fscore 0.9886331344131856 Support None\n",
            "\n",
            "Epoch 3/10\n",
            "----------\n",
            "Train loss 0.06037128223328009 accuracy 0.9845679012345679\n",
            "Val   loss 0.061488937756318286 accuracy 0.9753086419753086\n",
            "Precision 0.9771428571428572 Recall 0.9771428571428572 Fscore 0.9771428571428572 Support None\n",
            "\n",
            "Epoch 4/10\n",
            "----------\n",
            "Train loss 0.020164329300834134 accuracy 0.9969135802469136\n",
            "Val   loss 0.1161718859996957 accuracy 0.9753086419753086\n",
            "Precision 0.981981981981982 Recall 0.9707936507936509 Fscore 0.9758079383514923 Support None\n",
            "\n",
            "Epoch 5/10\n",
            "----------\n",
            "Train loss 0.0008436181406501592 accuracy 1.0\n",
            "Val   loss 0.05689735516352812 accuracy 0.9876543209876543\n",
            "Precision 0.9907407407407408 Recall 0.9866666666666667 Fscore 0.9885024432308134 Support None\n",
            "\n",
            "Epoch 6/10\n",
            "----------\n",
            "Train loss 0.00023147330821735696 accuracy 1.0\n",
            "Val   loss 0.04990134212130215 accuracy 0.9876543209876543\n",
            "Precision 0.9907407407407408 Recall 0.9866666666666667 Fscore 0.9885024432308134 Support None\n",
            "\n",
            "Epoch 7/10\n",
            "----------\n",
            "Train loss 0.00019895753177392872 accuracy 1.0\n",
            "Val   loss 0.048391418766793017 accuracy 0.9876543209876543\n",
            "Precision 0.9907407407407408 Recall 0.9866666666666667 Fscore 0.9885024432308134 Support None\n",
            "\n",
            "Epoch 8/10\n",
            "----------\n",
            "Train loss 0.00019011326921394183 accuracy 1.0\n",
            "Val   loss 0.047048509877640754 accuracy 0.9876543209876543\n",
            "Precision 0.9907407407407408 Recall 0.9866666666666667 Fscore 0.9885024432308134 Support None\n",
            "\n",
            "Epoch 9/10\n",
            "----------\n",
            "Train loss 0.00018199940885616734 accuracy 1.0\n",
            "Val   loss 0.04631239491451803 accuracy 0.9876543209876543\n",
            "Precision 0.9907407407407408 Recall 0.9866666666666667 Fscore 0.9885024432308134 Support None\n",
            "\n",
            "Epoch 10/10\n",
            "----------\n",
            "Train loss 0.00017322613261750943 accuracy 1.0\n",
            "Val   loss 0.04624398983287392 accuracy 0.9876543209876543\n",
            "Precision 0.9907407407407408 Recall 0.9866666666666667 Fscore 0.9885024432308134 Support None\n",
            "\n",
            "Cross Validation: fold 4\n",
            "Epoch 1/10\n",
            "----------\n",
            "Train loss 0.09906110532271366 accuracy 0.9845679012345679\n",
            "Val   loss 0.019084870336276556 accuracy 0.9876543209876543\n",
            "Precision 0.9885057471264368 Recall 0.9855072463768115 Fscore 0.9867446393762184 Support None\n",
            "\n",
            "Epoch 2/10\n",
            "----------\n",
            "Train loss 0.13615436888080912 accuracy 0.9722222222222222\n",
            "Val   loss 0.1690348799699374 accuracy 0.9753086419753086\n",
            "Precision 0.9777530589543938 Recall 0.9710144927536232 Fscore 0.9735360507577936 Support None\n",
            "\n",
            "Epoch 3/10\n",
            "----------\n",
            "Train loss 0.09858557005576413 accuracy 0.9814814814814815\n",
            "Val   loss 0.2061362122221908 accuracy 0.9629629629629629\n",
            "Precision 0.9615384615384616 Recall 0.9650793650793651 Fscore 0.9615964402082238 Support None\n",
            "\n",
            "Epoch 4/10\n",
            "----------\n",
            "Train loss 0.10907501063636682 accuracy 0.9783950617283951\n",
            "Val   loss 0.04595157237539146 accuracy 0.9753086419753086\n",
            "Precision 0.9747545582047685 Recall 0.9736024844720497 Fscore 0.9739821594418885 Support None\n",
            "\n",
            "Epoch 5/10\n",
            "----------\n",
            "Train loss 0.01128729661217048 accuracy 0.9969135802469136\n",
            "Val   loss 0.0002369569253157048 accuracy 1.0\n",
            "Precision 1.0 Recall 1.0 Fscore 1.0 Support None\n",
            "\n",
            "Epoch 6/10\n",
            "----------\n",
            "Train loss 0.0002668972658630948 accuracy 1.0\n",
            "Val   loss 0.00012931876881339122 accuracy 1.0\n",
            "Precision 1.0 Recall 1.0 Fscore 1.0 Support None\n",
            "\n",
            "Epoch 7/10\n",
            "----------\n",
            "Train loss 0.00017631761632704487 accuracy 1.0\n",
            "Val   loss 0.00010014213451844019 accuracy 1.0\n",
            "Precision 1.0 Recall 1.0 Fscore 1.0 Support None\n",
            "\n",
            "Epoch 8/10\n",
            "----------\n",
            "Train loss 0.00014726537726043412 accuracy 1.0\n",
            "Val   loss 8.806694495433476e-05 accuracy 1.0\n",
            "Precision 1.0 Recall 1.0 Fscore 1.0 Support None\n",
            "\n",
            "Epoch 9/10\n",
            "----------\n",
            "Train loss 0.00014911096721854328 accuracy 1.0\n",
            "Val   loss 8.523409026868951e-05 accuracy 1.0\n",
            "Precision 1.0 Recall 1.0 Fscore 1.0 Support None\n",
            "\n",
            "Epoch 10/10\n",
            "----------\n",
            "Train loss 0.00013657896661676378 accuracy 1.0\n",
            "Val   loss 8.362001123411271e-05 accuracy 1.0\n",
            "Precision 1.0 Recall 1.0 Fscore 1.0 Support None\n",
            "\n",
            "Cross Validation: fold 5\n",
            "Epoch 1/10\n",
            "----------\n",
            "Train loss 0.08480647783740312 accuracy 0.9783950617283951\n",
            "Val   loss 0.0013610598471132107 accuracy 1.0\n",
            "Precision 1.0 Recall 1.0 Fscore 1.0 Support None\n",
            "\n",
            "Epoch 2/10\n",
            "----------\n",
            "Train loss 0.0006106598708096758 accuracy 1.0\n",
            "Val   loss 4.962299014247643e-05 accuracy 1.0\n",
            "Precision 1.0 Recall 1.0 Fscore 1.0 Support None\n",
            "\n",
            "Epoch 3/10\n",
            "----------\n",
            "Train loss 0.018541821400244123 accuracy 0.9969135802469136\n",
            "Val   loss 3.9452996437224407e-05 accuracy 1.0\n",
            "Precision 1.0 Recall 1.0 Fscore 1.0 Support None\n",
            "\n",
            "Epoch 4/10\n",
            "----------\n",
            "Train loss 0.03265441088738693 accuracy 0.9938271604938271\n",
            "Val   loss 0.00019222032430358618 accuracy 1.0\n",
            "Precision 1.0 Recall 1.0 Fscore 1.0 Support None\n",
            "\n",
            "Epoch 5/10\n",
            "----------\n",
            "Train loss 7.109187390597071e-05 accuracy 1.0\n",
            "Val   loss 0.10443602382656536 accuracy 0.9876543209876543\n",
            "Precision 0.9855072463768115 Recall 0.9871794871794872 Fscore 0.9860566448801743 Support None\n",
            "\n",
            "Epoch 6/10\n",
            "----------\n",
            "Train loss 0.0003265224339494515 accuracy 1.0\n",
            "Val   loss 7.263748617939807e-05 accuracy 1.0\n",
            "Precision 1.0 Recall 1.0 Fscore 1.0 Support None\n",
            "\n",
            "Epoch 7/10\n",
            "----------\n",
            "Train loss 3.920601011486724e-05 accuracy 1.0\n",
            "Val   loss 2.773160000894374e-05 accuracy 1.0\n",
            "Precision 1.0 Recall 1.0 Fscore 1.0 Support None\n",
            "\n",
            "Epoch 8/10\n",
            "----------\n",
            "Train loss 9.730408098784253e-05 accuracy 1.0\n",
            "Val   loss 2.5037281981591757e-05 accuracy 1.0\n",
            "Precision 1.0 Recall 1.0 Fscore 1.0 Support None\n",
            "\n",
            "Epoch 9/10\n",
            "----------\n",
            "Train loss 3.699347984192649e-05 accuracy 1.0\n",
            "Val   loss 2.4592738251764484e-05 accuracy 1.0\n",
            "Precision 1.0 Recall 1.0 Fscore 1.0 Support None\n",
            "\n",
            "Epoch 10/10\n",
            "----------\n",
            "Train loss 3.150499521455329e-05 accuracy 1.0\n",
            "Val   loss 2.4360539403763443e-05 accuracy 1.0\n",
            "Precision 1.0 Recall 1.0 Fscore 1.0 Support None\n",
            "\n",
            "CPU times: user 6h 54min 50s, sys: 13min 29s, total: 7h 8min 20s\n",
            "Wall time: 7h 9min 26s\n"
          ],
          "name": "stdout"
        }
      ]
    },
    {
      "cell_type": "code",
      "metadata": {
        "id": "0civsioRsKSF",
        "colab_type": "code",
        "colab": {}
      },
      "source": [
        "best_results_df = pd.DataFrame(best_results, columns = ['Accuracy', 'Precision', 'FScore','Recall', 'Support'])"
      ],
      "execution_count": null,
      "outputs": []
    },
    {
      "cell_type": "code",
      "metadata": {
        "id": "b98h6YOksKPG",
        "colab_type": "code",
        "colab": {}
      },
      "source": [
        "best_results_df"
      ],
      "execution_count": null,
      "outputs": []
    },
    {
      "cell_type": "code",
      "metadata": {
        "id": "NzJKHM9asKLZ",
        "colab_type": "code",
        "colab": {
          "base_uri": "https://localhost:8080/",
          "height": 34
        },
        "outputId": "7cb68b34-4378-41d0-ce3f-d41449662212"
      },
      "source": [
        " best_results_df.Precision.mean(),  best_results_df.Precision.std()"
      ],
      "execution_count": null,
      "outputs": [
        {
          "output_type": "execute_result",
          "data": {
            "text/plain": [
              "(0.9236146076146078, 0.14149920876935113)"
            ]
          },
          "metadata": {
            "tags": []
          },
          "execution_count": 54
        }
      ]
    },
    {
      "cell_type": "code",
      "metadata": {
        "id": "xzJZKDVN2Jmr",
        "colab_type": "code",
        "colab": {
          "base_uri": "https://localhost:8080/",
          "height": 34
        },
        "outputId": "a4aeca31-f2bc-41c3-b890-62c997b2c571"
      },
      "source": [
        " best_results_df.FScore.mean(),  best_results_df.FScore.std()"
      ],
      "execution_count": null,
      "outputs": [
        {
          "output_type": "execute_result",
          "data": {
            "text/plain": [
              "(0.9224518506028337, 0.1456006113042864)"
            ]
          },
          "metadata": {
            "tags": []
          },
          "execution_count": 55
        }
      ]
    },
    {
      "cell_type": "code",
      "metadata": {
        "id": "Qgbzt5Dn2Jw9",
        "colab_type": "code",
        "colab": {
          "base_uri": "https://localhost:8080/",
          "height": 34
        },
        "outputId": "fa8c1bd1-d86a-456a-c7fe-65f3cf856ed3"
      },
      "source": [
        " best_results_df.Recall.mean(),  best_results_df.Recall.std()"
      ],
      "execution_count": null,
      "outputs": [
        {
          "output_type": "execute_result",
          "data": {
            "text/plain": [
              "(0.9245220629456254, 0.14337470925279003)"
            ]
          },
          "metadata": {
            "tags": []
          },
          "execution_count": 56
        }
      ]
    },
    {
      "cell_type": "code",
      "metadata": {
        "id": "pxtllFjN2JiS",
        "colab_type": "code",
        "colab": {
          "base_uri": "https://localhost:8080/",
          "height": 34
        },
        "outputId": "8d937ebc-9927-4fe3-892d-bd41b41f81ba"
      },
      "source": [
        "accuracy_list = [0.6667, 0.9630, 0.9877, 1, 1]\n",
        "np.mean(accuracy_list), np.std(accuracy_list)"
      ],
      "execution_count": null,
      "outputs": [
        {
          "output_type": "execute_result",
          "data": {
            "text/plain": [
              "(0.92348, 0.1290988985235738)"
            ]
          },
          "metadata": {
            "tags": []
          },
          "execution_count": 43
        }
      ]
    },
    {
      "cell_type": "markdown",
      "metadata": {
        "id": "x91mgkJJcDY_",
        "colab_type": "text"
      },
      "source": [
        "### Load the best model and test some random texts"
      ]
    },
    {
      "cell_type": "code",
      "metadata": {
        "id": "tHG9eosG-fpy",
        "colab_type": "code",
        "colab": {
          "base_uri": "https://localhost:8080/",
          "height": 87
        },
        "outputId": "b5c9f054-ca0f-4b30-bf99-855362da150c"
      },
      "source": [
        "!gdown --id 1nWvag_B9cqFC5bbh0mOj3tPGQeUreC2o\n",
        "model = SentimentClassifier(len(class_names))\n",
        "model.load_state_dict(torch.load('best_model_state.bin')) \n",
        "model = model.to(device)"
      ],
      "execution_count": 159,
      "outputs": [
        {
          "output_type": "stream",
          "text": [
            "Downloading...\n",
            "From: https://drive.google.com/uc?id=1nWvag_B9cqFC5bbh0mOj3tPGQeUreC2o\n",
            "To: /content/best_model_state.bin\n",
            "438MB [00:02, 192MB/s]\n"
          ],
          "name": "stdout"
        }
      ]
    },
    {
      "cell_type": "code",
      "metadata": {
        "id": "rVBL-w5qFR_T",
        "colab_type": "code",
        "colab": {}
      },
      "source": [
        "text = 'I am sad'"
      ],
      "execution_count": 154,
      "outputs": []
    },
    {
      "cell_type": "code",
      "metadata": {
        "id": "ZbbHnJVRFXgW",
        "colab_type": "code",
        "colab": {
          "base_uri": "https://localhost:8080/",
          "height": 52
        },
        "outputId": "1d5c6559-9325-4280-eb90-5f581f6e7fa6"
      },
      "source": [
        "MAX_LEN = 150\n",
        "encoded_text = tokenizer.encode_plus(\n",
        "  text,\n",
        "  max_length=MAX_LEN,\n",
        "  truncation = True, \n",
        "  add_special_tokens=True,\n",
        "  return_token_type_ids=False,\n",
        "  pad_to_max_length=True,\n",
        "  return_attention_mask=True,\n",
        "  return_tensors='pt',\n",
        ")\n",
        "\n",
        "input_ids = encoded_text['input_ids'].to(device)\n",
        "attention_mask = encoded_text['attention_mask'].to(device)\n",
        "output = model(input_ids, attention_mask)\n",
        "_, prediction = torch.max(output, dim=1)\n",
        "print(f'Text       : {text}')\n",
        "print(f'Sentiment  : {class_names[prediction]}')"
      ],
      "execution_count": 155,
      "outputs": [
        {
          "output_type": "stream",
          "text": [
            "Text       : I am sad\n",
            "Sentiment  : negative\n"
          ],
          "name": "stdout"
        }
      ]
    },
    {
      "cell_type": "code",
      "metadata": {
        "id": "YHncoz7WlhPM",
        "colab_type": "code",
        "colab": {}
      },
      "source": [
        " #Download tweet data after labelling from Github repository  \n",
        "url=\"https://raw.githubusercontent.com/ngocanh1018/Thesis/master/data1808_remain.csv\"\n",
        "\n",
        "df_remain =pd.read_csv(url)"
      ],
      "execution_count": 137,
      "outputs": []
    },
    {
      "cell_type": "code",
      "metadata": {
        "id": "kElIsBYBmas6",
        "colab_type": "code",
        "colab": {}
      },
      "source": [
        "pred_sentiment=[]\n",
        "for i in range(0,df_remain.shape[0]):\n",
        "  text = process_tweet(df_remain.Text.iloc[i])\n",
        "  encoded_text = tokenizer.encode_plus(\n",
        "      text,\n",
        "      max_length=MAX_LEN,\n",
        "      truncation = True, \n",
        "      add_special_tokens=True,\n",
        "      return_token_type_ids=False,\n",
        "      pad_to_max_length=True,\n",
        "      return_attention_mask=True,\n",
        "      return_tensors='pt',\n",
        "    )\n",
        "  \n",
        "  input_ids = encoded_text['input_ids'].to(device)\n",
        "  attention_mask = encoded_text['attention_mask'].to(device)\n",
        "  output = model(input_ids, attention_mask)\n",
        "  _, prediction = torch.max(output, dim=1)\n",
        "\n",
        "  pred_sentiment.append(class_names[prediction])\n"
      ],
      "execution_count": 138,
      "outputs": []
    },
    {
      "cell_type": "code",
      "metadata": {
        "id": "q8ABv9ouNd1E",
        "colab_type": "code",
        "colab": {}
      },
      "source": [
        "df_remain['pred_sentiment']= pred_sentiment"
      ],
      "execution_count": 139,
      "outputs": []
    },
    {
      "cell_type": "code",
      "metadata": {
        "id": "kaatCcnPNdyK",
        "colab_type": "code",
        "colab": {
          "base_uri": "https://localhost:8080/",
          "height": 736
        },
        "outputId": "bcd826c1-30af-4ca1-a683-1aaaf31c4656"
      },
      "source": [
        "df_remain"
      ],
      "execution_count": 140,
      "outputs": [
        {
          "output_type": "execute_result",
          "data": {
            "text/html": [
              "<div>\n",
              "<style scoped>\n",
              "    .dataframe tbody tr th:only-of-type {\n",
              "        vertical-align: middle;\n",
              "    }\n",
              "\n",
              "    .dataframe tbody tr th {\n",
              "        vertical-align: top;\n",
              "    }\n",
              "\n",
              "    .dataframe thead th {\n",
              "        text-align: right;\n",
              "    }\n",
              "</style>\n",
              "<table border=\"1\" class=\"dataframe\">\n",
              "  <thead>\n",
              "    <tr style=\"text-align: right;\">\n",
              "      <th></th>\n",
              "      <th>Unnamed: 0</th>\n",
              "      <th>Text</th>\n",
              "      <th>Date</th>\n",
              "      <th>Favorites</th>\n",
              "      <th>Retweets</th>\n",
              "      <th>Mentions</th>\n",
              "      <th>HashTags</th>\n",
              "      <th>pred_sentiment</th>\n",
              "    </tr>\n",
              "  </thead>\n",
              "  <tbody>\n",
              "    <tr>\n",
              "      <th>0</th>\n",
              "      <td>3</td>\n",
              "      <td>Finally, a breakout and a new all time high. $...</td>\n",
              "      <td>2020-05-31 13:01:52+00:00</td>\n",
              "      <td>0</td>\n",
              "      <td>0</td>\n",
              "      <td>NaN</td>\n",
              "      <td>#StockMarket #Futures #options #bearish #Oil #...</td>\n",
              "      <td>negative</td>\n",
              "    </tr>\n",
              "    <tr>\n",
              "      <th>1</th>\n",
              "      <td>4</td>\n",
              "      <td>Do you think the stock market and DJI will fal...</td>\n",
              "      <td>2020-05-31 10:18:19+00:00</td>\n",
              "      <td>0</td>\n",
              "      <td>1</td>\n",
              "      <td>NaN</td>\n",
              "      <td>NaN</td>\n",
              "      <td>neutral</td>\n",
              "    </tr>\n",
              "    <tr>\n",
              "      <th>2</th>\n",
              "      <td>6</td>\n",
              "      <td>The fact that the stock market has been perfec...</td>\n",
              "      <td>2020-05-30 21:13:53+00:00</td>\n",
              "      <td>0</td>\n",
              "      <td>2</td>\n",
              "      <td>NaN</td>\n",
              "      <td>NaN</td>\n",
              "      <td>negative</td>\n",
              "    </tr>\n",
              "    <tr>\n",
              "      <th>3</th>\n",
              "      <td>7</td>\n",
              "      <td>Imagine stock market could approach the long-t...</td>\n",
              "      <td>2020-05-30 11:53:13+00:00</td>\n",
              "      <td>0</td>\n",
              "      <td>0</td>\n",
              "      <td>NaN</td>\n",
              "      <td>NaN</td>\n",
              "      <td>negative</td>\n",
              "    </tr>\n",
              "    <tr>\n",
              "      <th>4</th>\n",
              "      <td>12</td>\n",
              "      <td>Dow Jones. Still valid. #stocks #trading #Stoc...</td>\n",
              "      <td>2020-05-29 13:57:39+00:00</td>\n",
              "      <td>0</td>\n",
              "      <td>0</td>\n",
              "      <td>NaN</td>\n",
              "      <td>#stocks #trading #StockMarket #DJI</td>\n",
              "      <td>positive</td>\n",
              "    </tr>\n",
              "    <tr>\n",
              "      <th>...</th>\n",
              "      <td>...</td>\n",
              "      <td>...</td>\n",
              "      <td>...</td>\n",
              "      <td>...</td>\n",
              "      <td>...</td>\n",
              "      <td>...</td>\n",
              "      <td>...</td>\n",
              "      <td>...</td>\n",
              "    </tr>\n",
              "    <tr>\n",
              "      <th>661</th>\n",
              "      <td>1154</td>\n",
              "      <td>#SP500: Nota en https://www.linkedin.com/posts...</td>\n",
              "      <td>2020-03-01 23:14:18+00:00</td>\n",
              "      <td>0</td>\n",
              "      <td>1</td>\n",
              "      <td>NaN</td>\n",
              "      <td>#SP500 #NYSE #StockMarket #Trading #Investing ...</td>\n",
              "      <td>neutral</td>\n",
              "    </tr>\n",
              "    <tr>\n",
              "      <th>662</th>\n",
              "      <td>1156</td>\n",
              "      <td>Dow crashed most of professionals could not an...</td>\n",
              "      <td>2020-03-01 16:32:19+00:00</td>\n",
              "      <td>0</td>\n",
              "      <td>0</td>\n",
              "      <td>NaN</td>\n",
              "      <td>#dji #StockMarket #stockmarketcrash #nifty50 #...</td>\n",
              "      <td>negative</td>\n",
              "    </tr>\n",
              "    <tr>\n",
              "      <th>663</th>\n",
              "      <td>1157</td>\n",
              "      <td>$SPX $SPY $DJI $DJIA $AAPL $AMD $NDX #gold #si...</td>\n",
              "      <td>2020-03-01 15:52:53+00:00</td>\n",
              "      <td>0</td>\n",
              "      <td>2</td>\n",
              "      <td>NaN</td>\n",
              "      <td>#gold #silver</td>\n",
              "      <td>neutral</td>\n",
              "    </tr>\n",
              "    <tr>\n",
              "      <th>664</th>\n",
              "      <td>1158</td>\n",
              "      <td>What if Powell comes out today and says he agr...</td>\n",
              "      <td>2020-03-01 15:31:40+00:00</td>\n",
              "      <td>1</td>\n",
              "      <td>0</td>\n",
              "      <td>NaN</td>\n",
              "      <td>NaN</td>\n",
              "      <td>neutral</td>\n",
              "    </tr>\n",
              "    <tr>\n",
              "      <th>665</th>\n",
              "      <td>1161</td>\n",
              "      <td>The Week That Wiped $3.6 Trillion Off the Stoc...</td>\n",
              "      <td>2020-03-01 12:06:08+00:00</td>\n",
              "      <td>1</td>\n",
              "      <td>4</td>\n",
              "      <td>NaN</td>\n",
              "      <td>#DJI #SP500 #NASDAQ #FTSE #CAC40 #DAX #NIKKEI</td>\n",
              "      <td>neutral</td>\n",
              "    </tr>\n",
              "  </tbody>\n",
              "</table>\n",
              "<p>666 rows × 8 columns</p>\n",
              "</div>"
            ],
            "text/plain": [
              "     Unnamed: 0  ... pred_sentiment\n",
              "0             3  ...       negative\n",
              "1             4  ...        neutral\n",
              "2             6  ...       negative\n",
              "3             7  ...       negative\n",
              "4            12  ...       positive\n",
              "..          ...  ...            ...\n",
              "661        1154  ...        neutral\n",
              "662        1156  ...       negative\n",
              "663        1157  ...        neutral\n",
              "664        1158  ...        neutral\n",
              "665        1161  ...        neutral\n",
              "\n",
              "[666 rows x 8 columns]"
            ]
          },
          "metadata": {
            "tags": []
          },
          "execution_count": 140
        }
      ]
    },
    {
      "cell_type": "code",
      "metadata": {
        "id": "ugNZUq3VE5j_",
        "colab_type": "code",
        "colab": {}
      },
      "source": [
        "df_remain.to_csv('data1808_remain_predict.csv')"
      ],
      "execution_count": 158,
      "outputs": []
    },
    {
      "cell_type": "markdown",
      "metadata": {
        "id": "hlfduA2Kbudp",
        "colab_type": "text"
      },
      "source": [
        "## Sentiment Analysis with Naive Bayes "
      ]
    },
    {
      "cell_type": "code",
      "metadata": {
        "id": "KNz2a3mHb31Q",
        "colab_type": "code",
        "colab": {}
      },
      "source": [
        "from sklearn.naive_bayes import MultinomialNB\n",
        "from sklearn.feature_extraction.text import CountVectorizer\n",
        "from nltk.tokenize import RegexpTokenizer\n",
        "token = RegexpTokenizer(r'[a-zA-Z0-9]+')\n",
        "MNB = MultinomialNB()"
      ],
      "execution_count": null,
      "outputs": []
    },
    {
      "cell_type": "code",
      "metadata": {
        "id": "rSsW9eDKdUye",
        "colab_type": "code",
        "colab": {}
      },
      "source": [
        "n=5\n",
        "kf = KFold(n_splits=n, random_state= 1, shuffle=True)\n",
        "NB_result = []\n",
        "\n",
        "for train_index, val_index in kf.split(df):\n",
        "  # splitting Dataframe \n",
        "  df_train = df.iloc[train_index]\n",
        "  df_val = df.iloc[val_index]\n",
        "\n",
        "  vectorizer_train = CountVectorizer(\n",
        "      stop_words='english',\n",
        "      ngram_range = (1,1),\n",
        "      tokenizer = token.tokenize\n",
        "      )\n",
        "  \n",
        "  X_train = vectorizer_train.fit_transform(df_train['Text'])\n",
        "\n",
        "  vectorizer_test = CountVectorizer(\n",
        "      vocabulary=vectorizer_train.vocabulary_\n",
        "      )\n",
        "  \n",
        "  X_test = vectorizer_test.transform(df_val['Text'])\n",
        "  \n",
        "  Y_train = df_train['senti']\n",
        "  Y_test = df_val['senti']\n",
        "\n",
        "  MNB.fit(X_train, Y_train)\n",
        "  \n",
        "  predicted = MNB.predict(X_test)\n",
        "\n",
        "  accuracy = accuracy_score(predicted, Y_test)\n",
        "  precision, recall, fscore, support = precision_recall_fscore_support(\n",
        "      predicted, \n",
        "      Y_test, \n",
        "      average='macro'\n",
        "      )\n",
        "\n",
        "  NB_result.append([accuracy, precision, recall, fscore])"
      ],
      "execution_count": null,
      "outputs": []
    },
    {
      "cell_type": "code",
      "metadata": {
        "id": "N17PgawOilZO",
        "colab_type": "code",
        "colab": {
          "base_uri": "https://localhost:8080/",
          "height": 199
        },
        "outputId": "4632d708-19f8-4367-8ede-003bd2404622"
      },
      "source": [
        "NB_result_df = pd.DataFrame(NB_result, columns=['Accuracy','Precision', 'Recall','Fscore'])\n",
        "NB_result_df"
      ],
      "execution_count": null,
      "outputs": [
        {
          "output_type": "execute_result",
          "data": {
            "text/html": [
              "<div>\n",
              "<style scoped>\n",
              "    .dataframe tbody tr th:only-of-type {\n",
              "        vertical-align: middle;\n",
              "    }\n",
              "\n",
              "    .dataframe tbody tr th {\n",
              "        vertical-align: top;\n",
              "    }\n",
              "\n",
              "    .dataframe thead th {\n",
              "        text-align: right;\n",
              "    }\n",
              "</style>\n",
              "<table border=\"1\" class=\"dataframe\">\n",
              "  <thead>\n",
              "    <tr style=\"text-align: right;\">\n",
              "      <th></th>\n",
              "      <th>Accuracy</th>\n",
              "      <th>Precision</th>\n",
              "      <th>Recall</th>\n",
              "      <th>Fscore</th>\n",
              "    </tr>\n",
              "  </thead>\n",
              "  <tbody>\n",
              "    <tr>\n",
              "      <th>0</th>\n",
              "      <td>0.481481</td>\n",
              "      <td>0.474326</td>\n",
              "      <td>0.483862</td>\n",
              "      <td>0.471429</td>\n",
              "    </tr>\n",
              "    <tr>\n",
              "      <th>1</th>\n",
              "      <td>0.543210</td>\n",
              "      <td>0.549323</td>\n",
              "      <td>0.547136</td>\n",
              "      <td>0.539991</td>\n",
              "    </tr>\n",
              "    <tr>\n",
              "      <th>2</th>\n",
              "      <td>0.469136</td>\n",
              "      <td>0.495238</td>\n",
              "      <td>0.482222</td>\n",
              "      <td>0.471181</td>\n",
              "    </tr>\n",
              "    <tr>\n",
              "      <th>3</th>\n",
              "      <td>0.555556</td>\n",
              "      <td>0.551484</td>\n",
              "      <td>0.559711</td>\n",
              "      <td>0.553873</td>\n",
              "    </tr>\n",
              "    <tr>\n",
              "      <th>4</th>\n",
              "      <td>0.493827</td>\n",
              "      <td>0.520979</td>\n",
              "      <td>0.534088</td>\n",
              "      <td>0.485924</td>\n",
              "    </tr>\n",
              "  </tbody>\n",
              "</table>\n",
              "</div>"
            ],
            "text/plain": [
              "   Accuracy  Precision    Recall    Fscore\n",
              "0  0.481481   0.474326  0.483862  0.471429\n",
              "1  0.543210   0.549323  0.547136  0.539991\n",
              "2  0.469136   0.495238  0.482222  0.471181\n",
              "3  0.555556   0.551484  0.559711  0.553873\n",
              "4  0.493827   0.520979  0.534088  0.485924"
            ]
          },
          "metadata": {
            "tags": []
          },
          "execution_count": 29
        }
      ]
    },
    {
      "cell_type": "code",
      "metadata": {
        "id": "UpmyCOQYi47I",
        "colab_type": "code",
        "colab": {
          "base_uri": "https://localhost:8080/",
          "height": 34
        },
        "outputId": "0213ecd2-ef03-464b-f820-4003fa930af6"
      },
      "source": [
        "NB_result_df.Accuracy.mean(), NB_result_df.Accuracy.std()"
      ],
      "execution_count": null,
      "outputs": [
        {
          "output_type": "execute_result",
          "data": {
            "text/plain": [
              "(0.508641975308642, 0.03845039877135171)"
            ]
          },
          "metadata": {
            "tags": []
          },
          "execution_count": 30
        }
      ]
    },
    {
      "cell_type": "code",
      "metadata": {
        "id": "PMDiSJ9_jDSu",
        "colab_type": "code",
        "colab": {
          "base_uri": "https://localhost:8080/",
          "height": 34
        },
        "outputId": "0b592ecd-de75-4628-9a90-f437cab1d1ff"
      },
      "source": [
        "NB_result_df.Precision.mean(), NB_result_df.Precision.std()"
      ],
      "execution_count": null,
      "outputs": [
        {
          "output_type": "execute_result",
          "data": {
            "text/plain": [
              "(0.5182699292614658, 0.033676144894115044)"
            ]
          },
          "metadata": {
            "tags": []
          },
          "execution_count": 31
        }
      ]
    },
    {
      "cell_type": "code",
      "metadata": {
        "id": "-3QFzR3ejDfy",
        "colab_type": "code",
        "colab": {
          "base_uri": "https://localhost:8080/",
          "height": 34
        },
        "outputId": "728d76e6-396b-42f3-f9db-eb684b1e8ad4"
      },
      "source": [
        "NB_result_df.Recall.mean(), NB_result_df.Recall.std()"
      ],
      "execution_count": null,
      "outputs": [
        {
          "output_type": "execute_result",
          "data": {
            "text/plain": [
              "(0.5214038522234424, 0.036176618161296734)"
            ]
          },
          "metadata": {
            "tags": []
          },
          "execution_count": 33
        }
      ]
    },
    {
      "cell_type": "code",
      "metadata": {
        "id": "S2qFLqa9jDoD",
        "colab_type": "code",
        "colab": {
          "base_uri": "https://localhost:8080/",
          "height": 34
        },
        "outputId": "402e3090-d518-4e16-9264-3dd034c5ecec"
      },
      "source": [
        "NB_result_df.Fscore.mean(), NB_result_df.Fscore.std()"
      ],
      "execution_count": null,
      "outputs": [
        {
          "output_type": "execute_result",
          "data": {
            "text/plain": [
              "(0.5044795940650334, 0.03951643543532163)"
            ]
          },
          "metadata": {
            "tags": []
          },
          "execution_count": 35
        }
      ]
    }
  ]
}